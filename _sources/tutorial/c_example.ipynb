{
 "cells": [
  {
   "cell_type": "markdown",
   "metadata": {},
   "source": [
    "# Building Dengo Library\n",
    "In this chapter, we will walk through how to build the C library with the template provided in `dengo.templates`. This is particularly useful when one wants to extend the solver to solve the chemistry alongside hydrodynamical simulations like `enzo`. \n",
    "\n",
    "In this example, we will stick with the 2-species primordial chemistry model we used in the last two chapters."
   ]
  },
  {
   "cell_type": "markdown",
   "metadata": {},
   "source": [
    "## Generate templates with `ChemicalNetwork.write_solver`\n",
    "With the `ChemicalNetwork` object, `Dengo` can write the C solver.\n",
    "The corresponding auxillary library paths are needed to be set as the **environomental variables**, in order to compile our python modules.\n",
    "\n",
    "- <font color='green'>HDF5_DIR </font>          (HDF5 installation path)\n",
    "- <font color='green'>CVODE_PATH </font>        (CVode installation path)\n",
    "- <font color='green'>SUITESPARSE_PATH </font>  (SuiteSparse library which is optional unless we use `KLU` option)\n",
    "- <font color='green'> DENGO_INSTALL_PATH</font> (Installation Path of Dengo)\n",
    "\n",
    "`ChemicalNetwork.write_solver` writes serveral files\n",
    "\n",
    "### Main components that drives `Dengo` C-solver\n",
    "\n",
    "- <font color='blue'>{{solver_name}}_solver.h </font>\n",
    "- <font color='blue'>{{solver_name}}_solver.C </font>(major modules in Dengo)\n",
    "- <font color='blue'>{{solver_name}}_solver_main.h </font>\n",
    "- <font color='blue'>{{solver_name}}_solver_main.C </font>(example script to use the C library) \n",
    "- <font color='blue'>initialize_cvode_solver.C </font>(wrapper function for the CVode library)\n",
    "- <font color='blue'>Makefile </font>(to compile the dengo library `libdengo.a`)\n",
    "\n",
    "### Helper function to compile `Dengo` C files for `Python` wrapper\n",
    "- <font color='blue'>{{solver_name}}_solver_run.pyxbld </font>\n",
    "- <font color='blue'>{{solver_name}}_solver_run.pyxdep </font>\n",
    "- <font color='blue'>{{solver_name}}_solver_run.pxd </font>\n",
    "- <font color='blue'>{{solver_name}}_solver_run.pyx </font> (major Python wrapper)"
   ]
  },
  {
   "cell_type": "markdown",
   "metadata": {},
   "source": [
    "## Import Libraries and Create the Network\n",
    "\n",
    "Primordial rates and cooling for the 9-species network are included in the default dengo library in `dengo.primordial_rates` and `dengo.primordial_cooling`. The reactions and cooling are added automatically to the `reaction_registry`, `cooling_registry` and `species_registry` with the call to `dengo.primordial_rates.setup_primordial`.  Here we setup the same sample network we demonstrated in the last chapter with `k01`, `k02` and `reHII`."
   ]
  },
  {
   "cell_type": "code",
   "execution_count": 1,
   "metadata": {},
   "outputs": [
    {
     "name": "stdout",
     "output_type": "stream",
     "text": [
      "Adding reaction: k01 : 1*H_1 + 1*de => 1*H_2 + 2*de\n",
      "Adding reaction: k02 : 1*H_2 + 1*de => 1*H_1\n"
     ]
    }
   ],
   "source": [
    "import dengo\n",
    "from dengo.chemical_network import \\\n",
    " ChemicalNetwork, \\\n",
    " reaction_registry, \\\n",
    " cooling_registry, species_registry\n",
    "import dengo.primordial_rates\n",
    "import dengo.primordial_cooling\n",
    "\n",
    "dengo.primordial_rates.setup_primordial()\n",
    "\n",
    "simpleNetwork = ChemicalNetwork()\n",
    "simpleNetwork.add_reaction(\"k01\")\n",
    "simpleNetwork.add_reaction(\"k02\")\n",
    "simpleNetwork.add_cooling(\"reHII\")\n",
    "simpleNetwork.init_temperature((1e0, 1e8))"
   ]
  },
  {
   "cell_type": "code",
   "execution_count": 2,
   "metadata": {},
   "outputs": [],
   "source": [
    "simpleNetwork.write_solver(\n",
    "    \"simple\", output_dir = \".\", \n",
    "    solver_template = \"cv_omp/sundials_CVDls\", \n",
    "    ode_solver_source = \"initialize_cvode_solver.C\"\n",
    ")"
   ]
  },
  {
   "cell_type": "markdown",
   "metadata": {},
   "source": [
    "## Build Cython Module\n",
    "The solver templates come with a `.pyx` files that lets you build a python interface to the C-library.\n",
    "In the below we show how the cython module can be built and used.\n",
    "`{solver_name}_solver_run.run_{solver_name}(init_values, dt, niter)` is the entry point for the built solver.\n",
    "It takes an dictionary that contains the abundances, and thermal energy, an $dt$, time to advance the fluid parcel, and `niter` the maximum number of iterations as arguments.\n",
    "It assumes that abundances are in number density with the units of $\\rm cm^{-3}$, and thermal energy in $erg/g$. `niter` implicitly sets the initial timestep for the solver, i.e. $df_{solver} = df/ \\rm niter$.\n",
    "Our `cython` module gives the same trajectories as what we had done from scratch with the previous chapters!"
   ]
  },
  {
   "cell_type": "code",
   "execution_count": 6,
   "metadata": {},
   "outputs": [
    {
     "name": "stdout",
     "output_type": "stream",
     "text": [
      "You have suitesparse!\n"
     ]
    },
    {
     "name": "stderr",
     "output_type": "stream",
     "text": [
      "/home/kwoksun2/anaconda3/lib/python3.8/site-packages/Cython/Compiler/Main.py:369: FutureWarning: Cython directive 'language_level' not set, using 2 for now (Py2). This will change in a later release! File: /mnt/gv0/homes/kwoksun2/dengo-merge/cookbook/simple_solver_run.pxd\n",
      "  tree = Parsing.p_module(s, pxd, full_module_name)\n",
      "cc1plus: warning: command line option '-Wstrict-prototypes' is valid for C/ObjC but not for C++\n",
      "cc1plus: warning: command line option '-Wstrict-prototypes' is valid for C/ObjC but not for C++\n",
      "cc1plus: warning: command line option '-Wstrict-prototypes' is valid for C/ObjC but not for C++\n"
     ]
    }
   ],
   "source": [
    "import pyximport\n",
    "import numpy as np\n",
    "pyximport.install(\n",
    "    setup_args={\"include_dirs\":np.get_include()},\n",
    "    reload_support=True, \n",
    "    inplace=True, \n",
    "    language_level=3\n",
    ")\n",
    "\n",
    "simple_solver_run = pyximport.load_module(\n",
    "    \"simple_solver_run\",\n",
    "    \"simple_solver_run.pyx\",\n",
    "    build_inplace = True, \n",
    "    pyxbuild_dir = \"_dengo_temp\", \n",
    "    )"
   ]
  },
  {
   "cell_type": "code",
   "execution_count": 10,
   "metadata": {},
   "outputs": [
    {
     "name": "stdout",
     "output_type": "stream",
     "text": [
      "Successful iteration[    0]: (1.000e+11) 1.000e+11 / 1.000e+16\n",
      "End in 97 iterations: 1.00000e+16 / 1.00000e+16 (0.00000e+00)\n"
     ]
    }
   ],
   "source": [
    "NCELLS = 1\n",
    "density = 1e-2\n",
    "\n",
    "init_array = np.ones(NCELLS) * density\n",
    "init_values = dict()\n",
    "init_values['H_1']     = init_array \n",
    "init_values['H_2']     = init_array \n",
    "init_values['de']      = init_array \n",
    "init_values['ge']      = np.ones(NCELLS)*1e13\n",
    "\n",
    "total_density = simpleNetwork.calculate_total_density(init_values)\n",
    "init_values = simpleNetwork.convert_to_mass_density(init_values)\n",
    "init_values['de'] = simpleNetwork.calculate_free_electrons(init_values)\n",
    "init_values['density'] = simpleNetwork.calculate_total_density(init_values)\n",
    "number_density = simpleNetwork.calculate_number_density(init_values)\n",
    "\n",
    "rv, rv_int = simple_solver_run.run_simple(init_values, 1e16, niter = 1e5)"
   ]
  },
  {
   "cell_type": "code",
   "execution_count": 11,
   "metadata": {},
   "outputs": [
    {
     "name": "stderr",
     "output_type": "stream",
     "text": [
      "/tmp/ipykernel_5005/4291065558.py:27: UserWarning: You have mixed positional and keyword arguments, some input may be discarded.\n",
      "  f.legend(\n"
     ]
    },
    {
     "data": {
      "image/png": "[encoded data removed]",
      "text/plain": [
       "<Figure size 432x288 with 2 Axes>"
      ]
     },
     "metadata": {
      "needs_background": "light"
     },
     "output_type": "display_data"
    }
   ],
   "source": [
    "import matplotlib.pyplot as plt\n",
    "flags = rv_int['t'] > 0\n",
    "sp_names = [s.name for s in sorted(simpleNetwork.required_species)]\n",
    "output = np.zeros((len(sp_names),sum(flags)))\n",
    "                  \n",
    "for i, s in enumerate(sp_names):\n",
    "    output[i] = rv_int[s][:,flags]\n",
    "\n",
    "H_1_traj, H_2_traj, de_traj, ge_traj = output\n",
    "T_traj    = rv_int['T'][0,flags]\n",
    "timesteps = rv_int['t'][flags]\n",
    "\n",
    "\n",
    "f, ax = plt.subplots()\n",
    "l1= ax.loglog(timesteps, H_1_traj)\n",
    "l2= ax.loglog(timesteps, H_2_traj)\n",
    "l3= ax.loglog(timesteps, de_traj)\n",
    "ax2 = ax.twinx()\n",
    "l4= ax2.loglog(timesteps, T_traj, color='C3')\n",
    "\n",
    "\n",
    "ax.set_ylabel(r\"Abundance ($\\rm cm^{-3}$)\")\n",
    "ax2.set_ylabel(\"Temperature (K)\")\n",
    "\n",
    "ax.set_xlabel(\"Time (s)\")\n",
    "\n",
    "f.legend(\n",
    "    [l1,l2,l3,l4], \n",
    "    labels=[r'$\\rm H$',r'$\\rm H^+$',r'$\\rm e^-$',r'$\\rm T$'],\n",
    "    loc=[0.15,0.4]\n",
    ")\n",
    "plt.subplots_adjust(right=0.85)"
   ]
  },
  {
   "cell_type": "markdown",
   "metadata": {},
   "source": [
    "## Main components that drives `Dengo` C-solver\n",
    "\n",
    "In brief, similar to the example we shown before with the python RHS function, the C templates generate primarily solvers\n",
    "\n",
    "- <font color='blue'>{{solver_name}}_solver.h </font>\n",
    "- <font color='blue'>{{solver_name}}_solver.C </font>(major modules in Dengo)\n",
    "- <font color='blue'>{{solver_name}}_solver_main.h </font>\n",
    "- <font color='blue'>{{solver_name}}_solver_main.C </font>(example script to use the C library) \n",
    "- <font color='blue'>initialize_cvode_solver.C </font>(wrapper function for the CVode library)\n",
    "- <font color='blue'>Makefile </font>(to compile the dengo library `libdengo.a`)\n",
    "\n",
    "\n",
    "## `{{solver_name}}_solver_main.C`\n",
    "An example usage of the built dengo library can be found in the `{{solver_name}}_solver_main.C`. The solver is accessed through \n",
    "```C\n",
    "int simple_solve_chemistry_enzo( code_units *units, dengo_field_data *field_data, double dt );\n",
    "```\n",
    "This API follows closely the `Grackle` solver `solver_chemistry` which is tailored to work with `Enzo` simulations. `dengo_field_data` is a data structure that points to the respective abundance pointer `{species.name}_density`. It also informs the setup of the incoming grid. `code_units` informs the dengo solver how to convert from code_units into physical cgs units. `dt` is the delta time the user want to advance the system for. The structure definition taken from `{{solver_name}}_solver.h` are shown below. \n",
    "`dengo_field_data.CoolingTime`, `dengo_field_data.MolecularWeight`, `dengo_field_data.temperature`, `dengo_field_data.Gamma`, `dengo_field_data.Pressure` are **not** required inputs. User however needs to allocate space to these pointers if one want Dengo to compute these quantities alongside the chemical evolution. `dengo_data_file` points to the reaction rates `hdf5` data for on-the-fly interpolations.\n",
    "\n",
    "```C\n",
    "typedef struct dengo_field_data\n",
    "{\n",
    "\n",
    "  unsigned long int nstrip;\n",
    "  unsigned long int ncells; \n",
    "  // let's just pass them passively through field_data\n",
    "  double reltol;\n",
    "  double floor_value;\n",
    "  // This should be updated dynamically \n",
    "  // with dengo\n",
    "  double *density;\n",
    "  double *H_1_density;\n",
    "  double *H_2_density;\n",
    "  double *de_density;\n",
    "  double *ge_density;\n",
    "    \n",
    "  double *CoolingTime;\n",
    "  double *MolecularWeight;\n",
    "  double *temperature;\n",
    "  double *Gamma;\n",
    "  double *Pressure;\n",
    "\n",
    "  int *grid_start;\n",
    "  int *grid_end;\n",
    "  int *grid_dimension;\n",
    "\n",
    "  const char *dengo_data_file;\n",
    "  code_units *units;\n",
    "} dengo_field_data;\n",
    "\n",
    "typedef struct code_units\n",
    "{\n",
    "\n",
    "  int comoving_coordinates;\n",
    "  double density_units;\n",
    "  double length_units;\n",
    "  double time_units;\n",
    "  double velocity_units;\n",
    "  double a_units;\n",
    "  double a_value;\n",
    "\n",
    "} code_units;\n",
    "```"
   ]
  },
  {
   "cell_type": "markdown",
   "metadata": {},
   "source": [
    "## Build C-library\n",
    "This template comes with a `Makefile` that lets the user to compile the library. Apart from specifying the `CVODE_PATH`, `SUITESPARSE_PATH`, `DENGO_INSTALL_PATH`, `HDF5_PATH`, there are additional options the user can choose. One can choose either the `CVDLS` which refers to the CVODE dense linear solver, or `CVKLU` which refers to the CVODE KLU Sparse solver. `CVKLU` is oftentimes preferred as it leverages the emptyness in the Jacobian matrix, and utilizes the SuiteSparse library to perform the newton iterations. `DENGO_INSTALL_PATH` is where the library will be installed. \n",
    "```\n",
    "# Use the Dense Linear Solver interface (CVDLS)\n",
    "#OPTIONS+= -DMAX_NCELLS=1\n",
    "# Use the Sparse KLU direct solver\n",
    "OPTIONS = -DCVKLU -DMAX_NCELLS=256\n",
    "```\n",
    "The `Make` script uses `libtool` to compile the files and build the libraries. The command `Make` would build and install the libraries. \n",
    "Now you have built a `libdengo.so` in your specified installed path, and you are ready to link it to your favorite program with the sample below, or checkout the `Makefile:run_dengo`.\n",
    "\n",
    "```\n",
    "$(CC) -o $@ $^ $(OPTIONS) -I$(DENGO_INSTALL_PATH)/include -I$(CVODE_PATH)/include -I$(INCLUDES_KLU) -I$(HDF5_PATH)/include -L$(HDF5_PATH)/lib -lhdf5_hl -lhdf5 -L$(DENGO_INSTALL_PATH)/lib -ldengo -lm\n",
    "```"
   ]
  },
  {
   "cell_type": "markdown",
   "metadata": {},
   "source": [
    "## Conclusion\n",
    "1. We outlie how `ChemicalNetwork.write_solver` works.\n",
    "2. How to build the cython module from the templates generated.\n",
    "3. We also outline how the C-library can be built.\n",
    "\n",
    "In the next chapter, we will outline the procedures needed to link hydrodynamical simulations like `enzo` to `dengo`."
   ]
  }
 ],
 "metadata": {
  "kernelspec": {
   "display_name": "Python 3 (ipykernel)",
   "language": "python",
   "name": "python3"
  },
  "language_info": {
   "codemirror_mode": {
    "name": "ipython",
    "version": 3
   },
   "file_extension": ".py",
   "mimetype": "text/x-python",
   "name": "python",
   "nbconvert_exporter": "python",
   "pygments_lexer": "ipython3",
   "version": "3.8.2"
  }
 },
 "nbformat": 4,
 "nbformat_minor": 4
}
