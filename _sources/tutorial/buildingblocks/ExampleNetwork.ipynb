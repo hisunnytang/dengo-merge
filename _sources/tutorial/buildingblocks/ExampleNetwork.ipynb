{
 "cells": [
  {
   "cell_type": "markdown",
   "id": "122bd973-1004-41ab-a5fe-6a1531fa9909",
   "metadata": {},
   "source": [
    "# An example of 2-species chemical network\n",
    "\n",
    "In our example with only two reactions, that consisted of $\\rm H, H^+, e^-$. The first reaction corresponds to the recombination of ionized hydrogen and an electron. The second reaction refers to the collisional ionization of neural hydrogen atom to positively charged atoms by an electron. These are \n",
    "\n",
    "$$\n",
    "    \\begin{align*}\n",
    "    \\rm H^+ + e^- &\\rightarrow \\rm H \\quad &(k01)  \\\\\n",
    "    \\rm H + e^- &\\rightarrow \\rm H^+ + 2 e^- \\quad &(k02)\n",
    "    \\end{align*}\n",
    "$$\n",
    "\n",
    "These two reactions can be written as the set of ODE equations below. \n",
    "Here $k_{01}(T)$ and $k_{02}(T)$ are the temperature dependent reaction rates. \n",
    "Note that in the below they represent the **number density $(\\rm cm^{-3})$** of different species.\n",
    "$$\n",
    "    \\begin{align*}\n",
    "    \\rm \\frac{d H}{dt} &=  \\rm k_{02}(T) \\,  H^+ \\, e^-  - k_{01}(T) \\,  H \\, e^- \\\\\n",
    "    \\rm \\frac{d  H^+}{dt} &= \\rm - k_{02}(T) \\,  H^+ \\, e^- + k_{01}(T) \\,  H \\, e^-  \\\\\n",
    "    \\rm  \\frac{d e^-}{dt} &=  \\rm - k_{02}(T) \\,  H^+ \\, e^-  + k_{01}(T) \\,  H \\, e^- \\\\\n",
    "    \\end{align*}\n",
    "$$ "
   ]
  },
  {
   "cell_type": "code",
   "execution_count": null,
   "id": "0e419c31-5ff6-443c-9a20-7b01b1267ba3",
   "metadata": {},
   "outputs": [],
   "source": []
  }
 ],
 "metadata": {
  "kernelspec": {
   "display_name": "Python 3 (ipykernel)",
   "language": "python",
   "name": "python3"
  },
  "language_info": {
   "codemirror_mode": {
    "name": "ipython",
    "version": 3
   },
   "file_extension": ".py",
   "mimetype": "text/x-python",
   "name": "python",
   "nbconvert_exporter": "python",
   "pygments_lexer": "ipython3",
   "version": "3.8.2"
  }
 },
 "nbformat": 4,
 "nbformat_minor": 5
}
