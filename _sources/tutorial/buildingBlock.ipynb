{
 "cells": [
  {
   "cell_type": "markdown",
   "metadata": {},
   "source": [
    "A Chemistry Solver from Scratch\n",
    "=========================================\n",
    "\n",
    "This tutorial walks you through the steps to create a new chemical kinetic rate\n",
    "equation solver.  These solvers all utilize very similar structures for\n",
    "calculating the right hand side and the Jacobian, and will export a\n",
    "standardized API to those functions.  \n",
    "\n",
    "While Dengo provides a number of pre-packaged rate equations, species, rate\n",
    "coefficients and cooling functions, here we provide the necessary steps in\n",
    "order to create new species and rates from scratch."
   ]
  },
  {
   "cell_type": "markdown",
   "metadata": {},
   "source": [
    "## Defining a Species\n",
    "\n",
    "We start by defining individual species.  This can be done inside a python\n",
    "module of your choosing, which we will run at the end to output our new\n",
    "network.  Species are defined by a small number of attributes:\n",
    "\n",
    " * Name (which will be used in cooling functions and internally to the solver)\n",
    " * Number: Mostly unused except when handling ions.\n",
    " * Atomic weight (in integer AMU)\n",
    " * Number of free electrons that is contributes\n",
    "\n",
    "This information is used when calculating things like the contribution of a\n",
    "species to the number density.\n",
    "We now have three symbolic \"species\" objects for hydrogen, ionized hydrogen,\n",
    "and electrons.  Note that Dengo will happily create ions for species defined in\n",
    "the CHIANTI database."
   ]
  },
  {
   "cell_type": "code",
   "execution_count": 353,
   "metadata": {},
   "outputs": [],
   "source": [
    "from dengo.reaction_classes import AtomicSpecies, MolecularSpecies\n",
    "from dengo.chemical_network import species_registry\n",
    "\n",
    "HI = AtomicSpecies('H', free_electrons=0.0)\n",
    "HII = AtomicSpecies(\"H\", free_electrons=1.0)\n",
    "H2I = MolecularSpecies(\"H2\", weight=2.01588, free_electrons=0.0)\n",
    "de  = species_registry['de']"
   ]
  },
  {
   "cell_type": "markdown",
   "metadata": {},
   "source": [
    "In the above example we utilize the `AtomicSpecies` and `MolecularSpecies`. `Dengo` will try to look for the constituent elements based on the expression from the periodic table, and assign them with appropriate weights. These elements are automatically register to `dengo.reaction_classes.species_registry`. \n",
    "\n",
    "Yeah you have successfully created your `ChemicalSpecies` in `Dengo`!"
   ]
  },
  {
   "cell_type": "code",
   "execution_count": 354,
   "metadata": {},
   "outputs": [
    {
     "data": {
      "text/plain": [
       "{'ge': Species: ge,\n",
       " 'de': Species: de,\n",
       " 'H_1': Species: H_1,\n",
       " 'H_2': Species: H_2,\n",
       " 'H2_1': Species: H2_1}"
      ]
     },
     "execution_count": 354,
     "metadata": {},
     "output_type": "execute_result"
    }
   ],
   "source": [
    "species_registry"
   ]
  },
  {
   "cell_type": "markdown",
   "metadata": {},
   "source": [
    "Creating Reactions\n",
    "------------------\n",
    "Once we have the species in hand, we can then specify the reactions between these different species. Consider a simple reaction where ionized hydrogen atom recombines with an electron and gives a neural Hydrogen atom:\n",
    "$$ \\mathrm{H^+ + e^- \\rightarrow H} $$ \n",
    "`dengo.reaction_classes.reaction` is primarily composed of:\n",
    "- the name of the reaction:\n",
    "```python\n",
    "k01\n",
    "```\n",
    "- input species: \n",
    "```python\n",
    "[(1, \"HII\"), (1, \"de\")]\n",
    " ```\n",
    "- output species: \n",
    "```python\n",
    "[(1, \"HI\")]\n",
    "```\n",
    "- reaction rates: which may depend on the temperature of the medium"
   ]
  },
  {
   "cell_type": "code",
   "execution_count": 370,
   "metadata": {},
   "outputs": [],
   "source": [
    "from dengo.reaction_classes import reaction\n",
    "from dengo.chemical_network import reaction_registry\n",
    "\n",
    "tiny = 1e-60\n",
    "# -- k01 --\n",
    "@reaction('k01', [   (1,HI),   (1,de)], [  (1,HII),   (2,de)])\n",
    "def rxn(state):\n",
    "    vals = np.exp(-32.71396786375\n",
    "              + 13.53655609057*state.logtev\n",
    "              - 5.739328757388*state.logtev**2\n",
    "              + 1.563154982022*state.logtev**3\n",
    "              - 0.2877056004391*state.logtev**4\n",
    "              + 0.03482559773736999*state.logtev**5\n",
    "              - 0.00263197617559*state.logtev**6\n",
    "              + 0.0001119543953861*state.logtev**7\n",
    "              - 2.039149852002e-6*state.logtev**8)\n",
    "    # taken from Abel 1999\n",
    "    vals = np.maximum(vals , tiny *np.ones((len(state.T))) )\n",
    "    return vals\n",
    "\n",
    "@reaction('k02', [  (1,HII),   (1,de)], [   (1,HI),         ])\n",
    "def rxn(state):\n",
    "    _i1 = (state.T > 5500)\n",
    "    _i2 = ~_i1\n",
    "    vals = np.exp(-28.61303380689232\n",
    "                  - 0.7241125657826851*state.logtev\n",
    "                  - 0.02026044731984691*state.logtev**2\n",
    "                  - 0.002380861877349834*state.logtev**3\n",
    "                  - 0.0003212605213188796*state.logtev**4\n",
    "                  - 0.00001421502914054107*state.logtev**5\n",
    "                  + 4.989108920299513e-6*state.logtev**6\n",
    "                  + 5.755614137575758e-7*state.logtev**7\n",
    "                  - 1.856767039775261e-8*state.logtev**8\n",
    "                  - 3.071135243196595e-9*state.logtev**9)\n",
    "    vals[_i2] = 3.92e-13 / state.tev[_i2]**0.6353\n",
    "\n",
    "    return vals"
   ]
  },
  {
   "cell_type": "markdown",
   "metadata": {},
   "source": [
    "Similar to species, the reaction is registered in the `dengo.chemical_network.reaction_registry`, and the `dengo.reaction_classes.Reaction` is accesible through the reaction registry."
   ]
  },
  {
   "cell_type": "code",
   "execution_count": 371,
   "metadata": {},
   "outputs": [
    {
     "data": {
      "text/plain": [
       "(k02 : 1*H_2 + 1*de => 1*H_1, dengo.reaction_classes.Reaction)"
      ]
     },
     "execution_count": 371,
     "metadata": {},
     "output_type": "execute_result"
    }
   ],
   "source": [
    "reaction_registry['k02'], type(reaction_registry['k02'])"
   ]
  },
  {
   "cell_type": "markdown",
   "metadata": {},
   "source": [
    "Create Cooling Functions\n",
    "------------------------------------\n",
    "The release/ absorption of energy via various physical process would modify the thermal state of the medium, which might in turn accelerates/ terminates further reactions. Keeping track of the thermal energy through the course of evolution is quintessential to the accurate modeling of the process. \n",
    "\n",
    "`<dengo.reaction_classes.CoolingAction>` is composed of:\n",
    "- name\n",
    "- the cooling equation\n",
    "- cooling rate"
   ]
  },
  {
   "cell_type": "code",
   "execution_count": 372,
   "metadata": {},
   "outputs": [],
   "source": [
    "from dengo.reaction_classes import cooling_action\n",
    "from dengo.chemical_network import cooling_registry\n",
    "\n",
    "# -- reHII --\n",
    "@cooling_action(\"reHII\", \"-reHII * HII * de\")\n",
    "def cool(eq):\n",
    "    @eq.table\n",
    "    def reHII(state):\n",
    "        # (from Hui and Gnedin 1997)\n",
    "        lambdaHI = 2.0 * 157807e0 / state.T\n",
    "        vals = 1.778e-29 * state.T * lambdaHI**1.965 / \\\n",
    "         (1.0e0 + (lambdaHI/0.541)**0.502)**2.697\n",
    "        return vals"
   ]
  },
  {
   "cell_type": "code",
   "execution_count": 447,
   "metadata": {},
   "outputs": [
    {
     "data": {
      "text/plain": [
       "(<dengo.reaction_classes.CoolingAction at 0x7f572ebceaf0>,\n",
       " dengo.reaction_classes.CoolingAction)"
      ]
     },
     "execution_count": 447,
     "metadata": {},
     "output_type": "execute_result"
    }
   ],
   "source": [
    "cooling_registry['reHII'], type(cooling_registry['reHII'])"
   ]
  },
  {
   "cell_type": "markdown",
   "metadata": {},
   "source": [
    "Finally, we have our chemical species, reactions, cooling functions ready!"
   ]
  },
  {
   "cell_type": "markdown",
   "metadata": {},
   "source": [
    "Creating a Network\n",
    "------------------\n",
    "We can now assemble them together in this `ChemicalNetwork`. This object helps us do all the neccessary computations to arrive at the symbolic **rhs** and **jacobian** functions, which ultimately eases us of the process of deriving them by hand. \n",
    "\n",
    "In our example with only two reactions, that consisted of $\\rm H, H^+, e^-$. Note that in the below they represent the **number density $(\\rm cm^{-3})$** of different species.\n",
    "\n",
    "$$\n",
    "    \\mathrm{ H^+ + e^- \\rightarrow H}\n",
    "$$\n",
    "\n",
    "$$\n",
    "    \\mathrm{ H + e^- \\rightarrow H^+ + 2 e^-}\n",
    "$$\n",
    "\n",
    "$$\n",
    "    \\begin{align*}\n",
    "    \\mathrm{\n",
    "    \\frac{d H}{dt} = k_{02}(T) \\,  H^+ \\, e^-  - k_{01}(T) \\,  H \\, e^- \\\\\n",
    "    \\frac{d  H^+}{dt} = - k_{02}(T) \\,  H^+ \\, e^- + k_{01}(T) \\,  H \\, e^-  \\\\\n",
    "    \\frac{d e^-}{dt} = - k_{02}(T) \\,  H^+ \\, e^-  + k_{01}(T) \\,  H \\, e^- \\\\\n",
    "    }\n",
    "    \\end{align*}\n",
    "$$\n",
    "\n",
    "We can do a quick sanity check on the conservation of the species $H$ and the charge $e^-$ and the equation above apparently satisfies our conservation law.\n",
    "\n",
    "$$\n",
    "    \\frac{d}{dt} (\\rm H + H^+) = 0\n",
    "$$ \n",
    "\n",
    "$$\n",
    "    \\frac{d}{dt} (\\rm H^+ -e^-) = 0 \n",
    "$$"
   ]
  },
  {
   "cell_type": "code",
   "execution_count": 444,
   "metadata": {},
   "outputs": [
    {
     "name": "stdout",
     "output_type": "stream",
     "text": [
      "Adding reaction: k01 : 1*H_1 + 1*de => 1*H_2 + 2*de\n",
      "Adding reaction: k02 : 1*H_2 + 1*de => 1*H_1\n"
     ]
    }
   ],
   "source": [
    "from dengo.chemical_network import ChemicalNetwork\n",
    "simpleNetwork = ChemicalNetwork()\n",
    "simpleNetwork.add_reaction(\"k01\")\n",
    "simpleNetwork.add_reaction(\"k02\")\n",
    "simpleNetwork.add_cooling(\"reHII\")\n",
    "simpleNetwork.init_temperature((1e0, 1e8))\n",
    "simpleNetwork.enforce_conservation = True"
   ]
  },
  {
   "cell_type": "markdown",
   "metadata": {},
   "source": [
    "Let's see what `ChemicalNetwork` is capable of doing!"
   ]
  },
  {
   "cell_type": "markdown",
   "metadata": {},
   "source": [
    "### Evaluate the temperature\n",
    "\n",
    "The temperature $T$ as we have seen above is critical to the rate at which the reaction proceeds. The temperature can be evaluated from the internal energy term `ge`. \n",
    "Internal energy of an ideal gas is:\n",
    "$$ E = \\rho \\epsilon = c_V T = \\frac{nkT}{\\gamma -1}$$\n",
    "For monoatomic gas $\\gamma$ is $5/3$, and diatomic gas $\\gamma$ is $7/5$. $\\gamma$ refers to the adiabatic constant, and it is directly related to the degree of freedom available to the species $f = \\frac{2}{\\gamma -1}$. When the temperature is higher, other degrees of freedom might get excited, and which leads toa temperature-dependent $\\gamma$.\n",
    "\n",
    "The total internal energy in the mixture of ideal gas is:\n",
    "$$\\epsilon = \\sum_s \\frac{n_s kT}{\\gamma_s -1}$$.\n",
    "$T$ can be thus be calculated from $E$ and the abundance of all the avaialble species $n_s$.\n",
    "\n",
    "In our simple example, the internal energy can be written out plainly as\n",
    "\n",
    "$$\n",
    "\\begin{align*}\n",
    "\\epsilon &= (\\frac{n_{\\rm H}}{\\gamma - 1}+\\frac{n_{\\rm H^+}}{\\gamma - 1}+\\frac{n_{\\rm e^-}}{\\gamma - 1}) \\times \\frac{k T}{\\rho} \\\\\n",
    "&= \\Gamma_{\\rm eff} \\frac{k T}{\\rho} \\\\\n",
    "T &= \\frac{\\rho \\epsilon}{\\Gamma_{\\rm eff} k}\n",
    "\\end{align*}\n",
    "$$\n",
    "\n",
    "`Dengo` can generate the `sympy` expression of $\\Gamma_{\\rm eff}$ with the function `ChemicalNetwork.gamma_factor()`. We are at the position to define our our function to calculate the temperature, with the expression provided to us by `Dengo`. Notice that in `Dengo`, the internal energy term $ge$ is treated as energy per unit mass density $\\epsilon = E/\\rho$. You also ask `Dengo` to directly spit out the expression for temperature with `simpleNetwork.temperature_calculation()`."
   ]
  },
  {
   "cell_type": "code",
   "execution_count": 376,
   "metadata": {},
   "outputs": [
    {
     "data": {
      "text/latex": [
       "$\\displaystyle \\frac{H_{1}}{\\gamma - 1.0} + \\frac{H_{2}}{\\gamma - 1.0} + \\frac{de}{\\gamma - 1.0}$"
      ],
      "text/plain": [
       "H_1/(gamma - 1.0) + H_2/(gamma - 1.0) + de/(gamma - 1.0)"
      ]
     },
     "execution_count": 376,
     "metadata": {},
     "output_type": "execute_result"
    }
   ],
   "source": [
    "simpleNetwork.gamma_factor()"
   ]
  },
  {
   "cell_type": "code",
   "execution_count": 377,
   "metadata": {},
   "outputs": [
    {
     "data": {
      "text/plain": [
       "[Species: H_1, Species: H_2, Species: de, Species: ge]"
      ]
     },
     "execution_count": 377,
     "metadata": {},
     "output_type": "execute_result"
    }
   ],
   "source": [
    "sorted(simpleNetwork.required_species)"
   ]
  },
  {
   "cell_type": "code",
   "execution_count": 378,
   "metadata": {},
   "outputs": [
    {
     "data": {
      "text/plain": [
       "'1.0079400000000001*H_1 + 1.0079400000000001*H_2'"
      ]
     },
     "execution_count": 378,
     "metadata": {},
     "output_type": "execute_result"
    }
   ],
   "source": [
    "simpleNetwork.print_mass_density()"
   ]
  },
  {
   "cell_type": "code",
   "execution_count": 379,
   "metadata": {},
   "outputs": [],
   "source": [
    "import numpy.typing as npt\n",
    "\n",
    "gamma = 5./3.\n",
    "kb    = 1.38e-16\n",
    "mh    = 1.67e-24\n",
    "\n",
    "def calculate_temperature(state: npt.ArrayLike):\n",
    "    \"\"\"calculate temperature in (K) based on the state space vector\"\"\"\n",
    "\n",
    "    # extract the abundance from the state vector\n",
    "    H_1, H_2, de, ge = state\n",
    "    inv_gammam1 = 1 / (gamma - 1)\n",
    "    gamma_factor = (H_1 + H_2 + de) * inv_gammam1\n",
    "    rho = 1.00794*H_1 + 1.00794*H_2\n",
    "    T = ge / gamma_factor / kb * mh * rho\n",
    "    return T"
   ]
  },
  {
   "cell_type": "markdown",
   "metadata": {},
   "source": [
    "### Evaluate the reaction rates\n",
    "Reaction rates usually have a temperature dependence. For example, for reactions following the [Arrhenius equation](https://en.wikipedia.org/wiki/Arrhenius_equation) usually have the forms of $$k(T) = A e^{-\\frac{E_a}{RT}}$$, where $k$ is the reaction rate, $E_a$ is the activation energy of the reaction, $T$ is the temperature, $A$, $R$ are the pre-exponential factor, and the universal gas constant respectively. $A$ is sometimes dependent further on temperature in [Modified Arrhenius equation](https://en.wikipedia.org/wiki/Arrhenius_equation#Modified_Arrhenius_equation).\n",
    "\n",
    "<!-- Evaluating these rates on the fly would be computationally expensive. One possible way of reducing the computational time is to interpolate from a pre-calculated reaction rates table. The rates are specified when the reactions `rxn` are first created with the `@reaction` decorator. They can be evaluated handily with `rxn.coeff_fn(chemicalnetwork)`. The range of temperature of interest for example $T = \\rm (1, 10^8) K$ can be first specified with `ChemicalNetwork.init_temperature(T_bounds=(1e0, 1e8), n_bins=1024)`. The added reaction objects can be accessed with `ChemicalNetwork.reactions`. -->"
   ]
  },
  {
   "cell_type": "code",
   "execution_count": 384,
   "metadata": {},
   "outputs": [
    {
     "data": {
      "text/plain": [
       "<matplotlib.legend.Legend at 0x7f572e74c880>"
      ]
     },
     "execution_count": 384,
     "metadata": {},
     "output_type": "execute_result"
    },
    {
     "data": {
      "image/png": "[encoded data removed]",
      "text/plain": [
       "<Figure size 432x288 with 2 Axes>"
      ]
     },
     "metadata": {
      "needs_background": "light"
     },
     "output_type": "display_data"
    }
   ],
   "source": [
    "# The reactions in the chemical network can be assessed\n",
    "import numpy as np\n",
    "import matplotlib.pyplot as plt\n",
    "reactions = simpleNetwork.reactions\n",
    "cooling   = simpleNetwork.cooling_actions\n",
    "\n",
    "rxnk01 = reactions['k01']\n",
    "rxnk02 = reactions['k02']\n",
    "reHII  = cooling['reHII']\n",
    "temperature = simpleNetwork.T\n",
    "rxnk01_rate = rxnk01.coeff_fn(simpleNetwork)\n",
    "rxnk02_rate = rxnk02.coeff_fn(simpleNetwork)\n",
    "\n",
    "plt.loglog(temperature, rxnk01_rate, label='k01')\n",
    "plt.loglog(temperature, rxnk02_rate, label='k02')\n",
    "plt.xlabel(r'Temperature $(\\rm K)$')\n",
    "plt.ylabel(r'Reaction Rate $(\\rm g^{-1} cm^{3} s^{-1} )$')\n",
    "plt.legend()\n",
    "ax2 = plt.twinx()\n",
    "coolreHII_rate = reHII.tables['reHII'](simpleNetwork)\n",
    "ax2.loglog(temperature, coolreHII_rate,color='C2', label='reHII')\n",
    "plt.ylabel(r'Cooling Rate reHII')\n",
    "plt.legend()"
   ]
  },
  {
   "cell_type": "code",
   "execution_count": 387,
   "metadata": {},
   "outputs": [],
   "source": [
    "logT       = np.log10(temperature)\n",
    "k01lograte = np.log10(rxnk01_rate)\n",
    "k02lograte = np.log10(rxnk02_rate)\n",
    "coolreHII_lograte = np.log10(coolreHII_rate)\n",
    "\n",
    "def interpolate_rates(T: npt.ArrayLike):\n",
    "    \"\"\"interpolate the reaction rate in log space\n",
    "    \n",
    "    Parameters\n",
    "    ----------\n",
    "        T: the temperate at which the rate is evaluated\n",
    "    \n",
    "    Return\n",
    "    ------\n",
    "        k02: interpolated reaction rate at temperature T \n",
    "    \"\"\"\n",
    "    k01 = 10**np.interp(np.log10(T), logT, k01lograte)\n",
    "    k02 = 10**np.interp(np.log10(T), logT, k02lograte)\n",
    "    return k01, k02\n",
    "\n",
    "def interpolate_cooling_rates(T: npt.ArrayLike):\n",
    "    \"\"\"interpolate the cooling rate in log space\n",
    "    \n",
    "    Parameters\n",
    "    ----------\n",
    "        T: the temperate at which the rate is evaluated\n",
    "    \n",
    "    Return\n",
    "    ------\n",
    "        coolreHII_rate: interpolated cooling rate at temperature T \n",
    "    \"\"\"\n",
    "    coolreHII_rate = 10**np.interp(np.log10(T), logT, coolreHII_lograte)\n",
    "    return coolreHII_rate"
   ]
  },
  {
   "cell_type": "markdown",
   "metadata": {},
   "source": [
    "### The RHS function\n",
    "\n",
    "The dynamics is specified by the set of ODE equations.\n",
    "$$ \\frac{d \\bf y}{dt} = f(\\bf y) $$\n",
    "where $\\bf y$ corresponds to the abundance vector for the species of interest, and $f(\\bf y)$ describes the dynamics.\n",
    "\n",
    "`Dengo` aggreates the reactions specific to each species $s$ with `ChemicalNetwork.species_total(s)` with `sympy` internally. These sympy expression can be exported to various different code style with `sympy.printing` to `C`, `python` for example."
   ]
  },
  {
   "cell_type": "code",
   "execution_count": 388,
   "metadata": {},
   "outputs": [
    {
     "name": "stdout",
     "output_type": "stream",
     "text": [
      "dH_1dt = -k01[i]*H_1*de + k02[i]*H_2*de\n",
      "dH_2dt = k01[i]*H_1*de - k02[i]*H_2*de\n",
      "d dedt = k01[i]*H_1*de - k02[i]*H_2*de\n",
      "d gedt = -reHII_reHII[i]*H_2*de\n"
     ]
    }
   ],
   "source": [
    "for s in sorted(simpleNetwork.required_species):\n",
    "    if s.name != 'ge':\n",
    "        print(f\"d{s.name:>3}dt = {simpleNetwork.species_total(s)}\")\n",
    "    else:\n",
    "        print(f\"d{s.name:>3}dt = {simpleNetwork.print_cooling(assign_to=None)}\")"
   ]
  },
  {
   "cell_type": "code",
   "execution_count": 397,
   "metadata": {},
   "outputs": [],
   "source": [
    "def rhs_func(state, t):\n",
    "    \"\"\"evaluate the dydt given the state y at time t\n",
    "    \n",
    "    Parameters\n",
    "    ----------\n",
    "        state: np.ndarray\n",
    "            the number density of different species\n",
    "        t: float\n",
    "            time\n",
    "    Return\n",
    "    ------\n",
    "        coolreHII_rate: interpolated cooling rate at temperature T \n",
    "    \"\"\"\n",
    "    H_1, H_2, de, ge = state\n",
    "    \n",
    "    T   = calculate_temperature(state)\n",
    "    k01, k02 = interpolate_rates    (T)\n",
    "    rho = 1.00794*H_1 + 1.00794*H_2\n",
    "    \n",
    "    reHII_reHII = interpolate_cooling_rates(T)\n",
    "    \n",
    "    dH_1dt = k02*H_2*de - k01*H_1*de\n",
    "    dH_2dt = -k02*H_2*de + k01*H_1*de\n",
    "    ddedt = -k02*H_2*de + k01*H_1*de\n",
    "    dgedt = (-reHII_reHII*H_2*de)/ rho /mh\n",
    "    \n",
    "    dstatedt = np.array([dH_1dt,dH_2dt,ddedt,dgedt])\n",
    "    return dstatedt"
   ]
  },
  {
   "cell_type": "markdown",
   "metadata": {},
   "source": [
    "### Integrate the System\n",
    "Once the RHS function is specified, we are ready to evolve the system. Here we will use the `scipy.integrate.odeint` to integrate the ODE. The initial value are specified below as a 1D-vector. And the output logarithmically-spaced timesteps are also fed into the ODE solver. "
   ]
  },
  {
   "cell_type": "code",
   "execution_count": 450,
   "metadata": {},
   "outputs": [],
   "source": [
    "# Prepare the initial state vector\n",
    "ge = 1e13  #erg/g\n",
    "H_1 = 1e-2# 1/cm^3\n",
    "H_2 = 1e-2# 1/cm^3\n",
    "de  = 1e-2# 1/cm^3\n",
    "state = np.array([H_1, H_2, de, ge])"
   ]
  },
  {
   "cell_type": "code",
   "execution_count": 442,
   "metadata": {},
   "outputs": [],
   "source": [
    "from scipy.integrate import odeint\n",
    "\n",
    "timesteps = np.logspace(10, 16,101)\n",
    "output     = odeint(rhs_func, state, t=timesteps)"
   ]
  },
  {
   "cell_type": "code",
   "execution_count": 443,
   "metadata": {},
   "outputs": [
    {
     "name": "stderr",
     "output_type": "stream",
     "text": [
      "/tmp/ipykernel_39991/2785043320.py:17: UserWarning: You have mixed positional and keyword arguments, some input may be discarded.\n",
      "  f.legend(\n"
     ]
    },
    {
     "data": {
      "image/png": "[encoded data removed]",
      "text/plain": [
       "<Figure size 432x288 with 2 Axes>"
      ]
     },
     "metadata": {
      "needs_background": "light"
     },
     "output_type": "display_data"
    }
   ],
   "source": [
    "H_1_traj, H_2_traj, de_traj, ge_traj = output.T\n",
    "\n",
    "f, ax = plt.subplots()\n",
    "l1= ax.loglog(timesteps, H_1_traj)\n",
    "l2= ax.loglog(timesteps, H_2_traj)\n",
    "l3= ax.loglog(timesteps, de_traj)\n",
    "ax2 = ax.twinx()\n",
    "T_traj = calculate_temperature(output.T)\n",
    "l4= ax2.loglog(timesteps, T_traj, color='C3')\n",
    "\n",
    "\n",
    "ax.set_ylabel(r\"Abundance ($\\rm cm^{-3}$)\")\n",
    "ax2.set_ylabel(\"Temperature (K)\")\n",
    "\n",
    "ax.set_xlabel(\"Time (s)\")\n",
    "\n",
    "f.legend(\n",
    "    [l1,l2,l3,l4], \n",
    "    labels=[r'$\\rm H$',r'$\\rm H^+$',r'$\\rm e^-$',r'$\\rm T$'],\n",
    "    loc=[0.15,0.4]\n",
    ")\n",
    "plt.subplots_adjust(right=0.85)"
   ]
  },
  {
   "cell_type": "code",
   "execution_count": 451,
   "metadata": {},
   "outputs": [
    {
     "data": {
      "text/plain": [
       "array([-6.76258746e-14,  6.76258746e-14,  6.76258746e-14, -1.78976746e-03])"
      ]
     },
     "execution_count": 451,
     "metadata": {},
     "output_type": "execute_result"
    }
   ],
   "source": [
    "rhs_func(state,0)"
   ]
  },
  {
   "cell_type": "markdown",
   "metadata": {},
   "source": [
    "### Summary\n",
    "1. We have built a reaction chemical network with 2 reactions and 1 cooling action from scratch with `Dengo`!\n",
    "2. We demonstrated how can we build a simple ODE solver with the symbolic outputs from `Dengo`!\n",
    "\n",
    "In the next chapter, we demonstrate how `Dengo` can be used in conjunction with `Jinja2` to write a solver for arbitary network in the next chapter.\n"
   ]
  },
  {
   "cell_type": "code",
   "execution_count": null,
   "metadata": {},
   "outputs": [],
   "source": []
  }
 ],
 "metadata": {
  "kernelspec": {
   "display_name": "Python 3 (ipykernel)",
   "language": "python",
   "name": "python3"
  },
  "language_info": {
   "codemirror_mode": {
    "name": "ipython",
    "version": 3
   },
   "file_extension": ".py",
   "mimetype": "text/x-python",
   "name": "python",
   "nbconvert_exporter": "python",
   "pygments_lexer": "ipython3",
   "version": "3.8.2"
  }
 },
 "nbformat": 4,
 "nbformat_minor": 4
}
