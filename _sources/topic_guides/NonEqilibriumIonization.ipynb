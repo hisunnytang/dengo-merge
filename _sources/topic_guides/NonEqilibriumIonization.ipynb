{
 "cells": [
  {
   "cell_type": "markdown",
   "id": "20bbf8af-248c-46d5-b140-72f977a0fac3",
   "metadata": {},
   "source": [
    "#  Non-Equilibrium Ionizations in the presence of background ionizations\n",
    "The radiative cooling efficiencies of hot low-density gas are important quantities in the study of the diffuse interstellar and intergalactic medium. They determine the thermal and dynamical properties and evolution in a variety of astrophysical systems, ranging from local interstellar clouds to shocks in intergalactic filaments. Collisional ionizational equilibrium is often assumed where the cooling efficiencies depend only depend only on the gas temperature and metallicity. However, nonequlibrium ionization takes place when the hot gas cools radiatively below $\\sim 10^6 K$. Rapid cooling is expected when\n",
    "\n",
    "\n",
    "\n",
    "[Non-equilibrium ionisation and cooling of metal-enriched gas in the presence of a photo-ionisation background](https://noneq.strw.leidenuniv.nl/#noneqtables)\n",
    "> Simulations of the formation of galaxies, as well as ionisation models used to interpret observations of quasar absorption lines, generally either assume ionisation equilibrium or ignore the presence of the extra-galactic background (EGB) radiation. We introduce a method to compute the non-equilibrium ionisation and cooling of diffuse gas exposed to the EGB. Our method iterates the ionisation states of the 11 elements that dominate the cooling (H, He, C, N, O, Ne, Si, Mg, S, Ca, & Fe) and uses tabulated ion-by-ion cooling and photo-heating efficiencies to update the temperature of the gas. Our reaction network includes radiative and di-electric recombination, collisional ionisation, photo-ionisation, Auger ionisation, and charge transfer. We verify that our method reproduces published results for collisional equilibrium, collisional non-equilibrium, and photo-ionised equilibrium. Non-equilibrium effects can become very important in cooling gas, particularly below 106 K. Photo-ionisation and non-equilibrium effects both tend to boost the degree of ionisation and to reduce cooling efficiencies. The effect of the EGB is larger for lower densities (i.e. higher ionisation parameters). Hence, photo-ionisation affects (equilibrium and non-equilibrium) cooling more under isochoric than under isobaric conditions. Non-equilibrium effects are smaller in the presence of the EGB and are thus overestimated when using collisional-only processes. The inclusion of the EGB alters the observational diagnostics of diffuse, metal-enriched gas (e.g. metal absorption lines probed in quasar sight lines) even more significantly than the cooling efficiencies. We argue that the cooling efficiency should be considered if ionisation models are used to infer physical conditions from observed line ratios, as the a priori probability of observing gas is lower if its cooling time is shorter. We provide on-line tables of ionisation fractions and cooling efficiencies, as well as other data, for equilibrium and non-equilibrium scenarios, and both with and without an EGB. Cooling efficiencies and diagnostics of the physical state of diffuse gas can become highly inaccurate if ionisation equilibrium is assumed or if the existence of the ionising background is ignored.\n",
    "\n",
    "\n",
    "\n"
   ]
  },
  {
   "cell_type": "code",
   "execution_count": 2,
   "id": "884187b7-9d55-404b-837b-023694bdcf3d",
   "metadata": {},
   "outputs": [
    {
     "name": "stdout",
     "output_type": "stream",
     "text": [
      " ChiantiPy version 0.12.0 \n",
      " found PyQt5 widgets\n",
      " using PyQt5 widgets\n"
     ]
    },
    {
     "name": "stderr",
     "output_type": "stream",
     "text": [
      "/home/kwoksun2/anaconda3/lib/python3.8/site-packages/ChiantiPy-0.12.0-py3.8.egg/ChiantiPy/tools/data.py:71: UserWarning: klgfb files are not present: \n",
      "  it will not be possible to use the freeBound continuum method\n",
      "  warnings.warn('klgfb files are not present: \\n  it will not be possible to use the freeBound continuum method')\n",
      "/home/kwoksun2/anaconda3/lib/python3.8/site-packages/ChiantiPy-0.12.0-py3.8.egg/ChiantiPy/core/IpyMspectrum.py:9: UserWarning: ipyparallel not found. You won't be able to use the ipymspectrum module\n",
      "  warnings.warn(\"ipyparallel not found. You won't be able to use the ipymspectrum module\")\n"
     ]
    }
   ],
   "source": [
    "import os\n",
    "\n",
    "os.environ[\"XUVTOP\"] = \"/home/kwoksun2/data/dengo-merge/CHIANTI\"\n",
    "from dengo.reaction_classes import chianti_rate\n",
    "from dengo.reaction_classes import ion_photoionization_rate\n",
    "\n",
    "from dengo.chemical_network import (\n",
    "    ChemicalNetwork,\n",
    "    species_registry,\n",
    "    reaction_registry,\n",
    "    cooling_registry,\n",
    ")\n",
    "import ChiantiPy.core as ch\n",
    "import numpy as np\n",
    "import matplotlib.pyplot as plt"
   ]
  },
  {
   "cell_type": "markdown",
   "id": "5000a8e4-a366-4361-bbb5-936468e0643d",
   "metadata": {},
   "source": [
    "## H, He, O non-equilibrium chemistry\n",
    "\n",
    "H, He, C, N, O, Ne, Si, Mg, S, Ca, & Fe are the dominant elements in the cooling of diffuse gases.\n",
    "To begin with, we outlined the steps to implement all the non-equilibrium chemistry involved for hydrogen them in `dengo`. And then we will outline how you could extend them to other species of interest with the rate tables from `Dengo`. Primarily, photo-ioniation, collisional ioniziation, recombinations dictates how the ioinization levels change under both the influence of temperature and the radiation background. "
   ]
  },
  {
   "cell_type": "markdown",
   "id": "5c191945-5fdf-4bc1-ab60-3e29eae1fee1",
   "metadata": {},
   "source": [
    "## Ionization and Recombinations\n",
    "The recombination, and ionization rates can be obtained from `Chiantipy`.\n",
    "\n",
    "For Hydrogen, \n",
    "$$\n",
    "\\mathrm{H + e^- \\rightarrow H^+ + 2 e^-} \\\\\n",
    "\\mathrm{H^+ + e^- \\rightarrow H}\n",
    "$$\n",
    "\n",
    "They can be retrieved through `chianty.ion.ionizRate` and `chianty.ion.RecombRate`. "
   ]
  },
  {
   "cell_type": "code",
   "execution_count": 3,
   "id": "8128e2b6-b1f6-4aa4-8c8b-94a31d3599bf",
   "metadata": {},
   "outputs": [],
   "source": [
    "from dengo.reaction_classes import AtomicSpecies\n",
    "\n",
    "HI = AtomicSpecies(\"H\", free_electrons=0)\n",
    "HII = AtomicSpecies(\"H\", free_electrons=1)\n",
    "de = species_registry[\"de\"]"
   ]
  },
  {
   "cell_type": "code",
   "execution_count": 18,
   "id": "17ca4dbf-33a6-482c-8d44-9f4833896073",
   "metadata": {},
   "outputs": [
    {
     "data": {
      "text/plain": [
       "<matplotlib.legend.Legend at 0x7f98593d8fd0>"
      ]
     },
     "execution_count": 18,
     "metadata": {},
     "output_type": "execute_result"
    },
    {
     "data": {
      "image/png": "[encoded data removed]",
      "text/plain": [
       "<Figure size 432x288 with 1 Axes>"
      ]
     },
     "metadata": {
      "needs_background": "light"
     },
     "output_type": "display_data"
    }
   ],
   "source": [
    "ion_by_ion = ChemicalNetwork()\n",
    "ion_by_ion.init_temperature((1e0, 1e8))\n",
    "ion_by_ion.init_redshift((1e-6, 15.0))\n",
    "\n",
    "ion_HI = ch.ion(\"h_1\", temperature=ion_by_ion.T)\n",
    "ion_HI.ionizRate()\n",
    "IonizRate_HI = ion_HI.IonizRate[\"rate\"]\n",
    "\n",
    "ion_HII = ch.ion(\"h_2\", temperature=ion_by_ion.T)\n",
    "ion_HII.recombRate()\n",
    "recombRate_HII = ion_HII.RecombRate[\"rate\"]\n",
    "\n",
    "plt.loglog(network.T, IonizRate_HI, label=\"IonizRate_HI\")\n",
    "plt.loglog(network.T, recombRate_HII, label=\"recombRate_HII\")\n",
    "plt.ylim(1e-30, 1e0)\n",
    "plt.legend()"
   ]
  },
  {
   "cell_type": "markdown",
   "id": "6cd7fa12-2646-4c6e-b5b7-e05ab90bc277",
   "metadata": {},
   "source": [
    "## Mapping Chianti Rate to Reactions\n",
    "This can be done straightforwardly with `dengo.ion_by_ion.chianti_rate`.\n",
    "The function takes atom_name, recombined species, original species, and the ionized species to be input. Once `chianti_rate` is called, reactions are automatically registered in `reaction_registry`."
   ]
  },
  {
   "cell_type": "code",
   "execution_count": 19,
   "id": "8a7d679c-153a-4853-b0dc-0e1d4329644e",
   "metadata": {},
   "outputs": [
    {
     "data": {
      "text/plain": [
       "\u001b[0;31mSignature:\u001b[0m \u001b[0mchianti_rate\u001b[0m\u001b[0;34m(\u001b[0m\u001b[0matom_name\u001b[0m\u001b[0;34m,\u001b[0m \u001b[0msm1\u001b[0m\u001b[0;34m,\u001b[0m \u001b[0ms\u001b[0m\u001b[0;34m,\u001b[0m \u001b[0msp1\u001b[0m\u001b[0;34m)\u001b[0m\u001b[0;34m\u001b[0m\u001b[0;34m\u001b[0m\u001b[0m\n",
       "\u001b[0;31mDocstring:\u001b[0m\n",
       "Create Collisional Ionization and Recombination reactions from the ChiantiPy\n",
       "\n",
       "Parameters\n",
       "----------\n",
       "atom_name: str\n",
       "    the name of the atom of interest\n",
       "sm1: str\n",
       "    the name of the recombined species\n",
       "s: str\n",
       "    the name of the original species\n",
       "sp1: str\n",
       "    the name of the ionized species\n",
       "\n",
       "Returns\n",
       "-------\n",
       "new_rates: List[Str]\n",
       "    the list of reactions names added\n",
       "\u001b[0;31mFile:\u001b[0m      /mnt/gv0/homes/kwoksun2/dengo-merge/dengo/reaction_classes.py\n",
       "\u001b[0;31mType:\u001b[0m      function\n"
      ]
     },
     "metadata": {},
     "output_type": "display_data"
    }
   ],
   "source": [
    "?chianti_rate"
   ]
  },
  {
   "cell_type": "code",
   "execution_count": 20,
   "id": "a1da85ec-5620-42e5-9876-4891670cdaea",
   "metadata": {},
   "outputs": [
    {
     "name": "stdout",
     "output_type": "stream",
     "text": [
      "['H_1_i', 'H_2_r']\n"
     ]
    }
   ],
   "source": [
    "# This would create the recombination\n",
    "(recomb_H,) = chianti_rate(\"H\", None, HI, HII)\n",
    "# Collisional Ionization\n",
    "(ioniz_H,) = chianti_rate(\"H\", HI, HII, None)\n",
    "\n",
    "rxn_name = [recomb_H, ioniz_H]\n",
    "print(rxn_name)"
   ]
  },
  {
   "cell_type": "code",
   "execution_count": 21,
   "id": "eaf13d8f-7ce1-44bd-89ac-4cfb62f0036b",
   "metadata": {},
   "outputs": [
    {
     "data": {
      "text/plain": [
       "{'H_1_i': H_1_i : 1*H_1 + 1*de => 1*H_2 + 2*de,\n",
       " 'H_2_r': H_2_r : 1*H_2 + 1*de => 1*H_1}"
      ]
     },
     "execution_count": 21,
     "metadata": {},
     "output_type": "execute_result"
    }
   ],
   "source": [
    "reaction_registry"
   ]
  },
  {
   "cell_type": "code",
   "execution_count": 23,
   "id": "41a338fb-fa5b-4042-899e-c27ceb463c20",
   "metadata": {},
   "outputs": [
    {
     "name": "stdout",
     "output_type": "stream",
     "text": [
      "Adding reaction: H_1_i : 1*H_1 + 1*de => 1*H_2 + 2*de\n",
      "Adding reaction: H_2_r : 1*H_2 + 1*de => 1*H_1\n"
     ]
    }
   ],
   "source": [
    "ion_by_ion.add_reaction(recomb_H)\n",
    "ion_by_ion.add_reaction(ioniz_H)"
   ]
  },
  {
   "cell_type": "markdown",
   "id": "389c510f-19dd-4c7d-bffd-52bb7dc4a6a1",
   "metadata": {},
   "source": [
    "here `H_1_i` corresponds to the collionsional ionization of neural hydrogen atom, while `H_2_r` refers to the recombination of the ionizied hydrogen with electrons."
   ]
  },
  {
   "cell_type": "markdown",
   "id": "ad7ce3e7-4d26-40ea-a3da-a6e261105058",
   "metadata": {},
   "source": [
    "## PhotoIonization\n",
    "\n",
    "Unlike recombination and ionization, photoioinization depends on the background radiation and the cross section. To this end, `Dengo` comes up with precompiled tables from [Non-equilibrium ionisation and cooling of metal-enriched gas in the presence of a photo-ionisation background](https://noneq.strw.leidenuniv.nl/#noneqtables), and these are stored under `input/photoionization`. This photoionization rates are calculated using the extra galactic background from [Haardt & Madau(2012)](http://adsabs.harvard.edu/abs/2009MNRAS.393...99W) by[Oppenheimer and Schaye](https://arxiv.org/pdf/1302.5710.pdf). $\\mathrm{H, He, C, N, O, Ne, Si, Mg, S, Ca, Fe}$ are the dominant species and their respective photoionization rates are provided alongside `Dengo`, under `input/photoionization/{species_name}_ion_by_ion_photoionization_HM12.h5`. These reactions can be recognized and automatically added to the `reaction_registry` with `dengo.reaction_classes.ion_photoionization_rate`. Since `H^+` cannot be further ionized, the function returns an empty list. The reaction name that depicts the photonization of hydrogen atom is given by `H_1_pi`."
   ]
  },
  {
   "cell_type": "code",
   "execution_count": 33,
   "id": "5ffb0cfa-ab9c-4b48-95ee-c98f2b82afc6",
   "metadata": {},
   "outputs": [
    {
     "name": "stdout",
     "output_type": "stream",
     "text": [
      "H_1_pi []\n"
     ]
    }
   ],
   "source": [
    "(photo_HI,) = dengo.reaction_classes.ion_photoionization_rate(HI)\n",
    "photo_HII = dengo.reaction_classes.ion_photoionization_rate(HII)\n",
    "print(photo_HI, photo_HII)"
   ]
  },
  {
   "cell_type": "markdown",
   "id": "cb9bf6f5-c124-419e-bee2-5e3aea20c578",
   "metadata": {},
   "source": [
    "## Photoionization Heating\n",
    "\n",
    "Photo-heating efficiency of a species $x_i$ is given by\n",
    "$$\n",
    "\\epsilon_{x_i} = \\int_{\\nu_{0,x_i}}^\\infty \\frac{4\\pi J_\\nu}{h\\nu} \\sigma_{x_i} (\\nu) h(\\nu - \\nu_{0,x_i}) d\\nu\n",
    "$$\n",
    "where $J_\\nu$ is the EGB radiation field HM12, $\\sigma_{x_i}$ is the photo-ionization cross-section of species $x_i$. $\\nu_{0,x_i}$ is the ground state energy of the (ionized) atom. `Dengo` handles it internally with `dengo.reaction_classes.ion_photoheating_rate` and registered it in `cooling_registry`. To go from photo-heating efficiency to heating rate one has to multiply it by the number density of the species $x_i$. This can be obtained from the examining the equation attribute from cooling_action."
   ]
  },
  {
   "cell_type": "code",
   "execution_count": 76,
   "id": "1fdde3b1-b85b-4a55-b94d-4cccd48e8f54",
   "metadata": {},
   "outputs": [],
   "source": [
    "(photoheat_HI,) = dengo.reaction_classes.ion_photoheating_rate(HI)"
   ]
  },
  {
   "cell_type": "code",
   "execution_count": 77,
   "id": "a2809798-42e4-4c57-afcd-5f9ba32db07a",
   "metadata": {},
   "outputs": [
    {
     "data": {
      "text/plain": [
       "{'H_1_ph': <dengo.reaction_classes.CoolingAction at 0x7f984777c550>,\n",
       " 'H_2_ph': <dengo.reaction_classes.CoolingAction at 0x7f9850a0a1c0>,\n",
       " 'H_1_c': <dengo.reaction_classes.CoolingAction at 0x7f9850472340>,\n",
       " 'H_2_c': <dengo.reaction_classes.CoolingAction at 0x7f9850472f70>}"
      ]
     },
     "execution_count": 77,
     "metadata": {},
     "output_type": "execute_result"
    }
   ],
   "source": [
    "cooling_registry"
   ]
  },
  {
   "cell_type": "code",
   "execution_count": 78,
   "id": "586dbe47-2299-4c1c-960c-c64f4e856a4a",
   "metadata": {},
   "outputs": [
    {
     "data": {
      "text/latex": [
       "$\\displaystyle H_{1 ph H 1 ph[i]} H_{1}$"
      ],
      "text/plain": [
       "H_1_ph_H_1_ph[i]*H_1"
      ]
     },
     "execution_count": 78,
     "metadata": {},
     "output_type": "execute_result"
    }
   ],
   "source": [
    "cooling_registry[\"H_1_ph\"].equation"
   ]
  },
  {
   "cell_type": "code",
   "execution_count": 79,
   "id": "2b6694d3-325f-4607-84fe-52fa4665c86d",
   "metadata": {},
   "outputs": [],
   "source": []
  },
  {
   "cell_type": "code",
   "execution_count": 81,
   "id": "a09f8346-3cdb-4213-9f67-e619f210ff24",
   "metadata": {},
   "outputs": [
    {
     "data": {
      "text/plain": [
       "Text(0, 0.5, 'Rates ($\\\\rm erg/s $}')"
      ]
     },
     "execution_count": 81,
     "metadata": {},
     "output_type": "execute_result"
    },
    {
     "data": {
      "image/png": "[encoded data removed]",
      "text/plain": [
       "<Figure size 432x288 with 1 Axes>"
      ]
     },
     "metadata": {
      "needs_background": "light"
     },
     "output_type": "display_data"
    }
   ],
   "source": [
    "plt.semilogy(\n",
    "    ion_by_ion.z,\n",
    "    cooling_registry[\"H_1_ph\"].tables[\"H_1_ph\"](ion_by_ion),\n",
    "    label=\"H_1_ph\",\n",
    ")\n",
    "plt.legend()\n",
    "plt.xlabel(\"Redshift (z)\")\n",
    "plt.ylabel(r\"Rates ($\\rm erg/s $}\")"
   ]
  },
  {
   "cell_type": "markdown",
   "id": "89a80056-54a8-4e30-a4aa-7843721216f3",
   "metadata": {},
   "source": [
    "# Radiative Cooling\n",
    "\n",
    "Ion-by-Ion cooling includes many different process including include collisional excitations followed by line emission, recombinations with ions, collisional ionizations, and thermal bremsstrahlung. The electron cooling efficiency includes the removal of electron kinetic energy via recombinations with ions, collisional ionizations, collisional excitations followed by prompt line emissions, and thermal bremsstrahlung.\n",
    "For a detailed discussion of the physics involved, we refer readers to [Gnat and Ferland 2012](https://iopscience.iop.org/article/10.1088/0067-0049/199/1/20), [Osterbrock & Ferland](https://ui.adsabs.harvard.edu/abs/2006agna.book.....O). Ion-by-ion cooling efficiencies can be multiplied by $n_{x_i}$ and $n_e$ to obtain the volumetric cooling rate. This is handled by `dengo.reaction_classes.ion_cooling_rate` and registered automatically by `dengo` in cooling registry."
   ]
  },
  {
   "cell_type": "code",
   "execution_count": 82,
   "id": "f957b837-aacc-40ee-aadb-62c80f3597c7",
   "metadata": {},
   "outputs": [],
   "source": [
    "ion_cool_HI = dengo.reaction_classes.ion_cooling_rate(HI, \"H\")"
   ]
  },
  {
   "cell_type": "code",
   "execution_count": 83,
   "id": "d056764b-4ad0-47d0-9856-1712161dcb48",
   "metadata": {},
   "outputs": [],
   "source": [
    "ion_cool_HII = dengo.reaction_classes.ion_cooling_rate(HII, \"H\")"
   ]
  },
  {
   "cell_type": "code",
   "execution_count": 84,
   "id": "f2e86282-a1f6-4baa-9c71-07d0f09b053b",
   "metadata": {},
   "outputs": [
    {
     "data": {
      "text/plain": [
       "{'H_1_ph': <dengo.reaction_classes.CoolingAction at 0x7f984777c550>,\n",
       " 'H_2_ph': <dengo.reaction_classes.CoolingAction at 0x7f9850a0a1c0>,\n",
       " 'H_1_c': <dengo.reaction_classes.CoolingAction at 0x7f98476ee910>,\n",
       " 'H_2_c': <dengo.reaction_classes.CoolingAction at 0x7f98476e8be0>}"
      ]
     },
     "execution_count": 84,
     "metadata": {},
     "output_type": "execute_result"
    }
   ],
   "source": [
    "cooling_registry"
   ]
  },
  {
   "cell_type": "code",
   "execution_count": 85,
   "id": "896d1f83-91ee-4fdf-bcba-89dadc9a38d4",
   "metadata": {},
   "outputs": [
    {
     "data": {
      "text/latex": [
       "$\\displaystyle - H_{1 c H 1 c[i]} H_{1} de$"
      ],
      "text/plain": [
       "-H_1_c_H_1_c[i]*H_1*de"
      ]
     },
     "execution_count": 85,
     "metadata": {},
     "output_type": "execute_result"
    }
   ],
   "source": [
    "cooling_registry[\"H_1_c\"].equation"
   ]
  },
  {
   "cell_type": "code",
   "execution_count": 86,
   "id": "33374c2f-672f-4cc4-bff8-b3d9a96ed1f9",
   "metadata": {},
   "outputs": [
    {
     "data": {
      "text/latex": [
       "$\\displaystyle - H_{2 c H 2 c[i]} H_{2} de$"
      ],
      "text/plain": [
       "-H_2_c_H_2_c[i]*H_2*de"
      ]
     },
     "execution_count": 86,
     "metadata": {},
     "output_type": "execute_result"
    }
   ],
   "source": [
    "cooling_registry[\"H_2_c\"].equation"
   ]
  },
  {
   "cell_type": "code",
   "execution_count": 87,
   "id": "2e9f5144-19c3-4095-a373-e873b7de362f",
   "metadata": {},
   "outputs": [
    {
     "data": {
      "text/plain": [
       "Text(0, 0.5, 'Rates ($\\\\rm erg/s cm^3$}')"
      ]
     },
     "execution_count": 87,
     "metadata": {},
     "output_type": "execute_result"
    },
    {
     "data": {
      "image/png": "[encoded data removed]",
      "text/plain": [
       "<Figure size 432x288 with 1 Axes>"
      ]
     },
     "metadata": {
      "needs_background": "light"
     },
     "output_type": "display_data"
    }
   ],
   "source": [
    "plt.loglog(\n",
    "    ion_by_ion.T, cooling_registry[\"H_2_c\"].tables[\"H_2_c\"](ion_by_ion.T), label=\"H_2_c\"\n",
    ")\n",
    "plt.loglog(\n",
    "    ion_by_ion.T, cooling_registry[\"H_1_c\"].tables[\"H_1_c\"](ion_by_ion.T), label=\"H_1_c\"\n",
    ")\n",
    "plt.legend()\n",
    "plt.xlabel(\"Temperature (K)\")\n",
    "plt.ylabel(r\"Rates ($\\rm erg/s cm^3$}\")"
   ]
  },
  {
   "cell_type": "markdown",
   "id": "2d4254ff-93ff-4687-b93f-73a6d4922e03",
   "metadata": {},
   "source": [
    "## Summing it all up\n",
    "Ionization, recombination, photo-ionization give rises to transitions between ionization states. Photo-heating, and ion-by-ion cooling modifies the thermal energy of the system. In the above we demonstrated that it can be accounted for by adding each one of them by hand. This can grow out of hand as the number of ionization state is enormous. Dengo provide a more straightforward implementation with `dengo.ion_by_ion setup_ionization`. In the next chapter, we assemble them together and evolve a sample case with $\\mathrm{H, He, O}$."
   ]
  }
 ],
 "metadata": {
  "kernelspec": {
   "display_name": "Python 3 (ipykernel)",
   "language": "python",
   "name": "python3"
  },
  "language_info": {
   "codemirror_mode": {
    "name": "ipython",
    "version": 3
   },
   "file_extension": ".py",
   "mimetype": "text/x-python",
   "name": "python",
   "nbconvert_exporter": "python",
   "pygments_lexer": "ipython3",
   "version": "3.8.2"
  }
 },
 "nbformat": 4,
 "nbformat_minor": 5
}
