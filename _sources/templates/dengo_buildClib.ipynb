{
 "cells": [
  {
   "cell_type": "markdown",
   "id": "fd2d928d-7354-4aa4-a75b-029245705c83",
   "metadata": {},
   "source": [
    "# Build C-library\n",
    "This template comes with a `Makefile` that lets the user to compile the library. Apart from specifying the `CVODE_PATH`, `SUITESPARSE_PATH`, `DENGO_INSTALL_PATH`, `HDF5_PATH`, there are additional options the user can choose. One can choose either the `CVDLS` which refers to the CVODE dense linear solver, or `CVKLU` which refers to the CVODE KLU Sparse solver. `CVKLU` is oftentimes preferred as it leverages the emptyness in the Jacobian matrix, and utilizes the SuiteSparse library to perform the newton iterations. `DENGO_INSTALL_PATH` is where the library will be installed. `MAX_NCELLS` determines how many cells would be batched together when the `CVODE` solver is invoked.\n",
    "```\n",
    "# Use the Dense Linear Solver interface (CVDLS)\n",
    "#OPTIONS+= -DMAX_NCELLS=1\n",
    "# Use the Sparse KLU direct solver\n",
    "OPTIONS = -DCVKLU -DMAX_NCELLS=256\n",
    "```\n",
    "The `Make` script uses `libtool` to compile the files and build the libraries. The command `Make` would build and install the libraries. \n",
    "Now you have built a `libdengo.so` in your specified installed path, and you are ready to link it to your favorite program with the sample below, or checkout the `Makefile:run_dengo`.\n",
    "\n",
    "```\n",
    "$(CC) -o $@ $^ $(OPTIONS) -I$(DENGO_INSTALL_PATH)/include -I$(CVODE_PATH)/include -I$(INCLUDES_KLU) -I$(HDF5_PATH)/include -L$(HDF5_PATH)/lib -lhdf5_hl -lhdf5 -L$(DENGO_INSTALL_PATH)/lib -ldengo -lm\n",
    "```"
   ]
  },
  {
   "cell_type": "markdown",
   "id": "58d37f25-c573-4347-8836-24164f50b865",
   "metadata": {},
   "source": [
    "## Main components that drives `Dengo` C-solver\n",
    "\n",
    "In brief, similar to the example we shown before with the python RHS function, the C templates generate primarily solvers\n",
    "\n",
    "- <font color='blue'>{{solver_name}}_solver.h </font>\n",
    "- <font color='blue'>{{solver_name}}_solver.C </font>(major modules in Dengo)\n",
    "- <font color='blue'>{{solver_name}}_solver_main.h </font>\n",
    "- <font color='blue'>{{solver_name}}_solver_main.C </font>(example script to use the C library) \n",
    "- <font color='blue'>initialize_cvode_solver.C </font>(wrapper function for the CVode library)\n",
    "- <font color='blue'>Makefile </font>(to compile the dengo library `libdengo.a`)\n",
    "\n",
    "\n",
    "An example usage of the built dengo library can be found in the `{{solver_name}}_solver_main.C`. The solver is accessed through \n",
    "```C\n",
    "int simple_solve_chemistry_enzo( code_units *units, dengo_field_data *field_data, double dt );\n",
    "```\n",
    "This API follows closely the `Grackle` solver `solver_chemistry` which is tailored to work with `Enzo` simulations. `dengo_field_data` is a data structure that points to the respective abundance pointer `{species.name}_density`. It also informs the setup of the incoming grid. `code_units` informs the dengo solver how to convert from code_units into physical cgs units. `dt` is the delta time the user want to advance the system for. The structure definition taken from `{{solver_name}}_solver.h` are shown below. \n",
    "`dengo_field_data.CoolingTime`, `dengo_field_data.MolecularWeight`, `dengo_field_data.temperature`, `dengo_field_data.Gamma`, `dengo_field_data.Pressure` are **not** required inputs. User however needs to allocate space to these pointers if one want Dengo to compute these quantities alongside the chemical evolution. `dengo_data_file` points to the reaction rates `hdf5` data for on-the-fly interpolations.\n",
    "\n",
    "```C\n",
    "typedef struct dengo_field_data\n",
    "{\n",
    "\n",
    "  unsigned long int nstrip;\n",
    "  unsigned long int ncells; \n",
    "  // let's just pass them passively through field_data\n",
    "  double reltol;\n",
    "  double floor_value;\n",
    "  // This should be updated dynamically \n",
    "  // with dengo\n",
    "  double *density;\n",
    "  double *H_1_density;\n",
    "  double *H_2_density;\n",
    "  double *de_density;\n",
    "  double *ge_density;\n",
    "    \n",
    "  double *CoolingTime;\n",
    "  double *MolecularWeight;\n",
    "  double *temperature;\n",
    "  double *Gamma;\n",
    "  double *Pressure;\n",
    "\n",
    "  int *grid_start;\n",
    "  int *grid_end;\n",
    "  int *grid_dimension;\n",
    "\n",
    "  const char *dengo_data_file;\n",
    "  code_units *units;\n",
    "} dengo_field_data;\n",
    "\n",
    "typedef struct code_units\n",
    "{\n",
    "\n",
    "  int comoving_coordinates;\n",
    "  double density_units;\n",
    "  double length_units;\n",
    "  double time_units;\n",
    "  double velocity_units;\n",
    "  double a_units;\n",
    "  double a_value;\n",
    "\n",
    "} code_units;\n",
    "```"
   ]
  },
  {
   "cell_type": "markdown",
   "id": "c0c0a0ec-6809-4689-8984-4615eadae6b0",
   "metadata": {},
   "source": [
    "## Conclusion\n",
    "1. We outlie how `ChemicalNetwork.write_solver` works.\n",
    "2. How to build the cython module from the templates generated.\n",
    "3. We also outline how the C-library can be built.\n",
    "\n",
    "In the next chapter, we will outline the procedures needed to link hydrodynamical simulations like `enzo` to `dengo`."
   ]
  }
 ],
 "metadata": {
  "kernelspec": {
   "display_name": "Python 3 (ipykernel)",
   "language": "python",
   "name": "python3"
  },
  "language_info": {
   "codemirror_mode": {
    "name": "ipython",
    "version": 3
   },
   "file_extension": ".py",
   "mimetype": "text/x-python",
   "name": "python",
   "nbconvert_exporter": "python",
   "pygments_lexer": "ipython3",
   "version": "3.8.2"
  }
 },
 "nbformat": 4,
 "nbformat_minor": 5
}
