{
 "cells": [
  {
   "cell_type": "markdown",
   "id": "85c1fcb9-9b71-4e7d-842d-bce1683ba3b6",
   "metadata": {},
   "source": [
    "# Simulation Setup\n",
    "In this section, we first outline the simulation setup for our comparison run."
   ]
  },
  {
   "cell_type": "markdown",
   "id": "df02103a-2b6c-4129-9195-01a7660280db",
   "metadata": {},
   "source": [
    "## Prepare the Dengo-Template Files\n",
    "To incorporate $\\texttt{Dengo}$ to the current $\\texttt{Enzo}$ implementation, we have created a helper function that helps generate the files required with $\\texttt{Dengo}$/$\\texttt{Jinja2}$. The github repo can be found here https://github.com/hisunnytang/dengo-templates. By placing the newly generated source files to the `enzo/src/enzo`, the compilation of the `enzo` executable can be done with the switch `make dengo-yes`. For more details, please read the `README.md` in the above mentioned repo."
   ]
  },
  {
   "cell_type": "markdown",
   "id": "d45ea23d-bc2f-4232-ba81-6d43fa4f1eb1",
   "metadata": {},
   "source": [
    "## MUSIC\n",
    "\n",
    "$\\texttt{Enzo}$ does not generate cosmological initial conditions. It relies on external packages to do so. And a detailed description on how to generate various initial conditions are documented in [Enzo User Guide](https://enzo.readthedocs.io/en/latest/user_guide/CosmologicalInitialConditions.html).\n",
    "$\\texttt{MUSIC}$ [Hahn and Abel (2011)](http://arxiv.org/abs/1103.6031) can generate \"uniform\" and \"zoomed\" initial condition files.\n",
    "\n",
    "Below is the music configuration file. The simulation box is initialized a width of $0.3 \\mathrm{Mpc/h}$ at $z = 100$. The `ref_center` refers to the reference center of the simulation. Our simulation is centered on a $10^6 M_\\odot$ dark matter halo based on a coarser initial dark matter only runs. It is a multi-resolution grid with the base resolution of 128 and a highest effective resolution of 512. The initial conditions can be generated with the command\n",
    "```bash\n",
    "./MUSIC music_input.conf\n",
    "```\n",
    "The initial baryon densities, velocities as well as dark matter particle displacements and velocities are placed under the directory `bechem_z100_baryon`. A (incomplete) enzo parameter file `parameter_file.txt` is also generated. This specified the grid specification for enzo.\n",
    "\n",
    "```python\n",
    "[setup]\n",
    "boxlength  = 0.3\n",
    "zstart     = 100\n",
    "levelmin   = 7\n",
    "levelmin_TF = 7\n",
    "levelmax   = 9\n",
    "ref_center = 0.10518512, 0.89903345, 0.39035773\n",
    "ref_extent = 0.2, 0.2, 0.2\n",
    "padding    = 8\n",
    "overlap    = 4\n",
    "align_top  = yes\n",
    "baryons    = yes\n",
    "use_2LPT   = no\n",
    "use_LLA    = no\n",
    "periodic_TF = yes\n",
    "[random]\n",
    "seed[7]    = 23699\n",
    "seed[8]    = 95602\n",
    "seed[9]    = 39181\n",
    "seed[10]   = 45678\n",
    "seed[11]   = 56789\n",
    "seed[12]   = 67890\n",
    "[cosmology]\n",
    "Omega_m    = 0.276\n",
    "Omega_L    = 0.724\n",
    "w0         = -1.0\n",
    "Omega_b    = 0.045\n",
    "H0         = 70.3\n",
    "sigma_8    = 0.811\n",
    "nspec      = 0.961\n",
    "transfer   = eisenstein\n",
    "[output]\n",
    "format     = enzo\n",
    "filename = bechem_z100_baryon\n",
    "```"
   ]
  },
  {
   "cell_type": "markdown",
   "id": "82073f99-ff3b-4fb5-9d6c-ac8b66224b92",
   "metadata": {},
   "source": [
    "## Enzo Setup\n",
    "This outlines the input parameter file to `Enzo`. It is mostly related to the refinement schemes and how to specify chemistry related inputs. \n",
    "\n",
    "\n",
    "### Refinement Schemes\n",
    "- `MaximumRefinementLevel` is set to 31 which converts to a maximum resolution of $\\sim 0.02 AU$\n",
    "- The cell is refined with flags `2 4 6 7 8` [Enzo Parameter List](https://enzo.readthedocs.io/en/latest/parameters/index.html)\n",
    "- `2 4` refers to refinement over baryon mass and particle mass\n",
    "- `6` refers to refinement by Jeans length, we require Jeans Length to be resolved by 64 cells, with a refinement cold temperature of $200 \\mathrm{K}$.\n",
    "- `7` Refine if (cooling time < cell width/sound speed)\n",
    "- `8` Refine by must-refine particles"
   ]
  },
  {
   "cell_type": "markdown",
   "id": "ffdbfb9c-49bc-42b4-84b2-82efb2dc550f",
   "metadata": {},
   "source": [
    "```python\n",
    "# grid refinement parameters\n",
    "StaticHierarchy                       = 0\n",
    "MaximumRefinementLevel                = 31\n",
    "MaximumGravityRefinementLevel         = 31\n",
    "MaximumParticleRefinementLevel        = 9\n",
    "RefineBy                              = 2\n",
    "CellFlaggingMethod                    = 2 4 6 7 8\n",
    "MinimumOverDensityForRefinement       = 0.015625 0.015625 0 0 0\n",
    "MinimumMassForRefinementLevelExponent = -0.3 -0.3 0 0 0\n",
    "RefineByJeansLengthSafetyFactor    = 64\n",
    "JeansRefinementColdTemperature     = 200.0\n",
    "```"
   ]
  },
  {
   "cell_type": "markdown",
   "id": "067e73e1-a3d9-442a-9c3f-34229a83250e",
   "metadata": {},
   "source": [
    "### Dengo Chemistry-Related Parameters\n",
    "\n",
    "We outline the dengo related flags.\n",
    "To use dengo, grackle has to be deactivated first `use_grackle = 0` and user has to set `use_dengo = 1`.\n",
    "`RadiativeCooling = 1` enables thermal energy to be updated. `MultiSpecies = 0` is such that Grackle related flags are not activated.\n",
    "`UseCoolingTimestep = 1` forces the minimum timestep has to be always smaller than 0.1 times the thermal timescale.\n",
    "`dengo_reltol` specifies the \n",
    "Unlike `Grackle` where the initial abundance for various species are calculated internally, we can specify the relative abundance with `CosmologySimulation{species.name}Fraction`.\n",
    "To maintain the consistency with the Grackle simulations, these are the values taken from the internal Grackle setup\n",
    "\n",
    "```python\n",
    "RadiativeCooling        = 1\n",
    "use_grackle             = 0\n",
    "use_dengo = 1\n",
    "MultiSpecies            = 0 // sets grackle.primordial_chemistry\n",
    "MetalCooling            = 0 // sets grackle.metal_cooling\n",
    "grackle_data_file       = CloudyData_UVB=HM2012.h5\n",
    "UseCoolingTimestep = 1\n",
    "dengo_reltol = 1e-04\n",
    "\n",
    "\n",
    "CosmologySimulationH2_1Fraction = 6.091980372629213e-07\n",
    "CosmologySimulationH2_2Fraction = 6.533362733112322e-14\n",
    "CosmologySimulationH_1Fraction = 0.7599993907786267\n",
    "CosmologySimulationH_2Fraction = 0.0001514542764576715\n",
    "CosmologySimulationH_m0Fraction = 2.3270797113461643e-11\n",
    "CosmologySimulationHe_1Fraction = 0.2399999999999904\n",
    "CosmologySimulationHe_2Fraction = 9.6e-15\n",
    "CosmologySimulationHe_3Fraction = 9.6e-18\n",
    "CosmologySimulationdeFraction = 0.00015145425322194602\n",
    "```"
   ]
  }
 ],
 "metadata": {
  "kernelspec": {
   "display_name": "Python 3 (ipykernel)",
   "language": "python",
   "name": "python3"
  },
  "language_info": {
   "codemirror_mode": {
    "name": "ipython",
    "version": 3
   },
   "file_extension": ".py",
   "mimetype": "text/x-python",
   "name": "python",
   "nbconvert_exporter": "python",
   "pygments_lexer": "ipython3",
   "version": "3.8.2"
  }
 },
 "nbformat": 4,
 "nbformat_minor": 5
}
