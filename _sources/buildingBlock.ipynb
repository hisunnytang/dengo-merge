{
 "cells": [
  {
   "cell_type": "markdown",
   "metadata": {},
   "source": [
    "Tutorial: A Chemistry Solver from Scratch\n",
    "=========================================\n",
    "\n",
    "This tutorial walks you through the steps to create a new chemical kinetic rate\n",
    "equation solver.  These solvers all utilize very similar structures for\n",
    "calculating the right hand side and the Jacobian, and will export a\n",
    "standardized API to those functions.  \n",
    "\n",
    "While Dengo provides a number of pre-packaged rate equations, species, rate\n",
    "coefficients and cooling functions, here we provide the necessary steps in\n",
    "order to create new species and rates from scratch."
   ]
  },
  {
   "cell_type": "markdown",
   "metadata": {},
   "source": [
    "## Defining a Species\n",
    "\n",
    "We start by defining individual species.  This can be done inside a python\n",
    "module of your choosing, which we will run at the end to output our new\n",
    "network.  Species are defined by a small number of attributes:\n",
    "\n",
    " * Name (which will be used in cooling functions and internally to the solver)\n",
    " * Number: Mostly unused except when handling ions.\n",
    " * Atomic weight (in integer AMU)\n",
    " * Number of free electrons that is contributes\n",
    "\n",
    "This information is used when calculating things like the contribution of a\n",
    "species to the number density.\n",
    "We now have three symbolic \"species\" objects for hydrogen, ionized hydrogen,\n",
    "and electrons.  Note that Dengo will happily create ions for species defined in\n",
    "the CHIANTI database."
   ]
  },
  {
   "cell_type": "code",
   "execution_count": 1,
   "metadata": {},
   "outputs": [],
   "source": [
    "from dengo.reaction_classes import AtomicSpecies, MolecularSpecies\n",
    "from dengo.chemical_network import species_registry\n",
    "\n",
    "HI = AtomicSpecies('H', 0.0)\n",
    "HII = AtomicSpecies(\"H\", 1.0)\n",
    "H2I = MolecularSpecies(\"H2\", 2.01588, 0.0)\n",
    "de  = species_registry['de']"
   ]
  },
  {
   "cell_type": "markdown",
   "metadata": {},
   "source": [
    "In the above example we utilize the `AtomicSpecies` and `MolecularSpecies`. `Dengo` will try to look for the constituent elements based on the expression from the periodic table, and assign them with appropriate weights. These elements are automatically register to `dengo.reaction_classes.species_registry`. \n",
    "\n",
    "Yeah you have successfully created your `ChemicalSpecies` in `Dengo`!"
   ]
  },
  {
   "cell_type": "code",
   "execution_count": 2,
   "metadata": {},
   "outputs": [
    {
     "data": {
      "text/plain": [
       "{'ge': Species: ge,\n",
       " 'de': Species: de,\n",
       " 'H_1': Species: H_1,\n",
       " 'H_2': Species: H_2,\n",
       " 'H2_1': Species: H2_1}"
      ]
     },
     "execution_count": 2,
     "metadata": {},
     "output_type": "execute_result"
    }
   ],
   "source": [
    "species_registry"
   ]
  },
  {
   "cell_type": "markdown",
   "metadata": {},
   "source": [
    "Creating Reactions\n",
    "------------------\n",
    "Once we have the species in hand, we can then specify the reactions between these different species. Consider a simple reaction where ionized hydrogen atom recombines with an electron and gives a neural Hydrogen atom:\n",
    "$$ \\mathrm{H^+ + e^- \\rightarrow H} $$ \n",
    "`dengo.reaction_classes.reaction` is primarily composed of:\n",
    "- the name of the reaction:\n",
    "```python\n",
    "k01\n",
    "```\n",
    "- input species: \n",
    "```python\n",
    "[(1, \"HII\"), (1, \"de\")]\n",
    " ```\n",
    "- output species: \n",
    "```python\n",
    "[(1, \"HI\")]\n",
    "```\n",
    "- reaction rates: which may depends on the temperature of the medium"
   ]
  },
  {
   "cell_type": "code",
   "execution_count": 3,
   "metadata": {},
   "outputs": [],
   "source": [
    "from dengo.reaction_classes import reaction\n",
    "from dengo.chemical_network import reaction_registry\n",
    "@reaction('k02', [  (1,HII),   (1,de)], [   (1,HI),         ])\n",
    "def rxn(state):\n",
    "    _i1 = (state.T > 5500)\n",
    "    _i2 = ~_i1\n",
    "    vals = np.exp(-28.61303380689232\n",
    "                  - 0.7241125657826851*state.logtev\n",
    "                  - 0.02026044731984691*state.logtev**2\n",
    "                  - 0.002380861877349834*state.logtev**3\n",
    "                  - 0.0003212605213188796*state.logtev**4\n",
    "                  - 0.00001421502914054107*state.logtev**5\n",
    "                  + 4.989108920299513e-6*state.logtev**6\n",
    "                  + 5.755614137575758e-7*state.logtev**7\n",
    "                  - 1.856767039775261e-8*state.logtev**8\n",
    "                  - 3.071135243196595e-9*state.logtev**9)\n",
    "\n",
    "    #vals[_i2] = (1.54e-9*(1.+0.3/np.exp(8.099328789667/state.tev[_i2]))\n",
    "    #              / (np.exp(40.49664394833662/state.tev[_i2])*state.tev[_i2]**1.5)\n",
    "    #              + 3.92e-13/state.tev[_i2]**0.6353)\n",
    "\n",
    "    vals[_i2] = 3.92e-13 / state.tev[_i2]**0.6353\n",
    "\n",
    "    return vals"
   ]
  },
  {
   "cell_type": "markdown",
   "metadata": {},
   "source": [
    "Similar to species, the reaction is registered in the `dengo.chemical_network.reaction_registry`, and the `dengo.reaction_classes.Reaction` is accesible through the reaction registry."
   ]
  },
  {
   "cell_type": "code",
   "execution_count": 4,
   "metadata": {},
   "outputs": [
    {
     "data": {
      "text/plain": [
       "(k02 : 1*H_2 + 1*de => 1*H_1, dengo.reaction_classes.Reaction)"
      ]
     },
     "execution_count": 4,
     "metadata": {},
     "output_type": "execute_result"
    }
   ],
   "source": [
    "reaction_registry['k02'], type(reaction_registry['k02'])"
   ]
  },
  {
   "cell_type": "markdown",
   "metadata": {},
   "source": [
    "Cooling Functions\n",
    "-----------------\n",
    "The release/ absorption of energy via various physical process would modify the thermal state of the medium, which might in turn accelerates/ terminates further reactions. Keeping track of the thermal energy through the course of evolution is quintessential to the accurate modeling of the process. \n",
    "\n",
    "`<dengo.reaction_classes.CoolingAction>` is composed of:\n",
    "- name\n",
    "- the cooling equation\n",
    "- cooling rate"
   ]
  },
  {
   "cell_type": "code",
   "execution_count": 5,
   "metadata": {},
   "outputs": [],
   "source": [
    "from dengo.reaction_classes import cooling_action\n",
    "from dengo.chemical_network import cooling_registry\n",
    "\n",
    "# -- reHII --\n",
    "@cooling_action(\"reHII\", \"-reHII * HII * de\")\n",
    "def cool(eq):\n",
    "    @eq.table\n",
    "    def reHII(state):\n",
    "        # (from Hui and Gnedin 1997)\n",
    "        lambdaHI = 2.0 * 157807e0 / state.T\n",
    "        vals = 1.778e-29 * state.T * lambdaHI**1.965 / \\\n",
    "         (1.0e0 + (lambdaHI/0.541)**0.502)**2.697\n",
    "        return vals"
   ]
  },
  {
   "cell_type": "markdown",
   "metadata": {},
   "source": [
    "Finally, we have our chemical species, reactions, cooling functions ready!"
   ]
  },
  {
   "cell_type": "markdown",
   "metadata": {},
   "source": [
    "Creating a Network\n",
    "------------------\n",
    "We can now assemble them together in this `ChemicalNetwork`. This object helps us do all the neccessary computations to arrive at the symbolic **rhs** and **jacobian** functions. Which ultimately eases us of the process of deriving them by hand.\n",
    "\n",
    "In our example with only one reaction, everything will eventually be recombined to form neural hydrogen.\n",
    "$$ \\mathrm{ H^+ + e^- \\rightarrow H} $$\n",
    "\n",
    "\\begin{align*}\n",
    "\\mathrm{\n",
    "\\frac{d H}{dt} = k02(T) \\,  H^+ \\, e^- \\\\\n",
    "\\frac{d  H^+}{dt} = - k02(T) \\,  H^+ \\, e^- \\\\\n",
    "\\frac{d e^-}{dt} = - k02(T) \\,  H^+ \\, e^- \\\\\n",
    "}\n",
    "\\end{align*}\n",
    "\n",
    "We can do a quick sanity check on the conservation of the species $H$ and the charge $e^-$ and the equation above apparently satisfies our conservation law.\n",
    "$$\\frac{d}{dt} (H + H^+) = 0$$ \n",
    "$$\\frac{d}{dt} (H^+ -e^-) = 0 $$"
   ]
  },
  {
   "cell_type": "code",
   "execution_count": 6,
   "metadata": {},
   "outputs": [
    {
     "name": "stdout",
     "output_type": "stream",
     "text": [
      "Adding reaction: k02 : 1*H_2 + 1*de => 1*H_1\n"
     ]
    }
   ],
   "source": [
    "from dengo.chemical_network import ChemicalNetwork\n",
    "simpleNetwork = ChemicalNetwork()\n",
    "simpleNetwork.add_reaction(\"k02\")\n",
    "simpleNetwork.add_cooling(\"reHII\")\n",
    "simpleNetwork.init_temperature((1e0, 1e8))\n",
    "simpleNetwork.enforce_conservation = True"
   ]
  },
  {
   "cell_type": "markdown",
   "metadata": {},
   "source": [
    "Let's see what `ChemicalNetwork` is capable of doing!"
   ]
  },
  {
   "cell_type": "code",
   "execution_count": 7,
   "metadata": {},
   "outputs": [
    {
     "data": {
      "text/plain": [
       "{'k02': k02 : 1*H_2 + 1*de => 1*H_1}"
      ]
     },
     "execution_count": 7,
     "metadata": {},
     "output_type": "execute_result"
    }
   ],
   "source": []
  },
  {
   "cell_type": "code",
   "execution_count": 8,
   "metadata": {},
   "outputs": [
    {
     "data": {
      "text/plain": [
       "{'reHII': <dengo.reaction_classes.CoolingAction at 0x7f7e78ce8d00>}"
      ]
     },
     "execution_count": 8,
     "metadata": {},
     "output_type": "execute_result"
    }
   ],
   "source": [
    "simpleNetwork.cooling_actions"
   ]
  },
  {
   "cell_type": "code",
   "execution_count": 9,
   "metadata": {},
   "outputs": [
    {
     "data": {
      "text/plain": [
       "{Species: H_1, Species: H_2, Species: de, Species: ge}"
      ]
     },
     "execution_count": 9,
     "metadata": {},
     "output_type": "execute_result"
    }
   ],
   "source": [
    "simpleNetwork.required_species"
   ]
  },
  {
   "cell_type": "code",
   "execution_count": 23,
   "metadata": {},
   "outputs": [
    {
     "data": {
      "image/png": "[encoded data removed]",
      "text/plain": [
       "<Figure size 432x288 with 1 Axes>"
      ]
     },
     "metadata": {
      "needs_background": "light"
     },
     "output_type": "display_data"
    }
   ],
   "source": [
    "import numpy as np\n",
    "import matplotlib.pyplot as plt\n",
    "\n",
    "f, ax = plt.subplots()\n",
    "for name, reaction in simpleNetwork.reactions.items():\n",
    "    ax.loglog(simpleNetwork.T, reaction.coeff_fn(simpleNetwork))"
   ]
  },
  {
   "cell_type": "code",
   "execution_count": 22,
   "metadata": {},
   "outputs": [
    {
     "data": {
      "text/latex": [
       "$\\displaystyle - reHII_{reHII[i]} H_{2} de$"
      ],
      "text/plain": [
       "-reHII_reHII[i]*H_2*de"
      ]
     },
     "execution_count": 22,
     "metadata": {},
     "output_type": "execute_result"
    }
   ],
   "source": [
    "coolaction.equation"
   ]
  },
  {
   "cell_type": "markdown",
   "metadata": {},
   "source": [
    "`ChemicalNetwork.species_total`\n",
    "------------------"
   ]
  },
  {
   "cell_type": "code",
   "execution_count": 10,
   "metadata": {},
   "outputs": [],
   "source": [
    "dHI_dt = simpleNetwork.species_total(\"H_1\")\n",
    "dHII_dt = simpleNetwork.species_total(\"H_2\")\n",
    "de_dt  = simpleNetwork.species_total(\"de\")"
   ]
  },
  {
   "cell_type": "code",
   "execution_count": null,
   "metadata": {},
   "outputs": [],
   "source": []
  }
 ],
 "metadata": {
  "kernelspec": {
   "display_name": "dedalus",
   "language": "python",
   "name": "python3"
  },
  "language_info": {
   "codemirror_mode": {
    "name": "ipython",
    "version": 3
   },
   "file_extension": ".py",
   "mimetype": "text/x-python",
   "name": "python",
   "nbconvert_exporter": "python",
   "pygments_lexer": "ipython3",
   "version": "3.8.6"
  }
 },
 "nbformat": 4,
 "nbformat_minor": 4
}
