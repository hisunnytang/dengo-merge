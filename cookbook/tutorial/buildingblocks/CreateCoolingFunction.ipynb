{
 "cells": [
  {
   "cell_type": "markdown",
   "id": "af8febe0-7ea8-4c8c-adf6-6e0b3aa990cd",
   "metadata": {},
   "source": [
    "# Create Cooling Functions\n",
    "\n",
    "The release/ absorption of energy via various physical process would modify the thermal state of the medium, which might in turn accelerates/ terminates further reactions. Keeping track of the thermal energy through the course of evolution is quintessential to the accurate modeling of the process. \n",
    "\n",
    "```{note}\n",
    "While it is termed cooling actions, or cooling function in `dengo`, it is **not** limited only to cooling functions. This module can account for general modifications to the thermal energy of the fluid parcel $\\frac{d\\epsilon}{dt}$ whether it is injecting/ releasing energy from the fluid parcel. For example, when molecular hydrogen is formed from 3-body reactions, $4.48 eV$ is released. We will demonstrate that how to account for the chemical heating in one of the chapters to follow. \n",
    "```\n",
    "\n",
    "\n",
    "$k01$ is the reaction that describes the recombination of an ionized hydrogen atom with an electron. Energy is released as a result of such process.\n",
    " \n",
    " \n",
    "## Register new cooling functions with the `cooling_action` decorator\n",
    "Similar to reactions, the cooling functions can be specified with a decorator `dengo.reaction_classes.cooling_action`.\n",
    "a `cooling_action` to `dengo` is primarily composed of:\n",
    "- **name** of the cooling function, i.e. `reHII`\n",
    "- **Cooling Equation**, `-reHII * HII * de`\n",
    "- **Cooling Rate**, that often times dependent on the temperature of the gas parcel, and sometimes on external factors as well.\n",
    "\n",
    "In the example below, `HII` and `de` are defined and registered in `dengo` species registry. `reHII` the cooling rate associated to this particular cooling function. The cooling rate takes `eq` as an input. `@eq.table` register the cooling rates that are dependent on temperature. From then on `dengo` would associate the symbol `reHII` appeared in the cooling equation to the user-supplied cooling rate `def reHII(state)` internally."
   ]
  },
  {
   "cell_type": "code",
   "execution_count": 11,
   "id": "1e155ffe-ebcd-485b-9efb-e8756e049aa8",
   "metadata": {},
   "outputs": [],
   "source": [
    "from dengo.reaction_classes import cooling_action\n",
    "from dengo.chemical_network import cooling_registry\n",
    "\n",
    "# -- reHII --\n",
    "@cooling_action(\"reHII\", \"-reHII * HII * de\")\n",
    "def cool(eq):\n",
    "    @eq.table\n",
    "    def reHII(state):\n",
    "        # (from Hui and Gnedin 1997)\n",
    "        lambdaHI = 2.0 * 157807e0 / state.T\n",
    "        vals = 1.778e-29 * state.T * lambdaHI**1.965 / \\\n",
    "         (1.0e0 + (lambdaHI/0.541)**0.502)**2.697\n",
    "        return vals"
   ]
  },
  {
   "cell_type": "code",
   "execution_count": 12,
   "id": "93928fec-bb9d-4963-bc53-77d78f09c143",
   "metadata": {},
   "outputs": [
    {
     "data": {
      "text/plain": [
       "(<dengo.reaction_classes.CoolingAction at 0x7f150a169f40>,\n",
       " dengo.reaction_classes.CoolingAction)"
      ]
     },
     "execution_count": 12,
     "metadata": {},
     "output_type": "execute_result"
    }
   ],
   "source": [
    "cooling_registry['reHII'], type(cooling_registry['reHII'])"
   ]
  }
 ],
 "metadata": {
  "kernelspec": {
   "display_name": "Python 3 (ipykernel)",
   "language": "python",
   "name": "python3"
  },
  "language_info": {
   "codemirror_mode": {
    "name": "ipython",
    "version": 3
   },
   "file_extension": ".py",
   "mimetype": "text/x-python",
   "name": "python",
   "nbconvert_exporter": "python",
   "pygments_lexer": "ipython3",
   "version": "3.8.2"
  }
 },
 "nbformat": 4,
 "nbformat_minor": 5
}
