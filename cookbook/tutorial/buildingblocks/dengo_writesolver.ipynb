{
 "cells": [
  {
   "cell_type": "markdown",
   "id": "48e35592-4454-4811-a94d-d5e21a73ae0a",
   "metadata": {},
   "source": [
    "# Making Use of Dengo templates\n",
    "In this chapter, we will walk through how to build the C library with the template provided in `dengo.templates`. This is particularly useful when one wants to extend the solver to solve the chemistry alongside hydrodynamical simulations like `enzo`. \n",
    "\n",
    "In this example, we will stick with the 2-species primordial chemistry model we used in the last two chapters."
   ]
  },
  {
   "cell_type": "markdown",
   "id": "5f865818-865a-4da1-841a-8f01fa45d320",
   "metadata": {},
   "source": [
    "## Generate templates with `ChemicalNetwork.write_solver`\n",
    "With the `ChemicalNetwork` object, `Dengo` can write the C solver.\n",
    "The corresponding auxillary library paths are needed to be set as the **environomental variables**, in order to compile our python modules.\n",
    "\n",
    "- <font color='green'>HDF5_DIR </font>          (HDF5 installation path)\n",
    "- <font color='green'>CVODE_PATH </font>        (CVode installation path)\n",
    "- <font color='green'>SUITESPARSE_PATH </font>  (SuiteSparse library which is optional unless we use `KLU` option)\n",
    "- <font color='green'> DENGO_INSTALL_PATH</font> (Installation Path of Dengo)\n",
    "\n",
    "`solver_template` are the existing templates under `dengo.templates`. Currently there are two major ones `be_chem_solve`"
   ]
  },
  {
   "cell_type": "code",
   "execution_count": 7,
   "id": "693c8618-1f08-4f55-a184-d5431c204281",
   "metadata": {
    "tags": [
     "hide-input"
    ]
   },
   "outputs": [
    {
     "name": "stdout",
     "output_type": "stream",
     "text": [
      "Adding reaction: k01 : 1*H_1 + 1*de => 1*H_2 + 2*de\n",
      "Adding reaction: k02 : 1*H_2 + 1*de => 1*H_1\n"
     ]
    }
   ],
   "source": [
    "import dengo\n",
    "from dengo.chemical_network import \\\n",
    " ChemicalNetwork, \\\n",
    " reaction_registry, \\\n",
    " cooling_registry, species_registry\n",
    "import dengo.primordial_rates\n",
    "import dengo.primordial_cooling\n",
    "\n",
    "dengo.primordial_rates.setup_primordial()\n",
    "\n",
    "simpleNetwork = ChemicalNetwork()\n",
    "simpleNetwork.add_reaction(\"k01\")\n",
    "simpleNetwork.add_reaction(\"k02\")\n",
    "simpleNetwork.add_cooling(\"reHII\")\n",
    "simpleNetwork.init_temperature((1e0, 1e8))"
   ]
  },
  {
   "cell_type": "code",
   "execution_count": 8,
   "id": "f0e98d60-2c26-4410-8c30-f8fc8eb464a8",
   "metadata": {},
   "outputs": [],
   "source": [
    "solver_name = \"simpleNetwork\"\n",
    "simpleNetwork.write_solver(\n",
    "    solver_name, \n",
    "    output_dir = \".\", \n",
    "    solver_template = \"cv_omp/sundials_CVDls\", \n",
    "    ode_solver_source = \"initialize_cvode_solver.C\"\n",
    ")"
   ]
  },
  {
   "cell_type": "code",
   "execution_count": 9,
   "id": "7d9deec8-a057-441f-a186-b94cd5b21341",
   "metadata": {},
   "outputs": [
    {
     "name": "stdout",
     "output_type": "stream",
     "text": [
      "simpleNetwork_solver.C\n",
      "simpleNetwork_solver.h\n",
      "simpleNetwork_solver_main.C\n",
      "simpleNetwork_solver_main.py\n",
      "simpleNetwork_solver_run.cpython-38-x86_64-linux-gnu.so\n",
      "simpleNetwork_solver_run.cpython-38-x86_64-linux-gnu.so.reload1\n",
      "simpleNetwork_solver_run.pxd\n",
      "simpleNetwork_solver_run.pyx\n",
      "simpleNetwork_solver_run.pyxbld\n",
      "simpleNetwork_solver_run.pyxdep\n",
      "simpleNetwork_tables.h5\n"
     ]
    }
   ],
   "source": [
    "!ls simpleNetwork_*"
   ]
  },
  {
   "cell_type": "markdown",
   "id": "ebaebe5f-30cb-4780-b0f1-6813c88317d0",
   "metadata": {},
   "source": [
    "## `ChemicalNetwork.write_solver` \n",
    "Look in your directory there are 9 extra files, from `C` to `python` codes!\n",
    "\n",
    "### Main components that drives `Dengo` C-solver\n",
    "\n",
    "- <font color='blue'>{{solver_name}}_solver.h </font>\n",
    "- <font color='blue'>{{solver_name}}_solver.C </font>(major modules in Dengo)\n",
    "- <font color='blue'>{{solver_name}}_solver_main.h </font>\n",
    "- <font color='blue'>{{solver_name}}_solver_main.C </font>(example script to use the C library) \n",
    "- <font color='blue'>initialize_cvode_solver.C </font>(wrapper function for the CVode library)\n",
    "- <font color='blue'>Makefile </font>(to compile the dengo library `libdengo.a`)\n",
    "\n",
    "### Helper function to compile `Dengo` C files for `Python` wrapper\n",
    "- <font color='blue'>{{solver_name}}_solver_run.pyxbld </font>\n",
    "- <font color='blue'>{{solver_name}}_solver_run.pyxdep </font>\n",
    "- <font color='blue'>{{solver_name}}_solver_run.pxd </font>\n",
    "- <font color='blue'>{{solver_name}}_solver_run.pyx </font> (major Python wrapper)"
   ]
  }
 ],
 "metadata": {
  "kernelspec": {
   "display_name": "Python 3 (ipykernel)",
   "language": "python",
   "name": "python3"
  },
  "language_info": {
   "codemirror_mode": {
    "name": "ipython",
    "version": 3
   },
   "file_extension": ".py",
   "mimetype": "text/x-python",
   "name": "python",
   "nbconvert_exporter": "python",
   "pygments_lexer": "ipython3",
   "version": "3.8.2"
  }
 },
 "nbformat": 4,
 "nbformat_minor": 5
}
