{
 "cells": [
  {
   "cell_type": "markdown",
   "id": "9dabb8ce-0a7d-4b8e-bbfc-79b859f9da99",
   "metadata": {},
   "source": [
    "# Creating a New Chemical Species\n",
    "\n",
    "We start by defining individual species.  This can be done inside a python\n",
    "module of your choosing, which we will run at the end to output our new\n",
    "network.  Species are defined by a small number of attributes:\n",
    "\n",
    " * Name (which will be used in cooling functions and internally to the solver)\n",
    " * Number: Mostly unused except when handling ions.\n",
    " * Atomic weight (in integer AMU)\n",
    " * Number of free electrons that is contributes\n",
    "\n",
    "This information is used when calculating things like the contribution of a\n",
    "species to the number density.\n",
    "We now have three symbolic \"species\" objects for hydrogen, ionized hydrogen,\n",
    "and electrons.  Note that Dengo will happily create ions for species defined in\n",
    "the CHIANTI database."
   ]
  },
  {
   "cell_type": "code",
   "execution_count": 5,
   "id": "20806901-ecff-4ebc-bff8-f1b53bc4ee75",
   "metadata": {},
   "outputs": [],
   "source": [
    "from dengo.reaction_classes import AtomicSpecies, MolecularSpecies\n",
    "from dengo.chemical_network import species_registry\n",
    "\n",
    "HI = AtomicSpecies('H', free_electrons=0)\n",
    "HII = AtomicSpecies(\"H\", free_electrons=1)\n",
    "H2I = MolecularSpecies(\"H2\", weight=2.01588, free_electrons=0)\n",
    "de  = species_registry['de']"
   ]
  },
  {
   "cell_type": "markdown",
   "id": "d6c32b30-5184-483e-92a4-3efef931bb05",
   "metadata": {},
   "source": [
    "Currently in `dengo`, `AtomicSpecies` and `MolecularSpecies` are the two primary ways to initialize a chemical species. `Dengo.reaction_classes.AtomicSpecies` will try to look for the constituent elements based on the expression from the periodic table, and assign them with appropriate weights. These elements are automatically register to `dengo.reaction_classes.species_registry`. \n",
    "\n",
    "Yeah you have successfully created your `ChemicalSpecies` in `Dengo`!"
   ]
  }
 ],
 "metadata": {
  "kernelspec": {
   "display_name": "Python 3 (ipykernel)",
   "language": "python",
   "name": "python3"
  },
  "language_info": {
   "codemirror_mode": {
    "name": "ipython",
    "version": 3
   },
   "file_extension": ".py",
   "mimetype": "text/x-python",
   "name": "python",
   "nbconvert_exporter": "python",
   "pygments_lexer": "ipython3",
   "version": "3.8.2"
  }
 },
 "nbformat": 4,
 "nbformat_minor": 5
}
