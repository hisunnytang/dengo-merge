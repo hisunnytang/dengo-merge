{
 "cells": [
  {
   "cell_type": "markdown",
   "id": "b620ba48-11b7-414d-9ddb-c1c47e1becb9",
   "metadata": {},
   "source": [
    "Creating a Network\n",
    "------------------\n",
    "We can now assemble them together in this `ChemicalNetwork`. This object helps us do all the neccessary computations to arrive at the symbolic **rhs** and **jacobian** functions, which ultimately eases us of the process of deriving them by hand. \n",
    "\n",
    "In our example with only two reactions, that consisted of $\\rm H, H^+, e^-$. Note that in the below they represent the **number density $(\\rm cm^{-3})$** of different species.\n",
    "\n",
    "$$\n",
    "    \\mathrm{ H^+ + e^- \\rightarrow H}\n",
    "$$\n",
    "\n",
    "$$\n",
    "    \\mathrm{ H + e^- \\rightarrow H^+ + 2 e^-}\n",
    "$$\n",
    "\n",
    "$$\n",
    "    \\begin{align*}\n",
    "    \\mathrm{\n",
    "    \\frac{d H}{dt} = k_{02}(T) \\,  H^+ \\, e^-  - k_{01}(T) \\,  H \\, e^- \\\\\n",
    "    \\frac{d  H^+}{dt} = - k_{02}(T) \\,  H^+ \\, e^- + k_{01}(T) \\,  H \\, e^-  \\\\\n",
    "    \\frac{d e^-}{dt} = - k_{02}(T) \\,  H^+ \\, e^-  + k_{01}(T) \\,  H \\, e^- \\\\\n",
    "    }\n",
    "    \\end{align*}\n",
    "$$\n",
    "\n",
    "We can do a quick sanity check on the conservation of the species $H$ and the charge $e^-$ and the equation above apparently satisfies our conservation law.\n",
    "\n",
    "$$\n",
    "    \\frac{d}{dt} (\\rm H + H^+) = 0\n",
    "$$ \n",
    "\n",
    "$$\n",
    "    \\frac{d}{dt} (\\rm H^+ -e^-) = 0 \n",
    "$$"
   ]
  },
  {
   "cell_type": "markdown",
   "id": "d526322e-37eb-4b4f-9ba4-13c16c8141a1",
   "metadata": {},
   "source": [
    "## Import Libraries and Create the Network\n",
    "\n",
    "Primordial rates and cooling for the 9-species network are included in the default dengo library in `dengo.primordial_rates` and `dengo.primordial_cooling`. The reactions and cooling are added automatically to the `reaction_registry`, `cooling_registry` and `species_registry` with the call to `dengo.primordial_rates.setup_primordial`.  Here we setup the same sample network we demonstrated in the last chapter with `k01`, `k02` and `reHII`."
   ]
  },
  {
   "cell_type": "code",
   "execution_count": 3,
   "id": "d4d581fb-b65b-4c0a-b51e-d4ba820ac778",
   "metadata": {
    "tags": [
     "hide-input"
    ]
   },
   "outputs": [
    {
     "name": "stdout",
     "output_type": "stream",
     "text": [
      "Adding reaction: k01 : 1*H_1 + 1*de => 1*H_2 + 2*de\n",
      "Adding reaction: k02 : 1*H_2 + 1*de => 1*H_1\n"
     ]
    }
   ],
   "source": [
    "import dengo\n",
    "from dengo.chemical_network import \\\n",
    " ChemicalNetwork, \\\n",
    " reaction_registry, \\\n",
    " cooling_registry, species_registry\n",
    "import dengo.primordial_rates\n",
    "import dengo.primordial_cooling\n",
    "\n",
    "dengo.primordial_rates.setup_primordial()\n",
    "\n",
    "simpleNetwork = ChemicalNetwork()\n",
    "simpleNetwork.add_reaction(\"k01\")\n",
    "simpleNetwork.add_reaction(\"k02\")\n",
    "simpleNetwork.add_cooling(\"reHII\")\n",
    "simpleNetwork.init_temperature((1e0, 1e8))"
   ]
  },
  {
   "cell_type": "markdown",
   "id": "43db13c9-43a3-4583-a837-c24b8d71ec25",
   "metadata": {},
   "source": [
    "`simpleNetwork` is fed with the reactions and cooling actions. We are now ready to use `dengo` to build a solver."
   ]
  }
 ],
 "metadata": {
  "kernelspec": {
   "display_name": "Python 3 (ipykernel)",
   "language": "python",
   "name": "python3"
  },
  "language_info": {
   "codemirror_mode": {
    "name": "ipython",
    "version": 3
   },
   "file_extension": ".py",
   "mimetype": "text/x-python",
   "name": "python",
   "nbconvert_exporter": "python",
   "pygments_lexer": "ipython3",
   "version": "3.8.2"
  }
 },
 "nbformat": 4,
 "nbformat_minor": 5
}
