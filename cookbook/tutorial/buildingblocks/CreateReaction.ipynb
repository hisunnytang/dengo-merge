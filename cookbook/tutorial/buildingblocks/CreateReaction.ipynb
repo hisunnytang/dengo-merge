{
 "cells": [
  {
   "cell_type": "markdown",
   "id": "8893ffa2-3db0-433e-b435-9850e8a0840c",
   "metadata": {},
   "source": [
    "# Creating Reactions\n",
    "Once we have the species in hand, we can then specify the reactions between these different species. Consider a simple reaction where ionized hydrogen atom recombines with an electron and gives a neural Hydrogen atom:\n",
    "\n",
    "$$\n",
    "    \\begin{align*}\n",
    "    \\rm H^+ + e^- &\\rightarrow \\rm H \\quad &(k01)  \\\\\n",
    "    \\rm H + e^- &\\rightarrow \\rm H^+ + 2 e^- \\quad &(k02)\n",
    "    \\end{align*}\n",
    "$$"
   ]
  },
  {
   "cell_type": "markdown",
   "id": "40d200b9-24b2-4ab2-b529-9542edf3dd02",
   "metadata": {
    "jp-MarkdownHeadingCollapsed": true,
    "tags": []
   },
   "source": [
    "## Initialize Chemical Species"
   ]
  },
  {
   "cell_type": "code",
   "execution_count": 14,
   "id": "4c28b47f-110b-4245-89db-4993360d9429",
   "metadata": {
    "tags": [
     "hide-input"
    ]
   },
   "outputs": [],
   "source": [
    "from dengo.reaction_classes import AtomicSpecies, MolecularSpecies\n",
    "from dengo.chemical_network import species_registry\n",
    "\n",
    "HI = AtomicSpecies('H', free_electrons=0.0)\n",
    "HII = AtomicSpecies(\"H\", free_electrons=1.0)\n",
    "H2I = MolecularSpecies(\"H2\", weight=2.01588, free_electrons=0.0)\n",
    "de  = species_registry['de']"
   ]
  },
  {
   "cell_type": "markdown",
   "id": "14c55c76-eb78-4ab9-9e56-1c57373cbd5a",
   "metadata": {},
   "source": [
    "## Register new reactions with the `reaction` decorator\n",
    "a `reaction` to `dengo` is primarily composed of:\n",
    "- **name** of the reaction, i.e. `k01`, `k02`\n",
    "- **LHS** of the reaction /input species \n",
    "- **RHS** of the reaction / output species\n",
    "- **reaction rate**, that often times dependent on the temperature of the gas parcel.\n",
    "\n",
    "### Reactants and Products\n",
    "The LHS (reactants) and RHS (Products) are composed of a list of tuples of the consituents of the equation.\n",
    "For a fiducial reaction:\n",
    "$$\n",
    "a A + b B → p P + q Q\n",
    "$$\n",
    "`Dengo` expects an input of LHS and RHS to be `[ (a, A), (b, B)]`, `[(p, P), (q, Q)]`.\n",
    "The first and argument in each tuple are the stoichiometric number and the registered `ChemicalSpecies` \n",
    "\n",
    "For example, `dengo` expects the `LHS` and `RHS` to have an input of the type for `k02`:\n",
    "```python\n",
    "LHS = [(1, HI), (1, de)]\n",
    "RHS = [(1, HII), (2, de)]\n",
    "```\n",
    "\n",
    "### Reaction Rate\n",
    "Reaction are oftentimes dependent on temperature.\n",
    "`dengo` expects a reaction rate function that take `state` as input. `state` contains not only temperature in $\\rm K$, but also in Kelvin log scale, and in $\\rm eV/K$ (electron volts per kelvin), and  $\\rm eV/K$ in log scale. In practice, `ChemicalNetwork` which we will cover in the chapter to come contains these attributes and are treated as `state` input.\n",
    "\n",
    "```python\n",
    "class state:\n",
    "    def __init__(self, T_bounds=(1, 1e8), n_bins=1024):\n",
    "        \"\"\"Initialize the range of temperature over which the rate tables are generated\n",
    "\n",
    "        Parameters\n",
    "        ----------\n",
    "        T_bounds: List[Float, Float], optional (default=(1,1e8))\n",
    "            the range over which the rates table is interpolated\n",
    "\n",
    "        n_bins: int, optional (default=1024)\n",
    "\n",
    "        \"\"\"\n",
    "        self.n_bins = n_bins\n",
    "        self.T = np.logspace(\n",
    "            np.log(T_bounds[0]), np.log(T_bounds[1]), n_bins, base=np.e\n",
    "        )\n",
    "        self.logT = np.log(self.T)\n",
    "        self.tev = self.T / tevk\n",
    "        self.logtev = np.log(self.tev)\n",
    "        self.T_bounds = T_bounds\n",
    "```"
   ]
  },
  {
   "cell_type": "code",
   "execution_count": 18,
   "id": "bd19ef4f-bb01-4477-8e40-db6d919aeaf8",
   "metadata": {},
   "outputs": [],
   "source": [
    "from dengo.reaction_classes import reaction\n",
    "from dengo.chemical_network import reaction_registry\n",
    "\n",
    "tiny = 1e-60\n",
    "# -- k01 --\n",
    "@reaction('k01', [   (1,HI),   (1,de)], [  (1,HII),   (2,de)])\n",
    "def rxn(state):\n",
    "    vals = np.exp(-32.71396786375\n",
    "              + 13.53655609057*state.logtev\n",
    "              - 5.739328757388*state.logtev**2\n",
    "              + 1.563154982022*state.logtev**3\n",
    "              - 0.2877056004391*state.logtev**4\n",
    "              + 0.03482559773736999*state.logtev**5\n",
    "              - 0.00263197617559*state.logtev**6\n",
    "              + 0.0001119543953861*state.logtev**7\n",
    "              - 2.039149852002e-6*state.logtev**8)\n",
    "    # taken from Abel 1999\n",
    "    vals = np.maximum(vals , tiny *np.ones((len(state.T))) )\n",
    "    return vals\n",
    "\n",
    "@reaction('k02', [  (1,HII),   (1,de)], [   (1,HI),         ])\n",
    "def rxn(state):\n",
    "    _i1 = (state.T > 5500)\n",
    "    _i2 = ~_i1\n",
    "    vals = np.exp(-28.61303380689232\n",
    "                  - 0.7241125657826851*state.logtev\n",
    "                  - 0.02026044731984691*state.logtev**2\n",
    "                  - 0.002380861877349834*state.logtev**3\n",
    "                  - 0.0003212605213188796*state.logtev**4\n",
    "                  - 0.00001421502914054107*state.logtev**5\n",
    "                  + 4.989108920299513e-6*state.logtev**6\n",
    "                  + 5.755614137575758e-7*state.logtev**7\n",
    "                  - 1.856767039775261e-8*state.logtev**8\n",
    "                  - 3.071135243196595e-9*state.logtev**9)\n",
    "    vals[_i2] = 3.92e-13 / state.tev[_i2]**0.6353\n",
    "\n",
    "    return vals"
   ]
  },
  {
   "cell_type": "markdown",
   "id": "fbda855d-bfdd-4254-9a50-4e597bcbbf87",
   "metadata": {},
   "source": [
    "Similar to species, the reaction is registered in the `dengo.chemical_network.reaction_registry`, and the `dengo.reaction_classes.Reaction` is accesible through the reaction registry."
   ]
  },
  {
   "cell_type": "code",
   "execution_count": 19,
   "id": "47804535-39e7-4b8d-b3cb-12bcc2420a27",
   "metadata": {},
   "outputs": [
    {
     "data": {
      "text/plain": [
       "(k01 : 1*H_1 + 1*de => 1*H_2 + 2*de, dengo.reaction_classes.Reaction)"
      ]
     },
     "execution_count": 19,
     "metadata": {},
     "output_type": "execute_result"
    }
   ],
   "source": [
    "reaction_registry['k01'], type(reaction_registry['k01'])"
   ]
  },
  {
   "cell_type": "code",
   "execution_count": 20,
   "id": "197e1147-db47-4d24-a1bb-0f67674fa231",
   "metadata": {},
   "outputs": [
    {
     "data": {
      "text/plain": [
       "(k02 : 1*H_2 + 1*de => 1*H_1, dengo.reaction_classes.Reaction)"
      ]
     },
     "execution_count": 20,
     "metadata": {},
     "output_type": "execute_result"
    }
   ],
   "source": [
    "reaction_registry['k02'], type(reaction_registry['k02'])"
   ]
  },
  {
   "cell_type": "markdown",
   "id": "4d476ff1-78ee-4ad9-a3f4-462ff5755343",
   "metadata": {},
   "source": [
    "## Visualize the rate as a function of temperature"
   ]
  },
  {
   "cell_type": "code",
   "execution_count": 25,
   "id": "25208764-1174-4f42-9cdd-6b3dafe9ce00",
   "metadata": {},
   "outputs": [
    {
     "data": {
      "text/plain": [
       "<matplotlib.legend.Legend at 0x7f06502d1670>"
      ]
     },
     "execution_count": 25,
     "metadata": {},
     "output_type": "execute_result"
    },
    {
     "data": {
      "image/png": "[encoded data removed]",
      "text/plain": [
       "<Figure size 432x288 with 1 Axes>"
      ]
     },
     "metadata": {
      "needs_background": "light"
     },
     "output_type": "display_data"
    }
   ],
   "source": [
    "import numpy as np\n",
    "import matplotlib.pyplot as plt\n",
    "from dengo.chemistry_constants import tevk\n",
    "\n",
    "class state:\n",
    "    def __init__(self, T_bounds=(1, 1e8), n_bins=1024):\n",
    "        \"\"\"Initialize the range of temperature over which the rate tables are generated\n",
    "\n",
    "        Parameters\n",
    "        ----------\n",
    "        T_bounds: List[Float, Float], optional (default=(1,1e8))\n",
    "            the range over which the rates table is interpolated\n",
    "\n",
    "        n_bins: int, optional (default=1024)\n",
    "\n",
    "        \"\"\"\n",
    "        self.n_bins = n_bins\n",
    "        self.T = np.logspace(\n",
    "            np.log(T_bounds[0]), np.log(T_bounds[1]), n_bins, base=np.e\n",
    "        )\n",
    "        self.logT = np.log(self.T)\n",
    "        self.tev = self.T / tevk\n",
    "        self.logtev = np.log(self.tev)\n",
    "        self.T_bounds = T_bounds\n",
    "        \n",
    "        \n",
    "temperature_state = state()\n",
    "\n",
    "\n",
    "\n",
    "rxnk01 = reaction_registry['k01']\n",
    "rxnk02 = reaction_registry['k02']\n",
    "temperature = temperature_state.T\n",
    "rxnk01_rate = rxnk01.coeff_fn(temperature_state)\n",
    "rxnk02_rate = rxnk02.coeff_fn(temperature_state)\n",
    "\n",
    "plt.loglog(temperature, rxnk01_rate, label='k01')\n",
    "plt.loglog(temperature, rxnk02_rate, label='k02')\n",
    "plt.xlabel(r'Temperature $(\\rm K)$')\n",
    "plt.ylabel(r'Reaction Rate $(\\rm g^{-1} cm^{3} s^{-1} )$')\n",
    "plt.legend()\n",
    "plt.legend()"
   ]
  }
 ],
 "metadata": {
  "kernelspec": {
   "display_name": "Python 3 (ipykernel)",
   "language": "python",
   "name": "python3"
  },
  "language_info": {
   "codemirror_mode": {
    "name": "ipython",
    "version": 3
   },
   "file_extension": ".py",
   "mimetype": "text/x-python",
   "name": "python",
   "nbconvert_exporter": "python",
   "pygments_lexer": "ipython3",
   "version": "3.8.2"
  }
 },
 "nbformat": 4,
 "nbformat_minor": 5
}
