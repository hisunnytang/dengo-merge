{
 "cells": [
  {
   "cell_type": "markdown",
   "id": "cbf2baf5-5910-4743-9166-68889b5c72df",
   "metadata": {},
   "source": [
    "# How Does Dengo Generate Solvers?\n",
    "\n",
    "This tutorial tells you how the solver are generated with the help of `dengo.ChemicalNetwork`, and `Jinja2`. In short, `dengo.ChemicalNetwork` carries the full information of the chemical reactions and cooling actions of interest. It internally generates the symbolic representation of the dynamics of each chemical species. This can be exported as `C++` or `python` code with a pre-written templates which can be found under `dengo/templates`. In this example we will be demonstrating how to generate rhs and solve the initial value problem with`scipy.odeint`"
   ]
  },
  {
   "cell_type": "markdown",
   "id": "25b3ae80-16fc-4180-9e4e-af95ef0ba2b5",
   "metadata": {},
   "source": [
    "## Import Libraries and Create the Network\n",
    "\n",
    "Primordial rates and cooling for the 9-species network are included in the default dengo library in `dengo.primordial_rates` and `dengo.primordial_cooling`. The reactions and cooling are added automatically to the `reaction_registry`, `cooling_registry` and `species_registry` with the call to `dengo.primordial_rates.setup_primordial`. \n",
    "\n",
    "Here we setup the same sample network we demonstrated in the last chapter with `k01`, `k02` and `reHII`."
   ]
  },
  {
   "cell_type": "code",
   "execution_count": 204,
   "id": "025a2646-e592-4249-b3b3-c21acf5b5292",
   "metadata": {},
   "outputs": [
    {
     "name": "stdout",
     "output_type": "stream",
     "text": [
      "Adding reaction: k01 : 1*H_1 + 1*de => 1*H_2 + 2*de\n",
      "Adding reaction: k02 : 1*H_2 + 1*de => 1*H_1\n"
     ]
    }
   ],
   "source": [
    "import dengo\n",
    "from dengo.chemical_network import \\\n",
    " ChemicalNetwork, \\\n",
    " reaction_registry, \\\n",
    " cooling_registry, species_registry\n",
    "import dengo.primordial_rates\n",
    "import dengo.primordial_cooling\n",
    "\n",
    "dengo.primordial_rates.setup_primordial()\n",
    "\n",
    "simpleNetwork = ChemicalNetwork()\n",
    "simpleNetwork.add_reaction(\"k01\")\n",
    "simpleNetwork.add_reaction(\"k02\")\n",
    "simpleNetwork.add_cooling(\"reHII\")\n",
    "simpleNetwork.init_temperature((1e0, 1e8))"
   ]
  },
  {
   "cell_type": "markdown",
   "id": "2fa01876-5949-4607-8c64-4863482efb61",
   "metadata": {},
   "source": [
    "## Building the solver\n",
    "In this example, we will walk you through how to write a template from scratch that can be fed into a scipy solver. This can be done with `ChemicalNetwork.write_solver` and the combination of templates available under `dengo/templates`.\n",
    "\n",
    "### Evaluate the reaction rates\n",
    "Reaction rates usually have a temperature dependence. For example, for reactions following the [Arrhenius equation](https://en.wikipedia.org/wiki/Arrhenius_equation) usually have the forms of $k(T) = A e^{-\\frac{E_a}{RT}}$, where $k$ is the reaction rate, $E_a$ is the activation energy of the reaction, $T$ is the temperature, $A$, $R$ are the pre-exponential factor, and the universal gas constant respectively. $A$ is sometimes depends further on temperature in [Modified Arrhenius equation](https://en.wikipedia.org/wiki/Arrhenius_equation#Modified_Arrhenius_equation).\n",
    "\n",
    "Evaluating these rates on the fly would be computationally expensive. One possible way of reducing the computational time is to interpolate from a pre-calculated reaction rates table. The rates are specified when the reactions `rxn` are first created with the `@reaction` decorator. They can be evaluated handily with `rxn.coeff_fn(chemicalnetwork)`. The range of temperature of interest for example $T = \\rm (1, 10^8) K$ can be first specified with `ChemicalNetwork.init_temperature(T_bounds=(1e0, 1e8), n_bins=1024)`. The added reaction objects can be accessed with `ChemicalNetwork.reactions`. For example, the reaction rates of `k01` can the accessed with the snippet below\n",
    "```python\n",
    "rxn_rate = cn.reactions['k01'].coeff_fn(ChemicalNetwork)\n",
    "```\n",
    "The output `rxn_rate` is an numpy array with a length of `[n_bins]`.\n",
    "\n",
    "A reaction rate table is generated and exported to a `hdf5` file below.\n",
    "\n"
   ]
  },
  {
   "cell_type": "markdown",
   "id": "090311ad-b40a-4189-908c-0a67a60f1893",
   "metadata": {},
   "source": [
    "```python\n",
    "with h5py.File(ofn, 'r') as f:\n",
    "    print(f.keys())\n",
    ">>> <KeysViewHDF5 ['T', 'k01', 'k02', 'reHII_reHII']>\n",
    "```"
   ]
  },
  {
   "cell_type": "code",
   "execution_count": 65,
   "id": "66f71f3c-8797-48ef-90ec-b7c23725979f",
   "metadata": {},
   "outputs": [],
   "source": [
    "import os\n",
    "import h5py\n",
    "\n",
    "solver_name = 'simple'\n",
    "output_dir  = \".\"\n",
    "\n",
    "ofn = os.path.join(output_dir, f\"{solver_name}_tables.h5\")\n",
    "\n",
    "if os.path.exists(ofn):\n",
    "    os.system(f\"rm {ofn}\")\n",
    "\n",
    "with h5py.File(ofn, 'w') as f:\n",
    "    for rxn in sorted(simpleNetwork.reactions.values()):\n",
    "        f.create_dataset(\n",
    "            f\"/{rxn.name}\", data=rxn.coeff_fn(simpleNetwork).astype(\"float64\")\n",
    "        )\n",
    "\n",
    "    for rxn in sorted(simpleNetwork.cooling_actions.values()):\n",
    "        if hasattr(rxn, \"tables\"):\n",
    "            for tab in rxn.tables:\n",
    "                f.create_dataset(\n",
    "                    f\"/{rxn.name}_{tab}\",\n",
    "                    data=rxn.tables[tab](simpleNetwork).astype(\"float64\"),\n",
    "                )\n",
    "    f.create_dataset(f\"/T\", data=simpleNetwork.T.astype(\"float64\"))"
   ]
  },
  {
   "cell_type": "markdown",
   "id": "6f209d98-38e4-42f8-908a-186dda2bf726",
   "metadata": {},
   "source": [
    "## Using `Jinja2`\n",
    "\n",
    "`Jinja2` fills out variables dynamically with the user-given inputs. It is however not limited to variables subsitution. You can also use conditions (if/else), for loops (for), filter, and tests in Jinja2 template. To construct our solver template for `scipy`, we will be using for-loop, if-else, and variable substitution. And we will go through these usages briefly below their respective syntax. We refer our readers for more details in [Jinja2 Documentation](http://jinja.octoprint.org/).\n",
    "\n",
    "For example if the template is `Dengo {{token}}`, Jinja2 would look for the user-fed input for the variable `token`, and output the file with the word in curly bracket replaced with the `token = \"works\"`.\n",
    "\n",
    "\n"
   ]
  },
  {
   "cell_type": "code",
   "execution_count": 68,
   "id": "297da95e-1b9a-4d8d-bc85-bd82ea90d020",
   "metadata": {},
   "outputs": [
    {
     "name": "stdout",
     "output_type": "stream",
     "text": [
      "Dengo works!\n"
     ]
    }
   ],
   "source": [
    "from jinja2 import Template\n",
    "t = Template(\"Dengo {{ token }}!\")\n",
    "print(t.render(token=\"works\"))"
   ]
  },
  {
   "cell_type": "markdown",
   "id": "8117ef10-4329-488d-afbd-aac72ffbc7c1",
   "metadata": {},
   "source": [
    "Jinja2 also provided an straightforward way to iterate over iterables like lists, with the syntax `{% for item in list %} {% endfor %}`. In the example below, we iterate over the required species in our chemical network, and had Jinja2 print out their name."
   ]
  },
  {
   "cell_type": "code",
   "execution_count": 71,
   "id": "c4f9b229-ed34-4214-bd78-a90fb9eec9e6",
   "metadata": {},
   "outputs": [
    {
     "name": "stdout",
     "output_type": "stream",
     "text": [
      "\n",
      "\n",
      "H_1,\n",
      "\n",
      "H_2,\n",
      "\n",
      "de,\n",
      "\n",
      "ge,\n",
      "\n"
     ]
    }
   ],
   "source": [
    "t = Template(\"\"\"\n",
    "{% for s in network.required_species | sort %}\n",
    "{{s.name}},\n",
    "{% endfor %}\n",
    "\"\"\")\n",
    "print(t.render(network = simpleNetwork))"
   ]
  },
  {
   "cell_type": "markdown",
   "id": "c4013663-97f0-469f-983e-a50cbf3613a6",
   "metadata": {},
   "source": [
    "### Preparing the rates interpolation template\n",
    "In the template below, we demonstrate a simple implementation for interpolating reaction and cooling rates with `Jinja2` and our `ChemicalNetwork` object. In brief, the template below first reads in the rates from the `hdf5` we created above, and two functions `interpolate_rates` and `interpolate_cooling_rates` are created dynamically based on the reactions avaiable in our `ChemicalNetwork`."
   ]
  },
  {
   "cell_type": "code",
   "execution_count": 126,
   "id": "a16fda22-ad70-4061-8569-1fbb9c639db6",
   "metadata": {},
   "outputs": [],
   "source": [
    "reaction_rates_template = Template(\"\"\"\n",
    "import numpy as np\n",
    "import h5py\n",
    "\n",
    "# read rates in as global variables\n",
    "rates_table = \"{{solver_name}}_tables.h5\"\n",
    "ratef = h5py.File(rates_table, 'r')\n",
    "\n",
    "# Reaction Rates\n",
    "{% for k in network.reactions.keys()%}\n",
    "out{{k}}dev = ratef['{{k}}'][:]\n",
    "{%- endfor %} \n",
    "\n",
    "# Cooling Rates\n",
    "{%- for name, rate in network.cooling_actions | dictsort %}\n",
    "{%- for name2 in rate.tables | sort %}\n",
    "out_{{name}}_{{name2}} = ratef[\"{{name}}_{{name2}}\"][:]\n",
    "{%- endfor %}\n",
    "{%- endfor %}\n",
    "tdev = ratef['T'][:]\n",
    "ratef.close()\n",
    "\n",
    "def interpolate_rates(T):\n",
    "    {% for k in network.reactions.keys()%}\n",
    "    {{k}} = np.interp(T, tdev, out{{k}}dev)\n",
    "    {%- endfor %} \n",
    "    return (\n",
    "    {%- for k in network.reactions.keys() -%}\n",
    "    {{k}}, \n",
    "    {%- endfor -%}\n",
    "    )\n",
    "def interpolate_cooling_rates(T):\n",
    "    {%- for name, rate in network.cooling_actions | dictsort %}\n",
    "    {%- for name2 in rate.tables | sort %}\n",
    "    {{name}}_{{name2}} = np.interp(T, tdev, out_{{name}}_{{name2}})\n",
    "    {%- endfor %}\n",
    "    {%- endfor %}\n",
    "    return (\n",
    "    {%- for name, rate in network.cooling_actions | dictsort -%}\n",
    "    {%- for name2 in rate.tables | sort -%}\n",
    "    {{name}}_{{name2}}, \n",
    "    {%- endfor -%}\n",
    "    {%- endfor -%}\n",
    "    )\n",
    "    \"\"\")\n",
    "\n",
    "template_vars = dict(\n",
    "    network=simpleNetwork, \n",
    "    solver_name=solver_name\n",
    ")\n",
    "output_file = f'{solver_name}_reaction_rate.py'\n",
    "with open(output_file, 'w') as f:\n",
    "    f.write(reaction_rates_template.render(template_vars))"
   ]
  },
  {
   "cell_type": "markdown",
   "id": "1f54fd00-3684-413f-a7f7-c256b870e7b4",
   "metadata": {},
   "source": [
    "### Import the Rendered `simple_reaction_rate.py` and Check if it works!"
   ]
  },
  {
   "cell_type": "code",
   "execution_count": 131,
   "id": "33043cb3-6c90-4052-ab7d-ace753a26b6f",
   "metadata": {},
   "outputs": [
    {
     "data": {
      "text/plain": [
       "<matplotlib.legend.Legend at 0x7f0aeb391d00>"
      ]
     },
     "execution_count": 131,
     "metadata": {},
     "output_type": "execute_result"
    },
    {
     "data": {
      "image/png": "[encoded data removed]",
      "text/plain": [
       "<Figure size 432x288 with 2 Axes>"
      ]
     },
     "metadata": {
      "needs_background": "light"
     },
     "output_type": "display_data"
    }
   ],
   "source": [
    "from simple_reaction_rate import interpolate_rates, interpolate_cooling_rates\n",
    "import matplotlib.pyplot as plt\n",
    "\n",
    "temperature = simpleNetwork.T\n",
    "rxnk01_rate, rxnk02_rate = interpolate_rates(temperature)\n",
    "coolreHII_rate,          = interpolate_cooling_rates(temperature)\n",
    "\n",
    "plt.loglog(temperature, rxnk01_rate, label='k01')\n",
    "plt.loglog(temperature, rxnk02_rate, label='k02')\n",
    "plt.xlabel(r'Temperature $(\\rm K)$')\n",
    "plt.ylabel(r'Reaction Rate $(\\rm g^{-1} cm^{3} s^{-1} )$')\n",
    "plt.legend()\n",
    "ax2 = plt.twinx()\n",
    "ax2.loglog(temperature, coolreHII_rate,color='C2', label='reHII')\n",
    "plt.ylabel(r'Cooling Rate reHII')\n",
    "plt.legend()"
   ]
  },
  {
   "cell_type": "markdown",
   "id": "ae666c21-cd92-4798-b5a9-486ae9e0fbeb",
   "metadata": {},
   "source": [
    "# Implement the temperature function"
   ]
  },
  {
   "cell_type": "markdown",
   "id": "0325ac5f-e93e-4ebb-907a-ca5eb6df3d2d",
   "metadata": {},
   "source": [
    "```jinja2\n",
    "gamma = 5./3.\n",
    "kb    = 1.38e-16\n",
    "mh    = 1.67e-24\n",
    "\n",
    "def calculate_temperature(state: npt.ArrayLike):\n",
    "    # extract the abundance from the state vector\n",
    "    {% for s in network.required_species | sort -%}\n",
    "    {{s.name}}, \n",
    "    {%- endfor -%}\n",
    "    = state\n",
    "    density = {{network.print_mass_density()}}\n",
    "    T = {{network.temperature_calculation()}}\n",
    "    return T\n",
    "```"
   ]
  },
  {
   "cell_type": "code",
   "execution_count": 205,
   "id": "3aa27629-1e2d-43f9-b972-37e440035c4f",
   "metadata": {},
   "outputs": [],
   "source": [
    "temperature_template = Template(\"\"\"\n",
    "import numpy as np\n",
    "gamma = 5./3.\n",
    "kb    = 1.38e-16\n",
    "mh    = 1.67e-24\n",
    "\n",
    "def calculate_temperature(state):\n",
    "    # extract the abundance from the state vector\n",
    "    {% for s in network.required_species | sort -%}\n",
    "    {{s.name}}, \n",
    "    {%- endfor -%}\n",
    "    = state\n",
    "    density = {{network.print_mass_density()}}\n",
    "    T = {{network.temperature_calculation()}}\n",
    "    return T\n",
    "    \n",
    "\n",
    "\"\"\")\n",
    "output_file = f'{solver_name}_temperature.py'\n",
    "with open(output_file, 'w') as f:\n",
    "    f.write(temperature_template.render(network =simpleNetwork))"
   ]
  },
  {
   "cell_type": "code",
   "execution_count": 206,
   "id": "f457f9a5-9a8c-4822-a397-9443f462e1df",
   "metadata": {},
   "outputs": [],
   "source": [
    "# %load simple_temperature.py\n",
    "\n",
    "gamma = 5./3.\n",
    "kb    = 1.38e-16\n",
    "mh    = 1.67e-24\n",
    "\n",
    "def calculate_temperature(state):\n",
    "    # extract the abundance from the state vector\n",
    "    H_1,H_2,de,ge,= state\n",
    "    density = 1.0079400000000001*H_1 + 1.0079400000000001*H_2\n",
    "    T = density*ge*mh/(kb*(H_1/(gamma - 1.0) + H_2/(gamma - 1.0) + de/(gamma - 1.0)))\n",
    "    return T\n",
    "    \n"
   ]
  },
  {
   "cell_type": "code",
   "execution_count": 207,
   "id": "10185710-3fe5-43ca-985c-10d5b737f2e7",
   "metadata": {},
   "outputs": [
    {
     "data": {
      "text/plain": [
       "54211.26570048309"
      ]
     },
     "execution_count": 207,
     "metadata": {},
     "output_type": "execute_result"
    }
   ],
   "source": [
    "# from simple_temperature import calculate_temperature\n",
    "import numpy  as np\n",
    "# Prepare the initial state vector\n",
    "ge = 1e13  #erg/g\n",
    "H_1 = 1e-2# 1/cm^3\n",
    "H_2 = 1e-2# 1/cm^3\n",
    "de  = 1e-2# 1/cm^3\n",
    "state = np.array([H_1, H_2, de, ge])\n",
    "simple_temperature.calculate_temperature(state)"
   ]
  },
  {
   "cell_type": "markdown",
   "id": "dd35adcf-b22e-4817-be67-d623d6777420",
   "metadata": {},
   "source": [
    "### Implement the RHS function"
   ]
  },
  {
   "cell_type": "code",
   "execution_count": 208,
   "id": "5b5768cf-3f0f-4234-9ce4-e9ff07cda8ad",
   "metadata": {},
   "outputs": [],
   "source": [
    "rhs_template = Template(\"\"\"\n",
    "import numpy as np\n",
    "from {{solver_name}}_temperature import calculate_temperature\n",
    "from {{solver_name}}_reaction_rate import interpolate_rates, interpolate_cooling_rates\n",
    "mh    = 1.67e-24\n",
    "\n",
    "def rhs_func(state, t):\n",
    "\n",
    "    # extract the abundance from the state vector\n",
    "    {% for s in network.required_species | sort -%}\n",
    "    {{s.name}}, \n",
    "    {%- endfor -%}\n",
    "    = state\n",
    "    \n",
    "    T   = calculate_temperature(state)[np.newaxis]\n",
    "    \n",
    "    {% for k in network.reactions.keys() -%}\n",
    "    {{k}}, \n",
    "    {%- endfor -%}\n",
    "    = interpolate_rates    (T)\n",
    "    \n",
    "    i = 0\n",
    "    \n",
    "    {% for name, rate in network.cooling_actions | dictsort -%}\n",
    "    {%- for name2 in rate.tables | sort -%}\n",
    "    {{name}}_{{name2}}, \n",
    "    {%- endfor -%}\n",
    "    {%- endfor -%}\n",
    "    = interpolate_cooling_rates(T)\n",
    "    \n",
    "    rho = {{network.print_mass_density()}}\n",
    "    \n",
    "    {% for s in network.required_species | sort %}\n",
    "    {% if s.name != \"ge\" %}\n",
    "    d{{s.name}}dt = {{network.species_total(s)}}\n",
    "    {% else %}\n",
    "    d{{s.name}}dt = {{network.print_cooling(assign_to=None)}} / mh/ rho\n",
    "    {%- endif -%}\n",
    "    {%- endfor %}\n",
    "    \n",
    "    return {% for s in network.required_species | sort -%}\n",
    "    d{{s.name}}dt, \n",
    "    {%- endfor -%}\n",
    "\n",
    "\"\"\")\n",
    "\n",
    "output_file = f'{solver_name}_rhs.py'\n",
    "with open(output_file, 'w') as f:\n",
    "    f.write(rhs_template.render(template_vars))"
   ]
  },
  {
   "cell_type": "code",
   "execution_count": 209,
   "id": "e0ef1b25-2118-4163-b5a5-78173fea6856",
   "metadata": {},
   "outputs": [
    {
     "name": "stderr",
     "output_type": "stream",
     "text": [
      "/tmp/ipykernel_6081/297263008.py:23: UserWarning: You have mixed positional and keyword arguments, some input may be discarded.\n",
      "  f.legend(\n"
     ]
    },
    {
     "data": {
      "image/png": "[encoded data removed]",
      "text/plain": [
       "<Figure size 432x288 with 2 Axes>"
      ]
     },
     "metadata": {
      "needs_background": "light"
     },
     "output_type": "display_data"
    }
   ],
   "source": [
    "from simple_rhs import rhs_func\n",
    "from scipy.integrate import odeint\n",
    "\n",
    "timesteps = np.logspace(10, 16,101)\n",
    "output     = odeint(rhs_func, state, t=timesteps)\n",
    "\n",
    "H_1_traj, H_2_traj, de_traj, ge_traj = output.T\n",
    "\n",
    "f, ax = plt.subplots()\n",
    "l1= ax.loglog(timesteps, H_1_traj)\n",
    "l2= ax.loglog(timesteps, H_2_traj)\n",
    "l3= ax.loglog(timesteps, de_traj)\n",
    "ax2 = ax.twinx()\n",
    "T_traj = calculate_temperature(output.T)\n",
    "l4= ax2.loglog(timesteps, T_traj, color='C3')\n",
    "\n",
    "\n",
    "ax.set_ylabel(r\"Abundance ($\\rm cm^{-3}$)\")\n",
    "ax2.set_ylabel(\"Temperature (K)\")\n",
    "\n",
    "ax.set_xlabel(\"Time (s)\")\n",
    "\n",
    "f.legend(\n",
    "    [l1,l2,l3,l4], \n",
    "    labels=[r'$\\rm H$',r'$\\rm H^+$',r'$\\rm e^-$',r'$\\rm T$'],\n",
    "    loc=[0.15,0.4]\n",
    ")\n",
    "plt.subplots_adjust(right=0.85)"
   ]
  },
  {
   "cell_type": "code",
   "execution_count": 193,
   "id": "ab5a9e75-386e-431f-ab10-a7363fcef53c",
   "metadata": {},
   "outputs": [],
   "source": [
    "solver_rhs_template = Template(\"\"\"\n",
    "import h5py\n",
    "import numpy as np\n",
    "gamma = 5./3.\n",
    "kb    = 1.38e-16\n",
    "mh    = 1.67e-24\n",
    "\n",
    "\n",
    "# read rates in as global variables\n",
    "rates_table = \"{{solver_name}}_tables.h5\"\n",
    "ratef = h5py.File(rates_table, 'r')\n",
    "\n",
    "# Reaction Rates\n",
    "{% for k in network.reactions.keys()%}\n",
    "out{{k}}dev = ratef['{{k}}'][:]\n",
    "{%- endfor %} \n",
    "\n",
    "# Cooling Rates\n",
    "{%- for name, rate in network.cooling_actions | dictsort %}\n",
    "{%- for name2 in rate.tables | sort %}\n",
    "out_{{name}}_{{name2}} = ratef[\"{{name}}_{{name2}}\"][:]\n",
    "{%- endfor %}\n",
    "{%- endfor %}\n",
    "tdev = ratef['T'][:]\n",
    "ratef.close()\n",
    "\n",
    "def interpolate_rates(T):\n",
    "    {% for k in network.reactions.keys()%}\n",
    "    {{k}} = np.interp(T, tdev, out{{k}}dev)\n",
    "    {%- endfor %} \n",
    "    return (\n",
    "    {%- for k in network.reactions.keys() -%}\n",
    "    {{k}}, \n",
    "    {%- endfor -%}\n",
    "    )\n",
    "def interpolate_cooling_rates(T):\n",
    "    {%- for name, rate in network.cooling_actions | dictsort %}\n",
    "    {%- for name2 in rate.tables | sort %}\n",
    "    {{name}}_{{name2}} = np.interp(T, tdev, out_{{name}}_{{name2}})\n",
    "    {%- endfor %}\n",
    "    {%- endfor %}\n",
    "    return (\n",
    "    {%- for name, rate in network.cooling_actions | dictsort -%}\n",
    "    {%- for name2 in rate.tables | sort -%}\n",
    "    {{name}}_{{name2}}, \n",
    "    {%- endfor -%}\n",
    "    {%- endfor -%}\n",
    "    )\n",
    "\n",
    "\n",
    "def calculate_temperature(state):\n",
    "    # extract the abundance from the state vector\n",
    "    {% for s in network.required_species | sort -%}\n",
    "    {{s.name}}, \n",
    "    {%- endfor -%}\n",
    "    = state\n",
    "    density = {{network.print_mass_density()}}\n",
    "    T = {{network.temperature_calculation()}}\n",
    "    return T\n",
    "    \n",
    "def rhs_func(state, t):\n",
    "\n",
    "    # extract the abundance from the state vector\n",
    "    {% for s in network.required_species | sort -%}\n",
    "    {{s.name}}, \n",
    "    {%- endfor -%}\n",
    "    = state\n",
    "    \n",
    "    T   = calculate_temperature(state)[np.newaxis]\n",
    "    \n",
    "    {% for k in network.reactions.keys() -%}\n",
    "    {{k}}, \n",
    "    {%- endfor -%}\n",
    "    = interpolate_rates    (T)\n",
    "    \n",
    "    i = 0\n",
    "    \n",
    "    {% for name, rate in network.cooling_actions | dictsort -%}\n",
    "    {%- for name2 in rate.tables | sort -%}\n",
    "    {{name}}_{{name2}}, \n",
    "    {%- endfor -%}\n",
    "    {%- endfor -%}\n",
    "    = interpolate_cooling_rates(T)\n",
    "    \n",
    "    rho = {{network.print_mass_density()}}\n",
    "    \n",
    "    {% for s in network.required_species | sort %}\n",
    "    {% if s.name != \"ge\" %}\n",
    "    d{{s.name}}dt = {{network.species_total(s)}}\n",
    "    {% else %}\n",
    "    d{{s.name}}dt = {{network.print_cooling(assign_to=None)}} / mh/ rho\n",
    "    {%- endif -%}\n",
    "    {%- endfor %}\n",
    "    \n",
    "    return {% for s in network.required_species | sort -%}\n",
    "    d{{s.name}}dt, \n",
    "    {%- endfor -%}\n",
    "\"\"\")\n",
    "\n",
    "output_file = f'{solver_name}_solver.py'\n",
    "with open(output_file, 'w') as f:\n",
    "    f.write(solver_rhs_template.render(template_vars))"
   ]
  },
  {
   "cell_type": "code",
   "execution_count": 194,
   "id": "5b4d4dc0-ffce-4ece-b22e-9109b2340fd6",
   "metadata": {},
   "outputs": [],
   "source": [
    "from simple_solver import rhs_func"
   ]
  },
  {
   "cell_type": "code",
   "execution_count": 195,
   "id": "a0cccf09-ae83-4c48-9e25-0d6b126027c0",
   "metadata": {},
   "outputs": [
    {
     "name": "stderr",
     "output_type": "stream",
     "text": [
      "/tmp/ipykernel_6081/2565928376.py:20: UserWarning: You have mixed positional and keyword arguments, some input may be discarded.\n",
      "  f.legend(\n"
     ]
    },
    {
     "data": {
      "image/png": "[encoded data removed]",
      "text/plain": [
       "<Figure size 432x288 with 2 Axes>"
      ]
     },
     "metadata": {
      "needs_background": "light"
     },
     "output_type": "display_data"
    }
   ],
   "source": [
    "timesteps = np.logspace(10, 16,101)\n",
    "output     = odeint(rhs_func, state, t=timesteps)\n",
    "\n",
    "H_1_traj, H_2_traj, de_traj, ge_traj = output.T\n",
    "\n",
    "f, ax = plt.subplots()\n",
    "l1= ax.loglog(timesteps, H_1_traj)\n",
    "l2= ax.loglog(timesteps, H_2_traj)\n",
    "l3= ax.loglog(timesteps, de_traj)\n",
    "ax2 = ax.twinx()\n",
    "T_traj = calculate_temperature(output.T)\n",
    "l4= ax2.loglog(timesteps, T_traj, color='C3')\n",
    "\n",
    "\n",
    "ax.set_ylabel(r\"Abundance ($\\rm cm^{-3}$)\")\n",
    "ax2.set_ylabel(\"Temperature (K)\")\n",
    "\n",
    "ax.set_xlabel(\"Time (s)\")\n",
    "\n",
    "f.legend(\n",
    "    [l1,l2,l3,l4], \n",
    "    labels=[r'$\\rm H$',r'$\\rm H^+$',r'$\\rm e^-$',r'$\\rm T$'],\n",
    "    loc=[0.15,0.4]\n",
    ")\n",
    "plt.subplots_adjust(right=0.85)"
   ]
  },
  {
   "cell_type": "markdown",
   "id": "7414b233-7a58-4d0c-b63c-3aacc187818a",
   "metadata": {},
   "source": [
    "### Yay! you have learnt how to write a Jinja2 template from scratch\n",
    "this template is also available under `dengo/templates/scipy/dengo_rhs.py.template`. While we only demonstrated it with a 2 species model with 2 reactions and 1 cooling action. This would still work for any user-specied network!\n",
    "\n",
    "The workflow we outlined in this chapter works for a simple prototyping with `scipy.integrate.odeint`. To extend it to more efficient deployments with `C` libraries and the ODE solver `SUNDIALS CVODE` in massively parallel setting, we have also provide our template function for generating compilable C-libraries under `dengo/templates/`. This will be introduced in the next chapter."
   ]
  }
 ],
 "metadata": {
  "kernelspec": {
   "display_name": "Python 3 (ipykernel)",
   "language": "python",
   "name": "python3"
  },
  "language_info": {
   "codemirror_mode": {
    "name": "ipython",
    "version": 3
   },
   "file_extension": ".py",
   "mimetype": "text/x-python",
   "name": "python",
   "nbconvert_exporter": "python",
   "pygments_lexer": "ipython3",
   "version": "3.8.2"
  }
 },
 "nbformat": 4,
 "nbformat_minor": 5
}
