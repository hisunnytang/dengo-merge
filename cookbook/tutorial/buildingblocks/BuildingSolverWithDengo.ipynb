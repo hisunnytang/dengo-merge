{
 "cells": [
  {
   "cell_type": "markdown",
   "id": "996cd07e-af96-41e0-8d9e-a4a92d9aa44d",
   "metadata": {},
   "source": [
    "# Building A ODE solver\n",
    "We have created a `ChemicalNetwork` with 2 reactions and 1 cooling action. Now we are ready to put together an ODE solver to study the evolution of this chemical network with different initial conditions.\n",
    "\n",
    "The dynamics of the system is specified by the set of ODE equations.\n",
    "$$ \\frac{d \\bf y}{dt} = f(\\bf y) $$\n",
    "where $\\bf y$ corresponds to the abundance vector for the species of interest, and $f(\\bf y)$ describes the dynamics. $\\bf y$ in this case is `[H_1, H_2, de, ge]`.\n",
    "\n",
    "In the below, we will outline how can `dengo` help you with putting together the RHS function below and building a ODE solver.\n",
    "$$\n",
    "    \\begin{align*}\n",
    "    \\rm \\frac{d H}{dt} &=  \\rm k_{02}(T) \\,  H^+ \\, e^-  - k_{01}(T) \\,  H \\, e^- \\\\\n",
    "    \\rm \\frac{d  H^+}{dt} &= \\rm - k_{02}(T) \\,  H^+ \\, e^- + k_{01}(T) \\,  H \\, e^-  \\\\\n",
    "    \\rm  \\frac{d e^-}{dt} &=  \\rm - k_{02}(T) \\,  H^+ \\, e^-  + k_{01}(T) \\,  H \\, e^- \\\\\n",
    "    \\rm  \\frac{d ge}{dt} &=  \\rm - reHII(T) \\,  H^+ \\, e^- \n",
    "    \\end{align*}\n",
    "$$ \n",
    "\n",
    "This can be broken down into 3 different steps. \n",
    "1. Evalulate temperature from the state vector\n",
    "2. Evalulate/ Interpolate the reaction rates from the temperature\n",
    "3. Evalulate the RHS function\n",
    "4. Feed the RHS function into an ODE solver"
   ]
  },
  {
   "cell_type": "markdown",
   "id": "cec2e27a-a8a2-4bce-8e81-2b25af2821b1",
   "metadata": {
    "jp-MarkdownHeadingCollapsed": true,
    "tags": []
   },
   "source": [
    "## Import Libraries and Create the Network\n",
    "\n",
    "Primordial rates and cooling for the 9-species network are included in the default dengo library in `dengo.primordial_rates` and `dengo.primordial_cooling`. The reactions and cooling are added automatically to the `reaction_registry`, `cooling_registry` and `species_registry` with the call to `dengo.primordial_rates.setup_primordial`.  Here we setup the same sample network we demonstrated in the last chapter with `k01`, `k02` and `reHII`.\n"
   ]
  },
  {
   "cell_type": "code",
   "execution_count": 1,
   "id": "2754ffb4-6abd-4fe5-b411-44e607b70520",
   "metadata": {},
   "outputs": [
    {
     "name": "stdout",
     "output_type": "stream",
     "text": [
      "Adding reaction: k01 : 1*H_1 + 1*de => 1*H_2 + 2*de\n",
      "Adding reaction: k02 : 1*H_2 + 1*de => 1*H_1\n"
     ]
    }
   ],
   "source": [
    "import dengo\n",
    "from dengo.chemical_network import \\\n",
    " ChemicalNetwork, \\\n",
    " reaction_registry, \\\n",
    " cooling_registry, species_registry\n",
    "import dengo.primordial_rates\n",
    "import dengo.primordial_cooling\n",
    "\n",
    "dengo.primordial_rates.setup_primordial()\n",
    "\n",
    "simpleNetwork = ChemicalNetwork()\n",
    "simpleNetwork.add_reaction(\"k01\")\n",
    "simpleNetwork.add_reaction(\"k02\")\n",
    "simpleNetwork.add_cooling(\"reHII\")\n",
    "simpleNetwork.init_temperature((1e0, 1e8))"
   ]
  },
  {
   "cell_type": "markdown",
   "id": "f00d7e71-dfa5-409d-a188-7211241aa646",
   "metadata": {},
   "source": [
    "## Evaluate the temperature\n",
    "\n",
    "The temperature $T$ as we have seen above is critical to the rate at which the reaction proceeds. The temperature can be evaluated from the internal energy term `ge`. \n",
    "Internal energy of an ideal gas is:\n",
    "$$ E = \\rho \\epsilon = c_V T = \\frac{nkT}{\\gamma -1}$$\n",
    "For monoatomic gas $\\gamma$ is $5/3$, and diatomic gas $\\gamma$ is $7/5$. $\\gamma$ refers to the adiabatic constant, and it is directly related to the degree of freedom available to the species $f = \\frac{2}{\\gamma -1}$. When the temperature is higher, other degrees of freedom might get excited, and which leads toa temperature-dependent $\\gamma$.\n",
    "\n",
    "The total internal energy in the mixture of ideal gas is:\n",
    "$$\\epsilon = \\sum_s \\frac{n_s kT}{\\gamma_s -1}$$.\n",
    "$T$ can be thus be calculated from $E$ and the abundance of all the avaialble species $n_s$.\n",
    "\n",
    "In our simple example, the internal energy can be written out plainly as\n",
    "\n",
    "$$\n",
    "\\begin{align*}\n",
    "\\epsilon &= (\\frac{n_{\\rm H}}{\\gamma - 1}+\\frac{n_{\\rm H^+}}{\\gamma - 1}+\\frac{n_{\\rm e^-}}{\\gamma - 1}) \\times \\frac{k T}{\\rho} \\\\\n",
    "&= \\Gamma_{\\rm eff} \\frac{k T}{\\rho} \\\\\n",
    "T &= \\frac{\\rho \\epsilon}{\\Gamma_{\\rm eff} k}\n",
    "\\end{align*}\n",
    "$$\n",
    "\n",
    "`Dengo` can generate the `sympy` expression of $\\Gamma_{\\rm eff}$ with the function `ChemicalNetwork.gamma_factor()`. We are at the position to define our our function to calculate the temperature, with the expression provided to us by `Dengo`. Notice that in `Dengo`, the internal energy term $ge$ is treated as energy per unit mass density $\\epsilon = E/\\rho$. You also ask `Dengo` to directly spit out the expression for temperature with `simpleNetwork.temperature_calculation()`."
   ]
  },
  {
   "cell_type": "code",
   "execution_count": 2,
   "id": "cb166aa1-6a04-4849-b096-4bc965a43d1e",
   "metadata": {},
   "outputs": [
    {
     "data": {
      "text/latex": [
       "$\\displaystyle \\frac{H_{1}}{\\gamma - 1.0} + \\frac{H_{2}}{\\gamma - 1.0} + \\frac{de}{\\gamma - 1.0}$"
      ],
      "text/plain": [
       "H_1/(gamma - 1.0) + H_2/(gamma - 1.0) + de/(gamma - 1.0)"
      ]
     },
     "execution_count": 2,
     "metadata": {},
     "output_type": "execute_result"
    }
   ],
   "source": [
    "simpleNetwork.gamma_factor()"
   ]
  },
  {
   "cell_type": "code",
   "execution_count": 3,
   "id": "d4bd770a-8c61-4a92-a9c1-16d146490f4b",
   "metadata": {},
   "outputs": [
    {
     "data": {
      "text/plain": [
       "[Species: H_1, Species: H_2, Species: de, Species: ge]"
      ]
     },
     "execution_count": 3,
     "metadata": {},
     "output_type": "execute_result"
    }
   ],
   "source": [
    "sorted(simpleNetwork.required_species)"
   ]
  },
  {
   "cell_type": "code",
   "execution_count": 4,
   "id": "eedb456d-8357-410b-9b06-8ce9448f71b9",
   "metadata": {},
   "outputs": [
    {
     "data": {
      "text/plain": [
       "'1.0079400000000001*H_1 + 1.0079400000000001*H_2'"
      ]
     },
     "execution_count": 4,
     "metadata": {},
     "output_type": "execute_result"
    }
   ],
   "source": [
    "simpleNetwork.print_mass_density()"
   ]
  },
  {
   "cell_type": "code",
   "execution_count": 5,
   "id": "dbe0529e-a615-4c1f-a796-be2a53dfda25",
   "metadata": {},
   "outputs": [],
   "source": [
    "import numpy.typing as npt\n",
    "\n",
    "gamma = 5./3.\n",
    "kb    = 1.38e-16\n",
    "mh    = 1.67e-24\n",
    "\n",
    "def calculate_temperature(state: npt.ArrayLike):\n",
    "    \"\"\"calculate temperature in (K) based on the state space vector\"\"\"\n",
    "\n",
    "    # extract the abundance from the state vector\n",
    "    H_1, H_2, de, ge = state\n",
    "    inv_gammam1 = 1 / (gamma - 1)\n",
    "    gamma_factor = (H_1 + H_2 + de) * inv_gammam1\n",
    "    rho = 1.00794*H_1 + 1.00794*H_2\n",
    "    T = ge / gamma_factor / kb * mh * rho\n",
    "    return T"
   ]
  },
  {
   "cell_type": "markdown",
   "id": "d5e2520b-5820-4211-af6a-6826d9b9041b",
   "metadata": {},
   "source": [
    "## Evaluate the reaction rates\n",
    "<!-- Reaction rates usually have a temperature dependence. For example, for reactions following the [Arrhenius equation](https://en.wikipedia.org/wiki/Arrhenius_equation) usually have the forms of $$k(T) = A e^{-\\frac{E_a}{RT}}$$, where $k$ is the reaction rate, $E_a$ is the activation energy of the reaction, $T$ is the temperature, $A$, $R$ are the pre-exponential factor, and the universal gas constant respectively. $A$ is sometimes dependent further on temperature in [Modified Arrhenius equation](https://en.wikipedia.org/wiki/Arrhenius_equation#Modified_Arrhenius_equation). -->\n",
    "\n",
    "Evaluating these rates on the fly would be computationally expensive. One possible way of reducing the computational time is to interpolate from a pre-calculated reaction rates table. The rates are specified when the reactions `rxn` are first created with the `@reaction` decorator. They can be evaluated handily with `rxn.coeff_fn(chemicalnetwork)`. The range of temperature of interest for example $T = \\rm (1, 10^8) K$ can be first specified with `ChemicalNetwork.init_temperature(T_bounds=(1e0, 1e8), n_bins=1024)`. "
   ]
  },
  {
   "cell_type": "code",
   "execution_count": 6,
   "id": "44aa7273-a4eb-4089-a81a-63c55b36e231",
   "metadata": {},
   "outputs": [
    {
     "data": {
      "text/plain": [
       "<matplotlib.legend.Legend at 0x7f27850e04c0>"
      ]
     },
     "execution_count": 6,
     "metadata": {},
     "output_type": "execute_result"
    },
    {
     "data": {
      "image/png": "[encoded data removed]",
      "text/plain": [
       "<Figure size 432x288 with 2 Axes>"
      ]
     },
     "metadata": {
      "needs_background": "light"
     },
     "output_type": "display_data"
    }
   ],
   "source": [
    "# The reactions in the chemical network can be assessed\n",
    "import numpy as np\n",
    "import matplotlib.pyplot as plt\n",
    "reactions = simpleNetwork.reactions\n",
    "cooling   = simpleNetwork.cooling_actions\n",
    "\n",
    "rxnk01 = reactions['k01']\n",
    "rxnk02 = reactions['k02']\n",
    "reHII  = cooling['reHII']\n",
    "temperature = simpleNetwork.T\n",
    "rxnk01_rate = rxnk01.coeff_fn(simpleNetwork)\n",
    "rxnk02_rate = rxnk02.coeff_fn(simpleNetwork)\n",
    "\n",
    "plt.loglog(temperature, rxnk01_rate, label='k01')\n",
    "plt.loglog(temperature, rxnk02_rate, label='k02')\n",
    "plt.xlabel(r'Temperature $(\\rm K)$')\n",
    "plt.ylabel(r'Reaction Rate $(\\rm g^{-1} cm^{3} s^{-1} )$')\n",
    "plt.legend()\n",
    "ax2 = plt.twinx()\n",
    "coolreHII_rate = reHII.tables['reHII'](simpleNetwork)\n",
    "ax2.loglog(temperature, coolreHII_rate,color='C2', label='reHII')\n",
    "plt.ylabel(r'Cooling Rate reHII')\n",
    "plt.legend()"
   ]
  },
  {
   "cell_type": "code",
   "execution_count": 8,
   "id": "f7db9006-2a10-4b3f-9222-227c4e064abf",
   "metadata": {},
   "outputs": [],
   "source": [
    "logT       = np.log10(temperature)\n",
    "k01lograte = np.log10(rxnk01_rate)\n",
    "k02lograte = np.log10(rxnk02_rate)\n",
    "coolreHII_lograte = np.log10(coolreHII_rate)\n",
    "\n",
    "def interpolate_rates(T: npt.ArrayLike):\n",
    "    \"\"\"interpolate the reaction rate in log space\n",
    "    \n",
    "    Parameters\n",
    "    ----------\n",
    "        T: the temperate at which the rate is evaluated\n",
    "    \n",
    "    Return\n",
    "    ------\n",
    "        k02: interpolated reaction rate at temperature T \n",
    "    \"\"\"\n",
    "    k01 = 10**np.interp(np.log10(T), logT, k01lograte)\n",
    "    k02 = 10**np.interp(np.log10(T), logT, k02lograte)\n",
    "    return k01, k02\n",
    "\n",
    "def interpolate_cooling_rates(T: npt.ArrayLike):\n",
    "    \"\"\"interpolate the cooling rate in log space\n",
    "    \n",
    "    Parameters\n",
    "    ----------\n",
    "        T: the temperate at which the rate is evaluated\n",
    "    \n",
    "    Return\n",
    "    ------\n",
    "        coolreHII_rate: interpolated cooling rate at temperature T \n",
    "    \"\"\"\n",
    "    coolreHII_rate = 10**np.interp(np.log10(T), logT, coolreHII_lograte)\n",
    "    return coolreHII_rate"
   ]
  },
  {
   "cell_type": "markdown",
   "id": "725ba42d-abbc-4669-bda4-dd6561870cf7",
   "metadata": {},
   "source": [
    "### The RHS function\n",
    "\n",
    "The dynamics is specified by the set of ODE equations.\n",
    "$$ \\frac{d \\bf y}{dt} = f(\\bf y) $$\n",
    "where $\\bf y$ corresponds to the abundance vector for the species of interest, and $f(\\bf y)$ describes the dynamics.\n",
    "\n",
    "`Dengo` aggreates the reactions specific to each species $s$ with `ChemicalNetwork.species_total(s)` with `sympy` internally. These sympy expression can be exported to various different code style with `sympy.printing` to `C`, `python` for example."
   ]
  },
  {
   "cell_type": "code",
   "execution_count": 9,
   "id": "4e17e542-1357-4e64-99f7-204b878bdab6",
   "metadata": {},
   "outputs": [
    {
     "name": "stdout",
     "output_type": "stream",
     "text": [
      "dH_1dt = -k01[i]*H_1*de + k02[i]*H_2*de\n",
      "dH_2dt = k01[i]*H_1*de - k02[i]*H_2*de\n",
      "d dedt = k01[i]*H_1*de - k02[i]*H_2*de\n",
      "d gedt = -reHII_reHII[i]*H_2*de\n"
     ]
    }
   ],
   "source": [
    "for s in sorted(simpleNetwork.required_species):\n",
    "    if s.name != 'ge':\n",
    "        print(f\"d{s.name:>3}dt = {simpleNetwork.species_total(s)}\")\n",
    "    else:\n",
    "        print(f\"d{s.name:>3}dt = {simpleNetwork.print_cooling(assign_to=None)}\")"
   ]
  },
  {
   "cell_type": "code",
   "execution_count": 10,
   "id": "a37af066-4b91-4d60-b12c-ef0d09a6e42c",
   "metadata": {},
   "outputs": [],
   "source": [
    "def rhs_func(state, t):\n",
    "    \"\"\"evaluate the dydt given the state y at time t\n",
    "    \n",
    "    Parameters\n",
    "    ----------\n",
    "        state: np.ndarray\n",
    "            the number density of different species\n",
    "        t: float\n",
    "            time\n",
    "    Return\n",
    "    ------\n",
    "        coolreHII_rate: interpolated cooling rate at temperature T \n",
    "    \"\"\"\n",
    "    H_1, H_2, de, ge = state\n",
    "    \n",
    "    T   = calculate_temperature(state)\n",
    "    k01, k02 = interpolate_rates    (T)\n",
    "    rho = 1.00794*H_1 + 1.00794*H_2\n",
    "    \n",
    "    reHII_reHII = interpolate_cooling_rates(T)\n",
    "    \n",
    "    dH_1dt = k02*H_2*de - k01*H_1*de\n",
    "    dH_2dt = -k02*H_2*de + k01*H_1*de\n",
    "    ddedt = -k02*H_2*de + k01*H_1*de\n",
    "    dgedt = (-reHII_reHII*H_2*de)/ rho /mh\n",
    "    \n",
    "    dstatedt = np.array([dH_1dt,dH_2dt,ddedt,dgedt])\n",
    "    return dstatedt"
   ]
  },
  {
   "cell_type": "markdown",
   "id": "f3ed1e86-3a4b-4d0d-8e3b-13d6bb9c9533",
   "metadata": {},
   "source": [
    "## Integrate the System\n",
    "Once the RHS function is specified, we are ready to evolve the system. Here we will use the `scipy.integrate.odeint` to integrate the ODE. The initial value are specified below as a 1D-vector. And the output logarithmically-spaced timesteps are also fed into the ODE solver. "
   ]
  },
  {
   "cell_type": "code",
   "execution_count": 11,
   "id": "911737fc-e18e-415d-89c2-aa9c44b45e32",
   "metadata": {},
   "outputs": [],
   "source": [
    "# Prepare the initial state vector\n",
    "ge = 1e13  #erg/g\n",
    "H_1 = 1e-2# 1/cm^3\n",
    "H_2 = 1e-2# 1/cm^3\n",
    "de  = 1e-2# 1/cm^3\n",
    "state = np.array([H_1, H_2, de, ge])"
   ]
  },
  {
   "cell_type": "code",
   "execution_count": 12,
   "id": "f3c5f44c-dc3c-45bd-ab66-966563b85d0d",
   "metadata": {},
   "outputs": [
    {
     "name": "stderr",
     "output_type": "stream",
     "text": [
      "/tmp/ipykernel_1763/3292852106.py:21: UserWarning: You have mixed positional and keyword arguments, some input may be discarded.\n",
      "  f.legend(\n"
     ]
    },
    {
     "data": {
      "image/png": "[encoded data removed]",
      "text/plain": [
       "<Figure size 432x288 with 2 Axes>"
      ]
     },
     "metadata": {
      "needs_background": "light"
     },
     "output_type": "display_data"
    }
   ],
   "source": [
    "from scipy.integrate import odeint\n",
    "\n",
    "timesteps = np.logspace(10, 16,101)\n",
    "output     = odeint(rhs_func, state, t=timesteps)\n",
    "H_1_traj, H_2_traj, de_traj, ge_traj = output.T\n",
    "\n",
    "f, ax = plt.subplots()\n",
    "l1= ax.loglog(timesteps, H_1_traj)\n",
    "l2= ax.loglog(timesteps, H_2_traj)\n",
    "l3= ax.loglog(timesteps, de_traj)\n",
    "ax2 = ax.twinx()\n",
    "T_traj = calculate_temperature(output.T)\n",
    "l4= ax2.loglog(timesteps, T_traj, color='C3')\n",
    "\n",
    "\n",
    "ax.set_ylabel(r\"Abundance ($\\rm cm^{-3}$)\")\n",
    "ax2.set_ylabel(\"Temperature (K)\")\n",
    "\n",
    "ax.set_xlabel(\"Time (s)\")\n",
    "\n",
    "f.legend(\n",
    "    [l1,l2,l3,l4], \n",
    "    labels=[r'$\\rm H$',r'$\\rm H^+$',r'$\\rm e^-$',r'$\\rm T$'],\n",
    "    loc=[0.15,0.4]\n",
    ")\n",
    "plt.subplots_adjust(right=0.85)"
   ]
  },
  {
   "cell_type": "markdown",
   "id": "4a38caef-faa1-4d2e-9dda-a20b67bc9747",
   "metadata": {},
   "source": [
    "### Summary\n",
    "1. We have built a reaction chemical network with 2 reactions and 1 cooling action from scratch with `Dengo`!\n",
    "2. We demonstrated how can we build a simple ODE solver with the symbolic outputs from `Dengo`!\n",
    "\n",
    "In the next chapter, we demonstrate how `Dengo` can be used in conjunction with `Jinja2` to write a solver for arbitary network in the next chapter."
   ]
  }
 ],
 "metadata": {
  "kernelspec": {
   "display_name": "Python 3 (ipykernel)",
   "language": "python",
   "name": "python3"
  },
  "language_info": {
   "codemirror_mode": {
    "name": "ipython",
    "version": 3
   },
   "file_extension": ".py",
   "mimetype": "text/x-python",
   "name": "python",
   "nbconvert_exporter": "python",
   "pygments_lexer": "ipython3",
   "version": "3.8.2"
  }
 },
 "nbformat": 4,
 "nbformat_minor": 5
}
