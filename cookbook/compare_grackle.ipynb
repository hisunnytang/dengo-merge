{
 "cells": [
  {
   "cell_type": "code",
   "execution_count": 9,
   "metadata": {},
   "outputs": [
    {
     "ename": "ImportError",
     "evalue": "libgrackle-3.2.dev2.so: cannot open shared object file: No such file or directory",
     "output_type": "error",
     "traceback": [
      "\u001b[0;31m---------------------------------------------------------------------------\u001b[0m",
      "\u001b[0;31mImportError\u001b[0m                               Traceback (most recent call last)",
      "Input \u001b[0;32mIn [9]\u001b[0m, in \u001b[0;36m<cell line: 1>\u001b[0;34m()\u001b[0m\n\u001b[0;32m----> 1\u001b[0m \u001b[38;5;28;01mfrom\u001b[39;00m \u001b[38;5;21;01mpygrackle\u001b[39;00m \u001b[38;5;28;01mimport\u001b[39;00m \\\n\u001b[1;32m      2\u001b[0m  FluidContainer, \\\n\u001b[1;32m      3\u001b[0m  chemistry_data, \\\n\u001b[1;32m      4\u001b[0m  evolve_constant_density\n\u001b[1;32m      6\u001b[0m \u001b[38;5;28;01mfrom\u001b[39;00m \u001b[38;5;21;01mpygrackle\u001b[39;00m\u001b[38;5;21;01m.\u001b[39;00m\u001b[38;5;21;01mutilities\u001b[39;00m\u001b[38;5;21;01m.\u001b[39;00m\u001b[38;5;21;01mphysical_constants\u001b[39;00m \u001b[38;5;28;01mimport\u001b[39;00m \\\n\u001b[1;32m      7\u001b[0m  mass_hydrogen_cgs, \\\n\u001b[1;32m      8\u001b[0m  sec_per_Myr, \\\n\u001b[1;32m      9\u001b[0m  cm_per_mpc\n\u001b[1;32m     11\u001b[0m \u001b[38;5;28;01mimport\u001b[39;00m \u001b[38;5;21;01mdengo\u001b[39;00m\n",
      "File \u001b[0;32m~/grackle/src/python/pygrackle/__init__.py:14\u001b[0m, in \u001b[0;36m<module>\u001b[0;34m\u001b[0m\n\u001b[1;32m      1\u001b[0m \u001b[38;5;66;03m########################################################################\u001b[39;00m\n\u001b[1;32m      2\u001b[0m \u001b[38;5;66;03m#\u001b[39;00m\n\u001b[1;32m      3\u001b[0m \u001b[38;5;66;03m# Pygrackle imports\u001b[39;00m\n\u001b[0;32m   (...)\u001b[0m\n\u001b[1;32m     11\u001b[0m \u001b[38;5;66;03m# software.\u001b[39;00m\n\u001b[1;32m     12\u001b[0m \u001b[38;5;66;03m########################################################################\u001b[39;00m\n\u001b[0;32m---> 14\u001b[0m \u001b[38;5;28;01mfrom\u001b[39;00m \u001b[38;5;21;01m.\u001b[39;00m\u001b[38;5;21;01mfluid_container\u001b[39;00m \u001b[38;5;28;01mimport\u001b[39;00m \\\n\u001b[1;32m     15\u001b[0m     FluidContainer\n\u001b[1;32m     17\u001b[0m \u001b[38;5;28;01mfrom\u001b[39;00m \u001b[38;5;21;01m.\u001b[39;00m\u001b[38;5;21;01mgrackle_wrapper\u001b[39;00m \u001b[38;5;28;01mimport\u001b[39;00m \\\n\u001b[1;32m     18\u001b[0m     chemistry_data\n\u001b[1;32m     20\u001b[0m \u001b[38;5;28;01mfrom\u001b[39;00m \u001b[38;5;21;01m.\u001b[39;00m\u001b[38;5;21;01mutilities\u001b[39;00m\u001b[38;5;21;01m.\u001b[39;00m\u001b[38;5;21;01mconvenience\u001b[39;00m \u001b[38;5;28;01mimport\u001b[39;00m \\\n\u001b[1;32m     21\u001b[0m     setup_fluid_container\n",
      "File \u001b[0;32m~/grackle/src/python/pygrackle/fluid_container.py:16\u001b[0m, in \u001b[0;36m<module>\u001b[0;34m\u001b[0m\n\u001b[1;32m      1\u001b[0m \u001b[38;5;66;03m########################################################################\u001b[39;00m\n\u001b[1;32m      2\u001b[0m \u001b[38;5;66;03m#\u001b[39;00m\n\u001b[1;32m      3\u001b[0m \u001b[38;5;66;03m# Grackle python fluid container\u001b[39;00m\n\u001b[0;32m   (...)\u001b[0m\n\u001b[1;32m     11\u001b[0m \u001b[38;5;66;03m# software.\u001b[39;00m\n\u001b[1;32m     12\u001b[0m \u001b[38;5;66;03m########################################################################\u001b[39;00m\n\u001b[1;32m     14\u001b[0m \u001b[38;5;28;01mimport\u001b[39;00m \u001b[38;5;21;01mnumpy\u001b[39;00m \u001b[38;5;28;01mas\u001b[39;00m \u001b[38;5;21;01mnp\u001b[39;00m\n\u001b[0;32m---> 16\u001b[0m \u001b[38;5;28;01mfrom\u001b[39;00m \u001b[38;5;21;01mpygrackle\u001b[39;00m\u001b[38;5;21;01m.\u001b[39;00m\u001b[38;5;21;01mgrackle_wrapper\u001b[39;00m \u001b[38;5;28;01mimport\u001b[39;00m \\\n\u001b[1;32m     17\u001b[0m     calculate_cooling_time, \\\n\u001b[1;32m     18\u001b[0m     calculate_gamma, \\\n\u001b[1;32m     19\u001b[0m     calculate_pressure, \\\n\u001b[1;32m     20\u001b[0m     calculate_temperature, \\\n\u001b[1;32m     21\u001b[0m     calculate_dust_temperature, \\\n\u001b[1;32m     22\u001b[0m     solve_chemistry\n\u001b[1;32m     24\u001b[0m \u001b[38;5;28;01mfrom\u001b[39;00m \u001b[38;5;21;01mpygrackle\u001b[39;00m\u001b[38;5;21;01m.\u001b[39;00m\u001b[38;5;21;01mutilities\u001b[39;00m\u001b[38;5;21;01m.\u001b[39;00m\u001b[38;5;21;01mmisc\u001b[39;00m \u001b[38;5;28;01mimport\u001b[39;00m \\\n\u001b[1;32m     25\u001b[0m     issue_deprecation_warning\n\u001b[1;32m     27\u001b[0m \u001b[38;5;28;01mfrom\u001b[39;00m \u001b[38;5;21;01mpygrackle\u001b[39;00m\u001b[38;5;21;01m.\u001b[39;00m\u001b[38;5;21;01mutilities\u001b[39;00m\u001b[38;5;21;01m.\u001b[39;00m\u001b[38;5;21;01mphysical_constants\u001b[39;00m \u001b[38;5;28;01mimport\u001b[39;00m \\\n\u001b[1;32m     28\u001b[0m     mass_hydrogen_cgs\n",
      "\u001b[0;31mImportError\u001b[0m: libgrackle-3.2.dev2.so: cannot open shared object file: No such file or directory"
     ]
    }
   ],
   "source": [
    "from pygrackle import \\\n",
    " FluidContainer, \\\n",
    " chemistry_data, \\\n",
    " evolve_constant_density\n",
    "\n",
    "from pygrackle.utilities.physical_constants import \\\n",
    " mass_hydrogen_cgs, \\\n",
    " sec_per_Myr, \\\n",
    " cm_per_mpc\n",
    "\n",
    "import dengo\n",
    "from dengo.chemical_network import \\\n",
    " ChemicalNetwork, \\\n",
    " reaction_registry, \\\n",
    " cooling_registry, species_registry\n",
    "import dengo.primordial_rates\n",
    "import dengo.primordial_cooling"
   ]
  },
  {
   "cell_type": "code",
   "execution_count": 6,
   "metadata": {},
   "outputs": [],
   "source": [
    "import os\n",
    "os.environ['LD_LIBRARY_PATH'] = \"/home/kwoksun2/grackle_install/lib:{os.environ['LD_LIBRARY_PATH']}\""
   ]
  },
  {
   "cell_type": "code",
   "execution_count": 8,
   "metadata": {},
   "outputs": [
    {
     "name": "stdout",
     "output_type": "stream",
     "text": [
      "libgrackle-3.1.so\tlibgrackle.a   libgrackle.so\n",
      "libgrackle-3.2.dev2.so\tlibgrackle.la\n"
     ]
    }
   ],
   "source": [
    "!ls /home/kwoksun2/grackle_install/lib"
   ]
  },
  {
   "cell_type": "markdown",
   "metadata": {},
   "source": [
    "# Comparing with PyGrackle"
   ]
  },
  {
   "cell_type": "code",
   "execution_count": 67,
   "metadata": {},
   "outputs": [],
   "source": [
    "def run_grackle(init_dict, dt):\n",
    "    current_redshift = 0.\n",
    "\n",
    "    # Set solver parameters\n",
    "    my_chemistry = chemistry_data()\n",
    "    my_chemistry.use_grackle = 1\n",
    "    my_chemistry.with_radiative_cooling = 1\n",
    "    my_chemistry.primordial_chemistry = 2\n",
    "    my_chemistry.metal_cooling = 0\n",
    "    my_chemistry.UVbackground = 0\n",
    "    my_chemistry.self_shielding_method = 0\n",
    "    my_chemistry.H2_self_shielding = 0\n",
    "    my_chemistry.three_body_rate = 4\n",
    "    \n",
    "    grackle_data_file = bytearray(\"/home/kwoksun2/grackle/input/CloudyData_UVB=HM2012.h5\", 'utf-8')\n",
    "    my_chemistry.grackle_data_file = grackle_data_file\n",
    "\n",
    "    # Set units\n",
    "    my_chemistry.comoving_coordinates = 0 # proper units\n",
    "    my_chemistry.a_units = 1.0\n",
    "    my_chemistry.a_value = 1. / (1. + current_redshift) / \\\n",
    "     my_chemistry.a_units\n",
    "    my_chemistry.density_units = 1.0 # rho = 1.0 is 1.67e-24 g\n",
    "    my_chemistry.length_units = 1.0         # 1 Mpc in cm\n",
    "    my_chemistry.time_units = 1.0          # 1 Myr in s\n",
    "    my_chemistry.velocity_units = my_chemistry.a_units * \\\n",
    "     (my_chemistry.length_units / my_chemistry.a_value) / \\\n",
    "     my_chemistry.time_units\n",
    "\n",
    "    rval = my_chemistry.initialize()\n",
    "    \n",
    "    element_map = {}\n",
    "    element_map['H_1'] = \"HI\"\n",
    "    element_map['H_2'] = \"HII\"\n",
    "    element_map['H2_1'] = \"H2I\"\n",
    "    element_map['H2_2'] = \"H2II\"\n",
    "    element_map['H_m0'] = \"HM\"\n",
    "    element_map['He_1'] = \"HeI\"\n",
    "    element_map['He_2'] = \"HeII\"\n",
    "    element_map['He_3'] = \"HeIII\"\n",
    "    element_map[\"de\"]   = \"de\"\n",
    "    element_map['density'] = 'density'\n",
    "    \n",
    "    fc = FluidContainer(my_chemistry, 1)\n",
    "    for k, v in init_dict.items():\n",
    "        if k in element_map:\n",
    "            fc[element_map[k]][:] = v*1.67e-24\n",
    "    fc['energy'][:] = init_dict['ge']\n",
    "    \n",
    "    print(fc)\n",
    "    \n",
    "    safety_factor = 0.01\n",
    "    data = evolve_constant_density(fc, final_time = dt, safety_factor=0.01)\n",
    "    return fc, data"
   ]
  },
  {
   "cell_type": "code",
   "execution_count": 6,
   "metadata": {},
   "outputs": [],
   "source": [
    "def setup_primordial_network():\n",
    "    \"\"\"Initial a ChemicalNetwork object\n",
    "    for primordial network 9-species model\n",
    "    Return:\n",
    "     primordial: ChemicalNetwork with primordial reactions and cooling\n",
    "    \"\"\"\n",
    "    # this register all the rates specified in `primordial_rates.py`\n",
    "    dengo.primordial_rates.setup_primordial()\n",
    "\n",
    "    # initialize the chmical network object\n",
    "    primordial = ChemicalNetwork()\n",
    "\n",
    "    # add all the reactions\n",
    "    primordial.add_reaction(\"k01\")\n",
    "    primordial.add_reaction(\"k02\")\n",
    "    primordial.add_reaction(\"k03\")\n",
    "    primordial.add_reaction(\"k04\")\n",
    "    primordial.add_reaction(\"k05\")\n",
    "    primordial.add_reaction(\"k06\")\n",
    "    primordial.add_reaction(\"k07\")\n",
    "    primordial.add_reaction(\"k08\")\n",
    "    primordial.add_reaction(\"k09\")\n",
    "    primordial.add_reaction(\"k10\")\n",
    "    primordial.add_reaction(\"k11\")\n",
    "    primordial.add_reaction(\"k12\")\n",
    "    primordial.add_reaction(\"k13\")\n",
    "    primordial.add_reaction(\"k14\")\n",
    "    primordial.add_reaction(\"k15\")\n",
    "    primordial.add_reaction(\"k16\")\n",
    "    primordial.add_reaction(\"k17\")\n",
    "    primordial.add_reaction(\"k18\")\n",
    "    primordial.add_reaction(\"k19\")\n",
    "    primordial.add_reaction(\"k21\")\n",
    "    primordial.add_reaction(\"k22\")\n",
    "    primordial.add_reaction(\"k23\")\n",
    "\n",
    "    primordial.add_cooling(\"brem\")\n",
    "    primordial.add_cooling(\"reHII\")\n",
    "    primordial.add_cooling(\"reHeIII\")\n",
    "    primordial.add_cooling(\"gloverabel08\")\n",
    "    primordial.add_cooling(\"ceHI\")\n",
    "    primordial.add_cooling(\"h2formation\")\n",
    "    primordial.add_cooling(\"h2formation_extra\")\n",
    "    primordial.add_cooling(\"reHeII2\")\n",
    "    primordial.add_cooling(\"reHeII1\")\n",
    "    primordial.add_cooling(\"ciHeIS\")\n",
    "    primordial.add_cooling(\"ceHeII\")\n",
    "    primordial.add_cooling(\"ciHI\")\n",
    "    primordial.add_cooling(\"ceHeI\")\n",
    "    primordial.add_cooling(\"gammah\")\n",
    "    primordial.add_cooling(\"ciHeI\")\n",
    "    primordial.add_cooling(\"ciHeII\")\n",
    "    primordial.add_cooling(\"cie_cooling\")\n",
    "    primordial.add_cooling(\"compton\")\n",
    "\n",
    "    # This defines the temperature range for the rate tables\n",
    "    primordial.init_temperature((1e0, 1e8))\n",
    "\n",
    "    #primordial.enforce_conservation = True\n",
    "    #primordial.set_equilibrium_species(\"H2_2\")\n",
    "\n",
    "    return primordial"
   ]
  },
  {
   "cell_type": "code",
   "execution_count": 7,
   "metadata": {},
   "outputs": [
    {
     "name": "stdout",
     "output_type": "stream",
     "text": [
      "Adding reaction: k01 : 1*H_1 + 1*de => 1*H_2 + 2*de\n",
      "Adding reaction: k02 : 1*H_2 + 1*de => 1*H_1\n",
      "Adding reaction: k03 : 1*He_1 + 1*de => 1*He_2 + 2*de\n",
      "Adding reaction: k04 : 1*He_2 + 1*de => 1*He_1\n",
      "Adding reaction: k05 : 1*He_2 + 1*de => 1*He_3 + 2*de\n",
      "Adding reaction: k06 : 1*He_3 + 1*de => 1*He_2\n",
      "Adding reaction: k07 : 1*H_1 + 1*de => 1*H_m0\n",
      "Adding reaction: k08 : 1*H_m0 + 1*H_1 => 1*H2_1 + 1*de\n",
      "Adding reaction: k09 : 1*H_1 + 1*H_2 => 1*H2_2\n",
      "Adding reaction: k10 : 1*H2_2 + 1*H_1 => 1*H2_1 + 1*H_2\n",
      "Adding reaction: k11 : 1*H2_1 + 1*H_2 => 1*H2_2 + 1*H_1\n",
      "Adding reaction: k12 : 1*H2_1 + 1*de => 2*H_1 + 1*de\n",
      "Adding reaction: k13 : 1*H2_1 + 1*H_1 => 3*H_1\n",
      "Adding reaction: k14 : 1*H_m0 + 1*de => 1*H_1 + 2*de\n",
      "Adding reaction: k15 : 1*H_m0 + 1*H_1 => 2*H_1 + 1*de\n",
      "Adding reaction: k16 : 1*H_m0 + 1*H_2 => 2*H_1\n",
      "Adding reaction: k17 : 1*H_m0 + 1*H_2 => 1*H2_2 + 1*de\n",
      "Adding reaction: k18 : 1*H2_2 + 1*de => 2*H_1\n",
      "Adding reaction: k19 : 1*H2_2 + 1*H_m0 => 1*H_1 + 1*H2_1\n",
      "Adding reaction: k21 : 2*H_1 + 1*H2_1 => 2*H2_1\n",
      "Adding reaction: k22 : 2*H_1 + 1*H_1 => 1*H2_1 + 1*H_1\n",
      "Adding reaction: k23 : 1*H2_1 + 1*H2_1 => 2*H_1 + 1*H2_1\n"
     ]
    }
   ],
   "source": [
    "dengo_network = setup_primordial_network()"
   ]
  },
  {
   "cell_type": "code",
   "execution_count": 8,
   "metadata": {},
   "outputs": [],
   "source": [
    "import numpy as np\n",
    "kboltz = 1.38e-16\n",
    "\n",
    "\n",
    "tiny = 1e-20\n",
    "def setup_initial_conditions(network, density, temperature, h2frac, NCELLS):\n",
    "    # setting initial conditions\n",
    "    temperature = np.ones((NCELLS))*temperature\n",
    "    init_array = np.ones(NCELLS) * density\n",
    "    init_values = dict()\n",
    "    init_values[\"H_1\"] = (init_array * 0.76) / (1+h2frac)\n",
    "    init_values['H_2'] = init_array * tiny\n",
    "    init_values['H_m0'] = init_array * tiny\n",
    "    init_values['He_1'] = init_array * 0.24\n",
    "    init_values['He_2'] = init_array * tiny\n",
    "    init_values['He_3'] = init_array * tiny\n",
    "    init_values['H2_1'] = init_array * 0.76 * h2frac / (1+h2frac)\n",
    "    init_values['H2_2'] = init_array * tiny\n",
    "    init_values['de'] = init_array * tiny\n",
    "\n",
    "    # update and calculate electron density and etc with the handy functions\n",
    "    # init_values = primordial.convert_to_mass_density(init_values)\n",
    "    init_values['de'] = network.calculate_free_electrons(init_values)\n",
    "    # init_values['density'] = primordial.calculate_total_density(init_values)\n",
    "    init_values['density'] = np.ones((NCELLS))*density\n",
    "    number_density = network.calculate_number_density(init_values)\n",
    "\n",
    "    # set up initial temperatures values used to define ge\n",
    "    init_values['T'] = temperature\n",
    "\n",
    "    # calculate ge (very crudely, no H2 help here)\n",
    "    gamma = 5.0/3.0\n",
    "    mH = 1.67e-24\n",
    "    init_values[\"ge\"] = 3.0 / 2.0 * temperature * kboltz / mH\n",
    "\n",
    "    return init_values"
   ]
  },
  {
   "cell_type": "code",
   "execution_count": 43,
   "metadata": {},
   "outputs": [],
   "source": [
    "import yt\n",
    "density = 1e0\n",
    "temperature = 1000.0\n",
    "h2frac      = 1e-3\n",
    "\n",
    "dtf = 1e-1 / (yt.units.G * yt.units.mh / yt.units.cm**3 * density)**0.5\n",
    "init_values = setup_initial_conditions(dengo_network, density, temperature, h2frac, 1)"
   ]
  },
  {
   "cell_type": "code",
   "execution_count": 44,
   "metadata": {},
   "outputs": [
    {
     "name": "stdout",
     "output_type": "stream",
     "text": [
      "{'density': array([1.67e-24]), 'metal': array([0.]), 'dust': array([0.]), 'HI': array([1.26793207e-24]), 'HII': array([1.67e-44]), 'HeI': array([4.008e-25]), 'HeII': array([1.67e-44]), 'HeIII': array([1.67e-44]), 'de': array([2.08668578e-44]), 'H2I': array([1.26793207e-27]), 'H2II': array([1.67e-44]), 'HM': array([1.67e-44]), 'H2_self_shielding_length': array([0.]), 'energy': array([1.23952096e+11]), 'x-velocity': array([0.]), 'y-velocity': array([0.]), 'z-velocity': array([0.]), 'temperature': array([0.]), 'dust_temperature': array([0.]), 'pressure': array([0.]), 'gamma': array([0.]), 'cooling_time': array([0.]), 'mu': array([0.]), 'nH': array([0.]), 'mean_molecular_weight': array([0.])}\n",
      "Evolve constant density - t: 0.000000e+00 yr, rho: 1.670000e-24 g/cm^3, T: 1.221040e+03 K.\n",
      "Evolve constant density - t: 1.024199e+05 yr, rho: 1.670000e-24 g/cm^3, T: 7.247171e+08 K.\n",
      "Evolve constant density - t: 2.048398e+05 yr, rho: 1.670000e-24 g/cm^3, T: 1.449279e+09 K.\n",
      "Evolve constant density - t: 3.072596e+05 yr, rho: 1.670000e-24 g/cm^3, T: 2.172963e+09 K.\n",
      "Evolve constant density - t: 4.096795e+05 yr, rho: 1.670000e-24 g/cm^3, T: 2.894399e+09 K.\n",
      "Evolve constant density - t: 5.120994e+05 yr, rho: 1.670000e-24 g/cm^3, T: 3.610692e+09 K.\n",
      "Evolve constant density - t: 6.145193e+05 yr, rho: 1.670000e-24 g/cm^3, T: 4.316562e+09 K.\n",
      "Evolve constant density - t: 7.169392e+05 yr, rho: 1.670000e-24 g/cm^3, T: 5.004085e+09 K.\n",
      "Evolve constant density - t: 8.193590e+05 yr, rho: 1.670000e-24 g/cm^3, T: 5.663380e+09 K.\n",
      "Evolve constant density - t: 9.217789e+05 yr, rho: 1.670000e-24 g/cm^3, T: 6.283961e+09 K.\n",
      "Evolve constant density - t: 1.024199e+06 yr, rho: 1.670000e-24 g/cm^3, T: 6.856409e+09 K.\n",
      "Evolve constant density - t: 1.126619e+06 yr, rho: 1.670000e-24 g/cm^3, T: 7.373663e+09 K.\n",
      "Evolve constant density - t: 1.229039e+06 yr, rho: 1.670000e-24 g/cm^3, T: 7.831856e+09 K.\n",
      "Evolve constant density - t: 1.331458e+06 yr, rho: 1.670000e-24 g/cm^3, T: 8.230267e+09 K.\n",
      "Evolve constant density - t: 1.433878e+06 yr, rho: 1.670000e-24 g/cm^3, T: 8.571084e+09 K.\n",
      "Evolve constant density - t: 1.536298e+06 yr, rho: 1.670000e-24 g/cm^3, T: 8.858398e+09 K.\n",
      "Evolve constant density - t: 1.638718e+06 yr, rho: 1.670000e-24 g/cm^3, T: 9.097621e+09 K.\n",
      "Evolve constant density - t: 1.741138e+06 yr, rho: 1.670000e-24 g/cm^3, T: 9.294787e+09 K.\n",
      "Evolve constant density - t: 1.843558e+06 yr, rho: 1.670000e-24 g/cm^3, T: 9.455949e+09 K.\n",
      "Evolve constant density - t: 1.945978e+06 yr, rho: 1.670000e-24 g/cm^3, T: 9.586627e+09 K.\n",
      "Evolve constant density - t: 2.048398e+06 yr, rho: 1.670000e-24 g/cm^3, T: 9.692067e+09 K.\n",
      "Evolve constant density - t: 2.150817e+06 yr, rho: 1.670000e-24 g/cm^3, T: 9.776657e+09 K.\n",
      "Evolve constant density - t: 2.253237e+06 yr, rho: 1.670000e-24 g/cm^3, T: 9.844358e+09 K.\n",
      "Evolve constant density - t: 2.355657e+06 yr, rho: 1.670000e-24 g/cm^3, T: 9.898325e+09 K.\n",
      "Evolve constant density - t: 2.458077e+06 yr, rho: 1.670000e-24 g/cm^3, T: 9.941260e+09 K.\n",
      "Evolve constant density - t: 2.560497e+06 yr, rho: 1.670000e-24 g/cm^3, T: 9.975365e+09 K.\n",
      "Evolve constant density - t: 2.662917e+06 yr, rho: 1.670000e-24 g/cm^3, T: 1.000237e+10 K.\n",
      "Evolve constant density - t: 2.765337e+06 yr, rho: 1.670000e-24 g/cm^3, T: 1.002376e+10 K.\n",
      "Evolve constant density - t: 2.867757e+06 yr, rho: 1.670000e-24 g/cm^3, T: 1.004069e+10 K.\n",
      "Evolve constant density - t: 2.970177e+06 yr, rho: 1.670000e-24 g/cm^3, T: 1.005407e+10 K.\n",
      "Evolve constant density - t: 3.072596e+06 yr, rho: 1.670000e-24 g/cm^3, T: 1.006463e+10 K.\n",
      "Evolve constant density - t: 3.175016e+06 yr, rho: 1.670000e-24 g/cm^3, T: 1.007294e+10 K.\n",
      "Evolve constant density - t: 3.277436e+06 yr, rho: 1.670000e-24 g/cm^3, T: 1.007949e+10 K.\n",
      "Evolve constant density - t: 3.379856e+06 yr, rho: 1.670000e-24 g/cm^3, T: 1.008464e+10 K.\n",
      "Evolve constant density - t: 3.482276e+06 yr, rho: 1.670000e-24 g/cm^3, T: 1.008871e+10 K.\n",
      "Evolve constant density - t: 3.584696e+06 yr, rho: 1.670000e-24 g/cm^3, T: 1.009191e+10 K.\n",
      "Evolve constant density - t: 3.687116e+06 yr, rho: 1.670000e-24 g/cm^3, T: 1.009444e+10 K.\n",
      "Evolve constant density - t: 3.789536e+06 yr, rho: 1.670000e-24 g/cm^3, T: 1.009643e+10 K.\n",
      "Evolve constant density - t: 3.891955e+06 yr, rho: 1.670000e-24 g/cm^3, T: 1.009800e+10 K.\n",
      "Evolve constant density - t: 3.994375e+06 yr, rho: 1.670000e-24 g/cm^3, T: 1.009925e+10 K.\n",
      "Evolve constant density - t: 4.096795e+06 yr, rho: 1.670000e-24 g/cm^3, T: 1.010023e+10 K.\n",
      "Evolve constant density - t: 4.199215e+06 yr, rho: 1.670000e-24 g/cm^3, T: 1.010100e+10 K.\n",
      "Evolve constant density - t: 4.301635e+06 yr, rho: 1.670000e-24 g/cm^3, T: 1.010161e+10 K.\n",
      "Evolve constant density - t: 4.404055e+06 yr, rho: 1.670000e-24 g/cm^3, T: 1.010209e+10 K.\n",
      "Evolve constant density - t: 4.506475e+06 yr, rho: 1.670000e-24 g/cm^3, T: 1.010247e+10 K.\n",
      "Evolve constant density - t: 4.608895e+06 yr, rho: 1.670000e-24 g/cm^3, T: 1.010277e+10 K.\n",
      "Evolve constant density - t: 4.711314e+06 yr, rho: 1.670000e-24 g/cm^3, T: 1.010301e+10 K.\n",
      "Evolve constant density - t: 4.813734e+06 yr, rho: 1.670000e-24 g/cm^3, T: 1.010320e+10 K.\n",
      "Evolve constant density - t: 4.916154e+06 yr, rho: 1.670000e-24 g/cm^3, T: 1.010334e+10 K.\n",
      "Evolve constant density - t: 5.018574e+06 yr, rho: 1.670000e-24 g/cm^3, T: 1.010346e+10 K.\n",
      "Evolve constant density - t: 5.120994e+06 yr, rho: 1.670000e-24 g/cm^3, T: 1.010355e+10 K.\n",
      "Evolve constant density - t: 5.223414e+06 yr, rho: 1.670000e-24 g/cm^3, T: 1.010363e+10 K.\n",
      "Evolve constant density - t: 5.325834e+06 yr, rho: 1.670000e-24 g/cm^3, T: 1.010368e+10 K.\n",
      "Evolve constant density - t: 5.428254e+06 yr, rho: 1.670000e-24 g/cm^3, T: 1.010373e+10 K.\n",
      "Evolve constant density - t: 5.530673e+06 yr, rho: 1.670000e-24 g/cm^3, T: 1.010376e+10 K.\n",
      "Evolve constant density - t: 5.633093e+06 yr, rho: 1.670000e-24 g/cm^3, T: 1.010379e+10 K.\n",
      "Evolve constant density - t: 5.735513e+06 yr, rho: 1.670000e-24 g/cm^3, T: 1.010381e+10 K.\n",
      "Evolve constant density - t: 5.837933e+06 yr, rho: 1.670000e-24 g/cm^3, T: 1.010383e+10 K.\n",
      "Evolve constant density - t: 5.940353e+06 yr, rho: 1.670000e-24 g/cm^3, T: 1.010385e+10 K.\n",
      "Evolve constant density - t: 6.042773e+06 yr, rho: 1.670000e-24 g/cm^3, T: 1.010386e+10 K.\n",
      "Evolve constant density - t: 6.145193e+06 yr, rho: 1.670000e-24 g/cm^3, T: 1.010386e+10 K.\n",
      "Evolve constant density - t: 6.247613e+06 yr, rho: 1.670000e-24 g/cm^3, T: 1.010387e+10 K.\n",
      "Evolve constant density - t: 6.350033e+06 yr, rho: 1.670000e-24 g/cm^3, T: 1.010388e+10 K.\n",
      "Evolve constant density - t: 6.452452e+06 yr, rho: 1.670000e-24 g/cm^3, T: 1.010388e+10 K.\n",
      "Evolve constant density - t: 6.554872e+06 yr, rho: 1.670000e-24 g/cm^3, T: 1.010388e+10 K.\n",
      "Evolve constant density - t: 6.657292e+06 yr, rho: 1.670000e-24 g/cm^3, T: 1.010389e+10 K.\n",
      "Evolve constant density - t: 6.759712e+06 yr, rho: 1.670000e-24 g/cm^3, T: 1.010389e+10 K.\n",
      "Evolve constant density - t: 6.862132e+06 yr, rho: 1.670000e-24 g/cm^3, T: 1.010389e+10 K.\n",
      "Evolve constant density - t: 6.964552e+06 yr, rho: 1.670000e-24 g/cm^3, T: 1.010389e+10 K.\n",
      "Evolve constant density - t: 7.066972e+06 yr, rho: 1.670000e-24 g/cm^3, T: 1.010389e+10 K.\n",
      "Evolve constant density - t: 7.169392e+06 yr, rho: 1.670000e-24 g/cm^3, T: 1.010389e+10 K.\n",
      "Evolve constant density - t: 7.271811e+06 yr, rho: 1.670000e-24 g/cm^3, T: 1.010389e+10 K.\n",
      "Evolve constant density - t: 7.374231e+06 yr, rho: 1.670000e-24 g/cm^3, T: 1.010389e+10 K.\n",
      "Evolve constant density - t: 7.476651e+06 yr, rho: 1.670000e-24 g/cm^3, T: 1.010390e+10 K.\n",
      "Evolve constant density - t: 7.579071e+06 yr, rho: 1.670000e-24 g/cm^3, T: 1.010390e+10 K.\n",
      "Evolve constant density - t: 7.681491e+06 yr, rho: 1.670000e-24 g/cm^3, T: 1.010390e+10 K.\n",
      "Evolve constant density - t: 7.783911e+06 yr, rho: 1.670000e-24 g/cm^3, T: 1.010390e+10 K.\n",
      "Evolve constant density - t: 7.886331e+06 yr, rho: 1.670000e-24 g/cm^3, T: 1.010390e+10 K.\n",
      "Evolve constant density - t: 7.988751e+06 yr, rho: 1.670000e-24 g/cm^3, T: 1.010390e+10 K.\n",
      "Evolve constant density - t: 8.091170e+06 yr, rho: 1.670000e-24 g/cm^3, T: 1.010390e+10 K.\n",
      "Evolve constant density - t: 8.193590e+06 yr, rho: 1.670000e-24 g/cm^3, T: 1.010390e+10 K.\n",
      "Evolve constant density - t: 8.296010e+06 yr, rho: 1.670000e-24 g/cm^3, T: 1.010390e+10 K.\n",
      "Evolve constant density - t: 8.398430e+06 yr, rho: 1.670000e-24 g/cm^3, T: 1.010390e+10 K.\n",
      "Evolve constant density - t: 8.500850e+06 yr, rho: 1.670000e-24 g/cm^3, T: 1.010390e+10 K.\n",
      "Evolve constant density - t: 8.603270e+06 yr, rho: 1.670000e-24 g/cm^3, T: 1.010390e+10 K.\n",
      "Evolve constant density - t: 8.705690e+06 yr, rho: 1.670000e-24 g/cm^3, T: 1.010390e+10 K.\n",
      "Evolve constant density - t: 8.808110e+06 yr, rho: 1.670000e-24 g/cm^3, T: 1.010390e+10 K.\n",
      "Evolve constant density - t: 8.910530e+06 yr, rho: 1.670000e-24 g/cm^3, T: 1.010390e+10 K.\n",
      "Evolve constant density - t: 9.012949e+06 yr, rho: 1.670000e-24 g/cm^3, T: 1.010390e+10 K.\n",
      "Evolve constant density - t: 9.115369e+06 yr, rho: 1.670000e-24 g/cm^3, T: 1.010390e+10 K.\n",
      "Evolve constant density - t: 9.217789e+06 yr, rho: 1.670000e-24 g/cm^3, T: 1.010390e+10 K.\n",
      "Evolve constant density - t: 9.320209e+06 yr, rho: 1.670000e-24 g/cm^3, T: 1.010390e+10 K.\n",
      "Evolve constant density - t: 9.422629e+06 yr, rho: 1.670000e-24 g/cm^3, T: 1.010390e+10 K.\n"
     ]
    }
   ],
   "source": [
    "import os\n",
    "fc, out = run_grackle(init_values, dtf)"
   ]
  },
  {
   "cell_type": "code",
   "execution_count": 82,
   "metadata": {},
   "outputs": [
    {
     "name": "stdout",
     "output_type": "stream",
     "text": [
      "You have suitesparse!\n"
     ]
    },
    {
     "name": "stderr",
     "output_type": "stream",
     "text": [
      "/home/kwoksun2/anaconda3/lib/python3.8/site-packages/Cython/Compiler/Main.py:369: FutureWarning: Cython directive 'language_level' not set, using 2 for now (Py2). This will change in a later release! File: /home/kwoksun2/dengo-merge/cookbook/test_grackle_solver_run.pxd\n",
      "  tree = Parsing.p_module(s, pxd, full_module_name)\n"
     ]
    }
   ],
   "source": [
    "# compile a BE chem solve one\n",
    "import pyximport\n",
    "import os\n",
    "import numpy as np\n",
    "\n",
    "solver_name = \"test_grackle\"\n",
    "output_dir  = '.'\n",
    "network = dengo_network\n",
    "\n",
    "# specify the library path\n",
    "os.environ[\"HDF5_DIR\"] = \"/home/kwoksun2/anaconda3\"\n",
    "os.environ[\"CVODE_PATH\"] = \"/home/kwoksun2/dengo-merge/cvode-3.1.0/instdir\"\n",
    "os.environ[\"HDF5_PATH\"]  = \"/home/kwoksun2/anaconda3\"\n",
    "os.environ[\"SUITESPARSE_PATH\"] = \"/home/kwoksun2/dengo-merge/suitesparse\"\n",
    "os.environ[\"DENGO_INSTALL_PATH\"] = \"/home/kwoksun2/dengo_install\"\n",
    "\n",
    "# install the library\n",
    "pyximport.install(setup_args={\"include_dirs\": np.get_include()},\n",
    "                  reload_support=True, inplace=True)\n",
    "\n",
    "network.write_solver(solver_name, output_dir=output_dir,\n",
    "                solver_template=\"cv_omp/sundials_CVDls\",\n",
    "                ode_solver_source=\"initialize_cvode_solver.C\")\n",
    "simple_solver_run = pyximport.load_module(\n",
    "    \"{}_solver_run\".format(solver_name),\n",
    "    \"{}_solver_run.pyx\".format(solver_name),\n",
    "    build_inplace=True, pyxbuild_dir=\"_dengo_temp\")"
   ]
  },
  {
   "cell_type": "code",
   "execution_count": 81,
   "metadata": {},
   "outputs": [
    {
     "data": {
      "text/plain": [
       "{'H_1': array([75999999.24000001]),\n",
       " 'H_2': array([1.e-12]),\n",
       " 'H_m0': array([1.e-12]),\n",
       " 'He_1': array([24000000.]),\n",
       " 'He_2': array([1.e-12]),\n",
       " 'He_3': array([1.e-12]),\n",
       " 'H2_1': array([0.75999999]),\n",
       " 'H2_2': array([1.e-12]),\n",
       " 'de': array([1.24951244e-12]),\n",
       " 'density': array([1.e+08]),\n",
       " 'T': array([1000.]),\n",
       " 'ge': array([1.23952096e+11])}"
      ]
     },
     "execution_count": 81,
     "metadata": {},
     "output_type": "execute_result"
    }
   ],
   "source": [
    "init_values"
   ]
  },
  {
   "cell_type": "code",
   "execution_count": 83,
   "metadata": {},
   "outputs": [
    {
     "name": "stdout",
     "output_type": "stream",
     "text": [
      "Successful iteration[    0]: (2.992e+06) 2.992e+06 / 2.992e+10\n",
      "End in 73 iterations: 2.99205e+10 / 2.99205e+10 (0.00000e+00)\n",
      "{'density': array([1.67e-16]), 'metal': array([0.]), 'dust': array([0.]), 'HI': array([1.26919999e-16]), 'HII': array([1.67e-36]), 'HeI': array([4.008e-17]), 'HeII': array([1.67e-36]), 'HeIII': array([1.67e-36]), 'de': array([2.08668578e-36]), 'H2I': array([1.26919999e-24]), 'H2II': array([1.67e-36]), 'HM': array([1.67e-36]), 'H2_self_shielding_length': array([0.]), 'energy': array([1.23952096e+11]), 'x-velocity': array([0.]), 'y-velocity': array([0.]), 'z-velocity': array([0.]), 'temperature': array([0.]), 'dust_temperature': array([0.]), 'pressure': array([0.]), 'gamma': array([0.]), 'cooling_time': array([0.]), 'mu': array([0.]), 'nH': array([0.]), 'mean_molecular_weight': array([0.])}\n",
      "Evolve constant density - t: 0.000000e+00 yr, rho: 1.670000e-16 g/cm^3, T: 1.220851e+03 K.\n"
     ]
    }
   ],
   "source": [
    "density = 1e8\n",
    "temperature = 1000.0\n",
    "h2frac      = 1e-8\n",
    "\n",
    "dtf = 1e-1 / (yt.units.G * yt.units.mh / yt.units.cm**3 * density)**0.5\n",
    "init_values = setup_initial_conditions(dengo_network, density, temperature, h2frac, 1)\n",
    "_, out_dengo       = simple_solver_run.run_test_grackle(init_values,dtf)\n",
    "\n",
    "init_values = setup_initial_conditions(dengo_network, density, temperature, h2frac, 1)\n",
    "fc, out_grackle = run_grackle(init_values, dtf)"
   ]
  },
  {
   "cell_type": "code",
   "execution_count": 84,
   "metadata": {},
   "outputs": [],
   "source": [
    "import matplotlib.pyplot as plt"
   ]
  },
  {
   "cell_type": "code",
   "execution_count": 85,
   "metadata": {},
   "outputs": [
    {
     "data": {
      "text/plain": [
       "[<matplotlib.lines.Line2D at 0x7fa4ed68ccd0>]"
      ]
     },
     "execution_count": 85,
     "metadata": {},
     "output_type": "execute_result"
    },
    {
     "data": {
      "image/png": "[encoded data removed]",
      "text/plain": [
       "<Figure size 432x288 with 1 Axes>"
      ]
     },
     "metadata": {
      "needs_background": "light"
     },
     "output_type": "display_data"
    }
   ],
   "source": [
    "f = out_dengo['successful']\n",
    "t = out_dengo['t'][f]\n",
    "hI = out_dengo['H_1'][0][f]\n",
    "\n",
    "totalH = out_dengo['H_1'][0][f] + out_dengo['H2_1'][0][f] \n",
    "totalH_g = out_grackle['HI'] + out_grackle['H2I']\n",
    "\n",
    "plt.loglog(t, hI/ totalH)\n",
    "\n",
    "t = out_grackle['time']\n",
    "hi = out_grackle['HI']\n",
    "plt.loglog(t, hi/ totalH_g)"
   ]
  },
  {
   "cell_type": "code",
   "execution_count": 86,
   "metadata": {},
   "outputs": [
    {
     "data": {
      "text/plain": [
       "defaultdict(list,\n",
       "            {'density': YTArray([1.67e-16]) g/cm**3,\n",
       "             'metal': YTArray([1.e-20]) g/cm**3,\n",
       "             'dust': YTArray([0.]) g/cm**3,\n",
       "             'HI': YTArray([4.78529163e-26]) g/cm**3,\n",
       "             'HII': YTArray([1.36363068e-29]) g/cm**3,\n",
       "             'HeI': YTArray([4.00775992e-17]) g/cm**3,\n",
       "             'HeII': YTArray([7.51703104e-25]) g/cm**3,\n",
       "             'HeIII': YTArray([7.51703104e-30]) g/cm**3,\n",
       "             'de': YTArray([1.87936353e-25]) g/cm**3,\n",
       "             'H2I': YTArray([1.269124e-16]) g/cm**3,\n",
       "             'H2II': YTArray([1.36363068e-29]) g/cm**3,\n",
       "             'HM': YTArray([1.36363068e-29]) g/cm**3,\n",
       "             'energy': YTArray([1.06456603e+11]) erg/g,\n",
       "             'temperature': YTArray([1058.34185608]) K,\n",
       "             'pressure': YTArray([6.41887329e-06]) dyne/cm**2,\n",
       "             'mu': array([2.01267205]),\n",
       "             'time': YTArray([0.]) s})"
      ]
     },
     "execution_count": 86,
     "metadata": {},
     "output_type": "execute_result"
    }
   ],
   "source": [
    "out_grackle"
   ]
  },
  {
   "cell_type": "code",
   "execution_count": 62,
   "metadata": {},
   "outputs": [
    {
     "data": {
      "text/plain": [
       "YTArray([1.26912390e-16, 1.26912395e-16, 1.26912395e-16, 1.26912395e-16,\n",
       "         1.26912395e-16, 1.26912395e-16, 1.26912395e-16, 1.26912395e-16,\n",
       "         1.26912395e-16, 1.26912395e-16, 1.26912395e-16, 1.26912395e-16,\n",
       "         1.26912395e-16, 1.26912395e-16, 1.26912395e-16, 1.26912395e-16,\n",
       "         1.26912395e-16, 1.26912395e-16, 1.26912395e-16, 1.26912395e-16,\n",
       "         1.26912395e-16, 1.26912395e-16, 1.26912395e-16, 1.26912395e-16,\n",
       "         1.26912395e-16, 1.26912395e-16, 1.26912395e-16, 1.26912395e-16,\n",
       "         1.26912395e-16, 1.26912395e-16, 1.26912395e-16, 1.26912395e-16,\n",
       "         1.26912395e-16, 1.26912395e-16, 1.26912395e-16, 1.26912395e-16,\n",
       "         1.26912395e-16, 1.26912395e-16]) g/cm**3"
      ]
     },
     "execution_count": 62,
     "metadata": {},
     "output_type": "execute_result"
    }
   ],
   "source": [
    "totalH_g"
   ]
  },
  {
   "cell_type": "code",
   "execution_count": 64,
   "metadata": {},
   "outputs": [
    {
     "data": {
      "text/plain": [
       "array([1.26920000e-16, 1.26920000e-16, 1.26920000e-16, 1.26920000e-16,\n",
       "       1.26920000e-16, 1.26920000e-16, 1.26920000e-16, 1.26920000e-16,\n",
       "       1.26920000e-16, 1.26920000e-16, 1.26920000e-16, 1.26920000e-16,\n",
       "       1.26920000e-16, 1.26920000e-16, 1.26920000e-16, 1.26920000e-16,\n",
       "       1.26920000e-16, 1.26920000e-16, 1.26920000e-16, 1.26920000e-16,\n",
       "       1.26920000e-16, 1.26920000e-16, 1.26920000e-16, 1.26920000e-16,\n",
       "       1.26920000e-16, 1.26920000e-16, 1.26920000e-16, 1.26920000e-16,\n",
       "       1.26920000e-16, 1.26920000e-16, 1.26920000e-16, 1.26920000e-16,\n",
       "       1.26920000e-16, 1.26920000e-16, 1.26920000e-16, 1.26920000e-16,\n",
       "       1.26920000e-16, 1.26920000e-16, 1.26920000e-16, 1.26920000e-16,\n",
       "       1.26920000e-16, 1.26919999e-16, 1.26919999e-16, 1.26919999e-16,\n",
       "       1.26919999e-16, 1.26919999e-16, 1.26919999e-16, 1.26919999e-16,\n",
       "       1.26919999e-16, 1.26919999e-16, 1.26919999e-16, 1.26919999e-16,\n",
       "       1.26919998e-16, 1.26919998e-16, 1.26919998e-16, 1.26919998e-16,\n",
       "       1.26919998e-16, 1.26919997e-16, 1.26919997e-16, 1.26919997e-16,\n",
       "       1.26919997e-16, 1.26919996e-16, 1.26919996e-16, 1.26919995e-16,\n",
       "       1.26919995e-16, 1.26919994e-16, 1.26919994e-16, 1.26919993e-16,\n",
       "       1.26919993e-16, 1.26919992e-16, 1.26919991e-16, 1.26919990e-16,\n",
       "       1.26919989e-16])"
      ]
     },
     "execution_count": 64,
     "metadata": {},
     "output_type": "execute_result"
    }
   ],
   "source": [
    "totalH*1.67e-24"
   ]
  },
  {
   "cell_type": "code",
   "execution_count": null,
   "metadata": {},
   "outputs": [],
   "source": []
  }
 ],
 "metadata": {
  "kernelspec": {
   "display_name": "Python 3 (ipykernel)",
   "language": "python",
   "name": "python3"
  },
  "language_info": {
   "codemirror_mode": {
    "name": "ipython",
    "version": 3
   },
   "file_extension": ".py",
   "mimetype": "text/x-python",
   "name": "python",
   "nbconvert_exporter": "python",
   "pygments_lexer": "ipython3",
   "version": "3.8.2"
  }
 },
 "nbformat": 4,
 "nbformat_minor": 4
}
