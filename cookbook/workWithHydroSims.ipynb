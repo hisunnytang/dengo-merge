{
 "cells": [
  {
   "cell_type": "markdown",
   "metadata": {},
   "source": [
    "# Interfacing with Hydro Simulations\n",
    "We have come up with a sample script for the combining `dengo` and [enzo](https://github.com/enzo-project/enzo-dev) together. \n",
    "\n",
    "\n",
    "https://github.com/hisunnytang/dengo-templates\n",
    "It is a helper function that helps generate the tmeplates for enzo simulations.\n",
    "\n",
    "\n",
    "## Outline of what `generateEnzoTemplates.py` does\n",
    "- it takes `ChemicalNetwork` as input\n",
    "- Based on the reactions and chemical cooling/ heating, the required scripts are generated from pre-written enzo templates files. \n",
    "- `enzo-templates/templates` contains the `Jinja2` templates files for `enzo`\n",
    "\n",
    "## Compiling Dengo-Enabled Enzo\n",
    "\n",
    "- these can be placed directly to the `enzo/src/enzo` directory\n",
    "- Dengo-enabled enzo can be built by make dengo-yes grackle-no, below shows the example snippit from make show-config\n",
    "```Make\n",
    "CONFIG_GRACKLE  [grackle-{yes,no}]                        : no\n",
    "CONFIG_DENGO    [dengo-{yes,no}]                          : yes\n",
    "```\n",
    "\n",
    "- Specify paths to various libraries\n",
    "```\n",
    "LOCAL_DENGO_INSTALL = {{network._dengo_install_path}}\n",
    "LOCAL_CVODE_INSTALL = {{network._cvode_path}}\n",
    "LOCAL_SUITESPARSE_INSTALL = {{network._suitesparse_path}}\n",
    "```\n",
    "\n",
    "- Compile `Enzo`!\n",
    "\n",
    "```{note}\n",
    "A example workflow is documented under https://github.com/hisunnytang/test-enzo-dengo.\n",
    "```\n",
    "\n",
    "```{note}\n",
    "Currently it works with the particular commit: `git checkout d84c2415b7914c7bab729c2d818b5af8c85c1918`. Checkout this particular commit for a working integration. We will work to incorporate it to more recent versions of Enzo\n",
    "```"
   ]
  }
 ],
 "metadata": {
  "kernelspec": {
   "display_name": "Python 3 (ipykernel)",
   "language": "python",
   "name": "python3"
  },
  "language_info": {
   "codemirror_mode": {
    "name": "ipython",
    "version": 3
   },
   "file_extension": ".py",
   "mimetype": "text/x-python",
   "name": "python",
   "nbconvert_exporter": "python",
   "pygments_lexer": "ipython3",
   "version": "3.8.2"
  }
 },
 "nbformat": 4,
 "nbformat_minor": 4
}
